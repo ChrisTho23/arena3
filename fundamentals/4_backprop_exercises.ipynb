{
  "cells": [
    {
      "cell_type": "markdown",
      "source": [
        "# [0.4] - Build Your Own Backpropagation Framework\n"
      ],
      "metadata": {
        "id": "Djt6-1COMPGt"
      }
    },
    {
      "cell_type": "markdown",
      "metadata": {
        "id": "8E2X-EcX1wih"
      },
      "source": [
        "Colab: [exercises](https://colab.research.google.com/drive/1el3ba9T6ORczG7prKzKe1iKZnR9xspYz) | [solutions](https://colab.research.google.com/drive/19fhocNzLbCmYDOsMKn9h8Ps7yTwnKNVN)\n",
        "\n",
        "ARENA 3.0 [Streamlit page](https://arena3-chapter0-fundamentals.streamlit.app/[0.4]_Backprop)\n",
        "\n",
        "Please send any problems / bugs on the `#errata` channel in the [Slack group](https://join.slack.com/t/arena-uk/shared_invite/zt-2noug8mpy-TRYbCnc3pzj7ITNrZIjKww), and ask any questions on the dedicated channels for this chapter of material.\n"
      ]
    },
    {
      "cell_type": "markdown",
      "metadata": {
        "id": "8wPHw31K_-wy"
      },
      "source": [
        "<img src=\"https://raw.githubusercontent.com/callummcdougall/Fundamentals/main/images/backprop.png\" width=\"350\">\n"
      ]
    },
    {
      "cell_type": "markdown",
      "metadata": {
        "id": "F4j-sXLBAJyP"
      },
      "source": [
        "# Introduction"
      ]
    },
    {
      "cell_type": "markdown",
      "metadata": {
        "id": "-R4-VQCRAM18"
      },
      "source": [
        "Today you're going to build your very own system that can run the backpropagation algorithm in essentially the same way as PyTorch does. By the end of the day, you'll be able to train a multi-layer perceptron neural network, using your own backprop system!\n",
        "\n",
        "The main differences between the full PyTorch and our version are:\n",
        "\n",
        "* We will focus on CPU only, as all the ideas are the same on GPU.\n",
        "* We will use NumPy arrays internally instead of ATen, the C++ array type used by PyTorch. Backpropagation works independently of the array type.\n",
        "* A real `torch.Tensor` has about 700 fields and methods. We will only implement a subset that are particularly instructional and/or necessary to train the MLP.\n",
        "\n",
        "Note - for today, I'd lean a lot more towards being willing to read the solutions, and even move on from some of them if you don't fully understand them. The low-level messy implementation details for today are much less important than the high-level conceptual takeaways.\n",
        "\n",
        "Also, if you don't have enough time to finish all sections (which is understandable, because there's a *lot* of content today!), I'd focus on sections **Introduction** and **Autograd**, since conceptually these are the most important. Once you've done both of these, you should have a strong working understanding of the mechanics of backpropagation. If you've finished these sections but you still have some time, others I'd recommend taking a closer look at the backwards functions for matrix multiplication (at the end of section 3) and the `NoGrad` context manager (near the end of section 4)."
      ]
    },
    {
      "cell_type": "markdown",
      "metadata": {
        "id": "m0yObcufCZgX"
      },
      "source": [
        "## Content & Learning Objectives\n"
      ]
    },
    {
      "cell_type": "markdown",
      "metadata": {
        "id": "5to01dSnCZgX"
      },
      "source": [
        "### 1️⃣ Introduction to backprop\n",
        "\n",
        "This takes you through what a **computational graph** is, and the basics of how gradients can be backpropagated through such a graph. You'll also implement the backwards versions of some basic functions: if we have tensors `output = func(input)`, then the backward function of `func` can calculate the grad of `input` as a function of the grad of `output`.\n",
        "\n",
        "> ##### Learning Objectives\n",
        ">\n",
        "> * Understand what a computational graph is, and how it can be used to calculate gradients.\n",
        "> * Start to implement backwards versions of some basic functions.\n",
        "\n",
        "### 2️⃣ Autograd\n",
        "\n",
        "This section goes into more detail on the backpropagation methodology. In order to find the `grad` of each tensor in a computational graph, we first have to perform a **topological sort** of the tensors in the graph, so that each time we try to calculate `tensor.grad`, we've already computed all the other gradients which are used in this calculation. We end this section by writing a `backprop` function, which works just like the `tensor.backward()` method you're already used to in PyTorch.\n",
        "\n",
        "> ##### Learning Objectives\n",
        ">\n",
        "> * Perform a topological sort of a computational graph (and understand why this is important).\n",
        "> * Implement a the `backprop` function, to calculate and store gradients for all tensors in a computational graph.\n",
        "\n",
        "### 3️⃣ More forward & backward functions\n",
        "\n",
        "Now that we've established the basics, this section allows you to add more forward and backward functions, extending the set of functions we can use in our computational graph.\n",
        "\n",
        "> ##### Learning Objectives\n",
        ">\n",
        "> * Implement more forward and backward functions, including for\n",
        ">   * Indexing\n",
        ">   * Non-differentiable functions\n",
        ">   * Matrix multiplication\n",
        "\n",
        "### 4️⃣ Putting everything together\n",
        "\n",
        "In this section, we build your own equivalents of `torch.nn` features like `nn.Parameter`, `nn.Module`, and `nn.Linear`. We can then use these to build our own neural network to classify MINST data.\n",
        "\n",
        "This completes the chain which starts at basic numpy arrays, and ends with us being able to build essentially any neural network architecture we want!\n",
        "\n",
        "> ##### Learning Objectives\n",
        ">\n",
        "> * Complete the process of building up a neural network from scratch and training it via gradient descent.\n",
        "\n",
        "### 5️⃣ Bonus\n",
        "\n",
        "A few bonus exercises are suggested, for pushing your understanding of backpropagation further.\n"
      ]
    },
    {
      "cell_type": "markdown",
      "metadata": {
        "id": "HmahvJDAAPg3"
      },
      "source": [
        "## Setup (don't read, just run!)\n"
      ]
    },
    {
      "cell_type": "code",
      "execution_count": 1,
      "metadata": {
        "id": "uxDZrelYBDFh",
        "colab": {
          "base_uri": "https://localhost:8080/"
        },
        "outputId": "4f1be85f-01df-468f-9450-88b4d56ad91f"
      },
      "outputs": [
        {
          "output_type": "stream",
          "name": "stdout",
          "text": [
            "Imports & installations complete!\n"
          ]
        }
      ],
      "source": [
        "try:\n",
        "    import google.colab\n",
        "    IN_COLAB = True\n",
        "except:\n",
        "    IN_COLAB = False\n",
        "\n",
        "if IN_COLAB:\n",
        "    # Install packages\n",
        "    %pip install einops\n",
        "    %pip install jaxtyping\n",
        "\n",
        "    # Code to make sure output widgets display\n",
        "    from google.colab import output\n",
        "    output.enable_custom_widget_manager()\n",
        "\n",
        "    # Code to download the necessary files (e.g. solutions, test funcs)\n",
        "    import os, sys\n",
        "    if not os.path.exists(\"chapter0_fundamentals\"):\n",
        "        !wget https://github.com/callummcdougall/ARENA_3.0/archive/refs/heads/arena_pre_v4.zip\n",
        "        !unzip /content/arena_pre_v4.zip 'ARENA_3.0-arena_pre_v4/chapter0_fundamentals/exercises/*'\n",
        "        os.remove(\"/content/arena_pre_v4.zip\")\n",
        "        os.rename(\"ARENA_3.0-arena_pre_v4/chapter0_fundamentals\", \"chapter0_fundamentals\")\n",
        "        os.rmdir(\"ARENA_3.0-arena_pre_v4\")\n",
        "        sys.path.insert(0, \"chapter0_fundamentals/exercises\")\n",
        "\n",
        "    # Clear output\n",
        "    from IPython.display import clear_output\n",
        "    clear_output()\n",
        "    print(\"Imports & installations complete!\")\n",
        "\n",
        "else:\n",
        "    raise Exception(\"If running from VSCode, you should copy code from the Streamlit page, not the Colab.\")"
      ]
    },
    {
      "cell_type": "code",
      "execution_count": 2,
      "metadata": {
        "id": "umOykaWHAZ2F"
      },
      "outputs": [],
      "source": [
        "import os\n",
        "import sys\n",
        "import re\n",
        "import time\n",
        "import torch as t\n",
        "import numpy as np\n",
        "from pathlib import Path\n",
        "from collections import defaultdict\n",
        "from dataclasses import dataclass\n",
        "from typing import Any, Callable, Iterator, Iterable, Optional, Union, Dict, List, Tuple\n",
        "from torch.utils.data import DataLoader\n",
        "from tqdm import tqdm\n",
        "\n",
        "Arr = np.ndarray\n",
        "grad_tracking_enabled = True\n",
        "\n",
        "# Get file paths to this set of exercises\n",
        "exercises_dir = Path(\"chapter0_fundamentals/exercises\")\n",
        "section_dir = exercises_dir / \"part4_backprop\"\n",
        "\n",
        "import part4_backprop.tests as tests\n",
        "from part4_backprop.utils import visualize, get_mnist\n",
        "from plotly_utils import line\n",
        "\n",
        "MAIN = __name__ == \"__main__\""
      ]
    },
    {
      "cell_type": "markdown",
      "source": [
        "<details>\n",
        "<summary>Help - I get a NumPy-related error</summary>\n",
        "\n",
        "This is an annoying colab-related issue which I haven't been able to find a satisfying fix for. If you restart runtime (but don't delete runtime), and run just the imports cell above again (but not the `%pip install` cell), the problem should go away.\n",
        "</details>\n"
      ],
      "metadata": {
        "id": "QA_G052YC1Qp"
      }
    },
    {
      "cell_type": "markdown",
      "metadata": {
        "id": "iNMun3lGAcML"
      },
      "source": [
        "# 1️⃣ Introduction to backprop\n"
      ]
    },
    {
      "cell_type": "markdown",
      "metadata": {
        "id": "Lq51XD1PCZgZ"
      },
      "source": [
        "> ## Learning Objectives\n",
        ">\n",
        "> * Understand what a computational graph is, and how it can be used to calculate gradients.\n",
        "> * Start to implement backwards versions of some basic functions.\n"
      ]
    },
    {
      "cell_type": "markdown",
      "metadata": {
        "id": "URnJlKmFAfIU"
      },
      "source": [
        "## Reading\n",
        "\n",
        "* [Calculus on Computational Graphs: Backpropagation (Chris Olah)](https://colah.github.io/posts/2015-08-Backprop/)\n"
      ]
    },
    {
      "cell_type": "markdown",
      "metadata": {
        "id": "waCASVSFBQ_7"
      },
      "source": [
        "## Computing Gradients with Backpropagation\n",
        "\n",
        "This section will briefly review the backpropagation algorithm, but focus mainly on the concrete implementation in software.\n",
        "\n",
        "To train a neural network, we want to know how the loss would change if we slightly adjust one of the learnable parameters.\n",
        "\n",
        "One obvious and straightforward way to do this would be just to add a small value  to the parameter, and run the forward pass again. This is called finite differences, and the main issue is we need to run a forward pass for every single parameter that we want to adjust. This method is infeasible for large networks, but it's important to know as a way of sanity checking other methods.\n",
        "\n",
        "A second obvious way is to write out the function for the entire network, and then symbolically take the gradient to obtain a symbolic expression for the gradient. This also works and is another thing to check against, but the expression gets quite complicated.\n",
        "\n",
        "Suppose that you have some **computational graph**, and you want to determine the derivative of the some scalar loss L with respect to NumPy arrays a, b, and c:\n"
      ]
    },
    {
      "cell_type": "markdown",
      "metadata": {
        "id": "BZbsGHXBB5We"
      },
      "source": [
        "<img src=\"https://raw.githubusercontent.com/callummcdougall/Fundamentals/main/images/abc_de_L.png\" width=\"400\">\n"
      ]
    },
    {
      "cell_type": "markdown",
      "metadata": {
        "id": "3cWWg9_-B-x1"
      },
      "source": [
        "This graph corresponds to the following Python:\n",
        "\n",
        "```python\n",
        "d = a * b\n",
        "e = b + c\n",
        "L = d + e\n",
        "```\n",
        "\n",
        "The goal of our system is that users can write ordinary looking Python code like this and have all the book-keeping needed to perform backpropagation happen behind the scenes. To do this, we're going to wrap each array and each function in special objects from our library that do the usual thing plus build up this graph structure that we need.\n"
      ]
    },
    {
      "cell_type": "markdown",
      "metadata": {
        "id": "JRojmtVBCAWP"
      },
      "source": [
        "### Backward Functions\n",
        "\n",
        "We've drawn our computation graph from left to right and the arrows pointing to the right, so that in the forward pass, boxes to the right depend on boxes to the left. In the backwards pass, the opposite is true: the gradient of boxes on the left depends on the gradient of boxes on the right.\n",
        "\n",
        "If we want to compute the derivative of $L$ wrt all other variables (as was described in the reading), we should traverse the graph from right to left. Each time we encounter an instance of function application, we can use the chain rule from calculus to proceed one step further to the left. For example, if we have $d = a \\times b$, then:\n",
        "\n",
        "$$\n",
        "\\frac{dL}{da} = \\frac{dL}{dd}\\times \\frac{dd}{da} = \\frac{dL}{dd}\\times b\n",
        "$$\n",
        "\n",
        "Suppose we are working from right to left, trying to calculate $\\frac{dL}{da}$. If we already know the values of the variables $a$, $b$ and $d$, as well as the value of $\\frac{dL}{dd}$, then we can use the following function to find $\\frac{dL}{da}$:\n",
        "\n",
        "$$\n",
        "F(a, b, d, \\frac{\\partial L}{\\partial d}) = \\frac{\\partial L}{\\partial d}\\cdot b\n",
        "$$\n",
        "\n",
        "and we can do something similar when trying to calculate $\\frac{dL}{db}$.\n",
        "\n",
        "In other words, we can take the **\"forward function\"** $(a, b) \\to a \\cdot b$, and for each of its parameters, we can define an associated **\"backwards function\"** which tells us how to compute the gradient wrt this argument using only known quantities as inputs.\n",
        "\n",
        "Ignoring issues of unbroadcasting (which we'll cover later), we could write the backward with respect to the first argument as:\n",
        "\n",
        "```python\n",
        "def multiply_back(grad_out, out, a, b):\n",
        "    '''\n",
        "    Inputs:\n",
        "        grad_out = dL/d(out)\n",
        "        out = a * b\n",
        "\n",
        "    Returns:\n",
        "        dL/da\n",
        "    '''\n",
        "    return grad_out * b\n",
        "```\n",
        "\n",
        "where `grad_out` is the gradient of the output of the function with respect to the loss (i.e. $\\frac{dL}{dd}$), `out` is the output of the function (i.e. $d$), and `a` and `b` are our inputs.\n"
      ]
    },
    {
      "cell_type": "markdown",
      "metadata": {
        "id": "Rx6uDQc9CA1R"
      },
      "source": [
        "### Topological Ordering\n",
        "\n",
        "When we're actually doing backprop, how do we guarantee that we'll always know the value of our backwards functions' inputs? For instance, in the example above we couldn't have computed $\\frac{dL}{da}$ without first knowing $\\frac{dL}{dd}$.\n",
        "\n",
        "The answer is that we sort all our nodes using an algorithm called [topological sorting](https://en.wikipedia.org/wiki/Topological_sorting), and then do our computations in this order. After each computation, we store the gradients in our nodes for use in subsequent calculations.\n",
        "\n",
        "When described in terms of the diagram above, topological sort can be thought of as an ordering of nodes from right to left. Crucially, this sorting has the following property: if there is a directed path in the computational graph going from node `x` to node `y`, then `x` must follow `y` in the sorting.\n",
        "\n",
        "There are many ways of proving that a cycle-free directed graph contains a topological ordering. You can try and prove this for yourself, or click on the expander below to reveal the outline of a simple proof.\n"
      ]
    },
    {
      "cell_type": "markdown",
      "metadata": {
        "id": "pDnyoXItCCwh"
      },
      "source": [
        "<details>\n",
        "<summary>Click to reveal proof</summary>\n",
        "\n",
        "We can prove by induction on the number of nodes $N$.\n",
        "    \n",
        "If $N=1$, the problem is trivial.\n",
        "\n",
        "If $N>1$, then pick any node, and follow the arrows until you reach a node with no directed arrows going out of it. Such a node must exist, or else you would be following the arrows forever, and you'd eventually return to a node you previously visited, but this would be a cycle, which is a contradiction. Once you've found this \"root node\", you can put it first in your topological ordering, then remove it from the graph and apply the topological sort on the subgraph created by removing this node. By induction, your topological sorting algorithm on this smaller graph should return a valid ordering. If you append the root node to the start of this ordering, you have a topological ordering for the whole graph.\n",
        "</details>\n"
      ]
    },
    {
      "cell_type": "markdown",
      "metadata": {
        "id": "BqtvX0V8CHei"
      },
      "source": [
        "A quick note on some potentially confusing terminology. We will refer to the \"end node\" as the **root node**, and the \"starting nodes\" as **leaf nodes**. For instance, in the diagram at the top of the section, the left nodes `a`, `b` and `c` are the leaf nodes, and `L` is the root node. This might seem odd given it makes the leaf nodes come before the root nodes, but the reason is as follows: *when we're doing the backpropagation algorithm, we start at `L` and work our way back through the graph*. So, by our notation, we start at the root node and work our way out to the leaves.\n",
        "\n",
        "Another important piece of terminology here is **parent node**. This means the same thing as it does in most other contexts - the parents of node `x` are all the nodes `y` with connections `y -> x` (so in the diagram, `L`'s parents are `d` and `e`).\n"
      ]
    },
    {
      "cell_type": "markdown",
      "metadata": {
        "id": "Noqd8iWDCJAK"
      },
      "source": [
        "<details>\n",
        "<summary>Question - can you think of a reason it might be important for a node to store a list of all of its parent nodes?</summary>\n",
        "\n",
        "During backprop, we're moving from right to left in the diagram. If a node doesn't store its parent, then there will be no way to get access to that parent node during backprop, so we can't propagate gradients to it.\n",
        "</details>\n"
      ]
    },
    {
      "cell_type": "markdown",
      "metadata": {
        "id": "1wW0OYjSCQl_"
      },
      "source": [
        "The very first node in our topological sort will be $L$, the root node.\n"
      ]
    },
    {
      "cell_type": "markdown",
      "metadata": {
        "id": "XmTav-mFCRFl"
      },
      "source": [
        "### Backpropagation\n",
        "\n",
        "After all this setup, the backpropagation mechanism becomes pretty straightforward. We sort the nodes topologically, then we iterate over them and call each backward function exactly once in order to accumulate the gradients at each node.\n",
        "\n",
        "It's important that the grads be accumulated instead of overwritten in a case like value $b$ which has two outgoing edges, since $\\frac{dL}{db}$ will then be the sum of two terms. Since addition is commutative it doesn't matter whether we `backward()` the Mul or the Add that depend on $b$ first.\n",
        "\n",
        "During backpropagation, for each forward function in our computational graph we need to find the partial derivative of the output with respect to each of its inputs. Each partial is then multiplied by the gradient of the loss with respect to the forward functions output (`grad_out`) to find the gradient of the loss with respect to each input. We'll handle these calculations using backward functions.\n"
      ]
    },
    {
      "cell_type": "markdown",
      "metadata": {
        "id": "UPRvIoKqCT0x"
      },
      "source": [
        "## Backward function of log\n",
        "\n",
        "First, we'll write the backward function for `x -> out = log(x)`. This should be a function which, when fed the values `x, out, grad_out = dL/d(out)` returns the value of `dL/dx` just from this particular computational path.\n"
      ]
    },
    {
      "cell_type": "markdown",
      "metadata": {
        "id": "mPyqkVbMCYTU"
      },
      "source": [
        "<img src=\"https://raw.githubusercontent.com/callummcdougall/Fundamentals/main/images/x_log_out.png\" width=\"400\">\n"
      ]
    },
    {
      "cell_type": "markdown",
      "metadata": {
        "id": "pJId5MgjCZBU"
      },
      "source": [
        "Note - it might seem strange at first why we need `x` and `out` to be inputs, `out` can be calculated directly from `x`. The answer is that sometimes it is computationally cheaper to express the derivative in terms of `out` than in terms of `x`.\n"
      ]
    },
    {
      "cell_type": "markdown",
      "metadata": {
        "id": "EyAoX_KaCfU7"
      },
      "source": [
        "<details>\n",
        "<summary>Question - can you think of an example function where it would be computationally cheaper to use 'out' than to use 'x'?</summary>\n",
        "\n",
        "The most obvious answer is the exponential function, `out = e ^ x`. Here, the gradient `d(out)/dx` is equal to `out`. We'll see this when we implement a backward version of `torch.exp` later today.\n",
        "</details>\n"
      ]
    },
    {
      "cell_type": "markdown",
      "metadata": {
        "id": "X8CjBiAXChy2"
      },
      "source": [
        "### Exercise - implement `log_back`\n",
        "\n",
        "```yaml\n",
        "Difficulty: 🔴🔴⚪⚪⚪\n",
        "Importance: 🔵🔵🔵⚪⚪\n",
        "\n",
        "You should spend up to 5-10 minutes on this exercise.\n",
        "```\n"
      ]
    },
    {
      "cell_type": "markdown",
      "metadata": {
        "id": "3KqlLdnLDfCN"
      },
      "source": [
        "You should fill in this function below. Don't worry about division by zero or other edge cases - the goal here is just to see how the pieces of the system fit together.\n",
        "\n",
        "*This should just be a short, one-line function.*\n"
      ]
    },
    {
      "cell_type": "code",
      "execution_count": 3,
      "metadata": {
        "id": "mDmQ11YZDjBc",
        "colab": {
          "base_uri": "https://localhost:8080/"
        },
        "outputId": "623d13c7-7add-49d8-95eb-28c8933582a7"
      },
      "outputs": [
        {
          "output_type": "stream",
          "name": "stdout",
          "text": [
            "All tests in `test_log_back` passed!\n"
          ]
        }
      ],
      "source": [
        "def log_back(grad_out: Arr, out: Arr, x: Arr) -> Arr:\n",
        "    '''Backwards function for f(x) = log(x)\n",
        "\n",
        "    grad_out: Gradient of some loss wrt out\n",
        "    out: the output of np.log(x).\n",
        "    x: the input of np.log.\n",
        "\n",
        "    Return: gradient of the given loss wrt x\n",
        "    '''\n",
        "    return grad_out / x\n",
        "\n",
        "tests.test_log_back(log_back)"
      ]
    },
    {
      "cell_type": "markdown",
      "metadata": {
        "id": "xZYuX8p1CZgb"
      },
      "source": [
        "\n",
        "\n",
        "<details>\n",
        "<summary>Help - I get <code>ImportError: numpy.core.multiarray failed to import</code></summary>\n",
        "\n",
        "This is an annoying colab-related error which I haven't been able to find a satisfying fix for. The setup code at the top of this notebook should have installed a version of numpy which works, although you'll have to click \"Restart Runtime\" (from the Runtime menu) to make this work. Make sure you don't re-run the cell with `pip install`s.\n",
        "\n",
        "If this still doesn't work, please reach out to me at `callum@arena.education`.\n",
        "</details>\n"
      ]
    },
    {
      "cell_type": "markdown",
      "metadata": {
        "id": "YaIg_waODGhR"
      },
      "source": [
        "<details>\n",
        "<summary>Help - I'm not sure what the output of this backward function for log should be.</summary>\n",
        "\n",
        "By the chain rule, we have:\n",
        "\n",
        "$$\n",
        "\\frac{dL}{dx} = \\frac{dL}{d(\\text{out})} \\cdot \\frac{d(\\text{out})}{dx} = \\frac{dL}{d(\\text{out})} \\cdot \\frac{d(\\log{x})}{dx} = \\frac{dL}{d(\\text{out})} \\cdot \\frac{1}{x}\n",
        "$$\n",
        "\n",
        "---\n",
        "\n",
        "(Note - technically, $\\frac{d(\\text{out})}{dx}$ is a tensor containing the derivatives of each element of $\\text{out}$ with respect to each element of $x$, and we should matrix multiply when we use the chain rule. However, since $\\text{out} = \\log x$ is an elementwise function of $x$, our application of the chain rule here will also be an elementwise multiplication: $\\frac{dL}{dx_{ij}} = \\frac{dL}{d(\\text{out}_{ij})} \\cdot \\frac{d(\\text{out}_{ij})}{dx_{ij}}$. When we get to things like matrix multiplication later, we'll have to be a bit more careful!)\n",
        "</details>\n"
      ]
    },
    {
      "cell_type": "markdown",
      "metadata": {
        "id": "PssnzvQMDOeJ"
      },
      "source": [
        "## Backward functions of two tensors\n",
        "\n",
        "Now we'll implement backward functions for multiple tensors. To do so, we first need to understand broadcasting.\n"
      ]
    },
    {
      "cell_type": "markdown",
      "metadata": {
        "id": "eDJJtPLpD4L_"
      },
      "source": [
        "### Broadcasting Rules\n",
        "\n",
        "Both NumPy and PyTorch have the same rules for broadcasting. The shape of the arrays being operated on is compared element-wise, starting from the rightmost dimension and working left. Two dimensions are compatible when\n",
        "\n",
        "* they are equal, or\n",
        "* one of them is 1 (in which case the array is repeated along this dimension to fit into the other one).\n",
        "\n",
        "Two arrays with a different number of dimensions can be operated on, provided the one with fewer dimensions is compatible with the rightmost elements of the one with more dimensions. Another way to picture this is that NumPy appends dimensions of size 1 to the start of the smaller-dimensional array until they both have the same dimensionality, and then their sizes are checked for compatibility.\n",
        "\n",
        "As a warm-up exercise, below are some examples of broadcasting. Can you figure out which are valid, and which will raise errors?\n"
      ]
    },
    {
      "cell_type": "markdown",
      "metadata": {
        "id": "2aO6klpMD5if"
      },
      "source": [
        "```python\n",
        "x = np.ones((3, 1, 5))\n",
        "y = np.ones((1, 4, 5))\n",
        "\n",
        "z = x + y\n",
        "```\n",
        "\n",
        "<details>\n",
        "<summary>Answer</summary>\n",
        "\n",
        "This is valid, because the 0th dimension of `y` and the 1st dimension of `x` can both be copied so that `x` and `y` have the same shape: `(3, 4, 5)`. The resulting array `z` will also have shape `(3, 4, 5)`.\n",
        "</details>\n"
      ]
    },
    {
      "cell_type": "markdown",
      "metadata": {
        "id": "KMSPeREnD67k"
      },
      "source": [
        "```python\n",
        "x = np.ones((8, 2, 6))\n",
        "y = np.ones((8, 2))\n",
        "\n",
        "z = x + y\n",
        "```\n",
        "\n",
        "<details>\n",
        "<summary>Answer</summary>\n",
        "\n",
        "This is not valid. We first need to expand `y` by appending a dimension to the front, and the last two dimensions of `x` are `(2, 6)`, which won't broadcast with `y`'s `(8, 2)`.\n",
        "</details>\n"
      ]
    },
    {
      "cell_type": "markdown",
      "metadata": {
        "id": "PIkJ9ajgD7Tt"
      },
      "source": [
        "```python\n",
        "x = np.ones((8, 2, 6))\n",
        "y = np.ones((2, 6))\n",
        "\n",
        "z = x + y\n",
        "```\n",
        "\n",
        "<details>\n",
        "<summary>Answer</summary>\n",
        "\n",
        "This is valid. Once NumPy expands `y` by appending a single dimension to the front, it can then be broadcast with `x`.\n",
        "</details>\n"
      ]
    },
    {
      "cell_type": "markdown",
      "metadata": {
        "id": "T7yAVEVvEJz5"
      },
      "source": [
        "### Why do we need broadcasting for backprop?\n"
      ]
    },
    {
      "cell_type": "markdown",
      "metadata": {
        "id": "6lokuVtYCZgc"
      },
      "source": [
        "Often, a tensor $x$ gets broadcasted to produce another tensor $x_{broadcasted}$, when being used to create $out$. It might be easy to define the derivative wrt $out$ and $x_{broadcasted}$, but we need to know how to go from this to calculating the derivative wrt $x$.\n",
        "\n",
        "To take an example:\n",
        "\n",
        "```python\n",
        "x = t.ones(4,)\n",
        "y = t.ones(3, 4)\n",
        "out = x + y # = x_broadcasted + y\n",
        "L = out[0, 0] + out[1, 1] + out[2, 1]\n",
        "```\n"
      ]
    },
    {
      "cell_type": "markdown",
      "metadata": {
        "id": "1FwgQQkWCZge"
      },
      "source": [
        "<img src=\"https://raw.githubusercontent.com/callummcdougall/Fundamentals/main/images/xy_add_out.png\" width=\"400\">\n"
      ]
    },
    {
      "cell_type": "markdown",
      "metadata": {
        "id": "wv8QPfTLETZ0"
      },
      "source": [
        "<img src=\"https://raw.githubusercontent.com/callummcdougall/Fundamentals/main/images/broadcast-2.png\" width=\"400\">\n"
      ]
    },
    {
      "cell_type": "markdown",
      "metadata": {
        "id": "W7EkhWJWCZgf"
      },
      "source": [
        "In this case, we have:\n",
        "\n",
        "$$\n",
        "\\frac{dL}{d(out)} = \\frac{dL}{dx_{broadcasted}} = \\begin{bmatrix}\n",
        "1 & 0 & 0 & 0\\\\\n",
        "0 & 1 & 0 & 0\\\\\n",
        "0 & 1 & 0 & 0\n",
        "\\end{bmatrix}\n",
        "$$\n",
        "\n",
        "How do we get from this to $\\frac{dL}{dx}$? Well, we can write $L$ as a function of $x$ (ignoring $y$ for now):\n",
        "\n",
        "$$\n",
        "\\begin{aligned}\n",
        "L &= x_{broadcasted}[0, 0] + x_{broadcasted}[1, 1] + x_{broadcasted}[2, 1] \\\\\n",
        "&= x[0] + x[1] + x[1] \\\\\n",
        "&= x[0] + 2x[1]\n",
        "\\end{aligned}\n",
        "$$\n",
        "\n",
        "meaning the derivative with respect to $x$ is:\n",
        "\n",
        "$$\n",
        "\\frac{dL}{dx} = \\begin{bmatrix}\n",
        "1 & 2 & 0 & 0\n",
        "\\end{bmatrix}\n",
        "$$\n",
        "\n",
        "Note how we got this by taking $\\frac{dL}{dx_{broadcasted}}$, and summing it over the dimension along which $x$ was broadcasted. This leads to our general rule for handling broadcasted operations:\n"
      ]
    },
    {
      "cell_type": "markdown",
      "metadata": {
        "id": "-RfxUf5WEgwj"
      },
      "source": [
        "> ##### Summary\n",
        ">\n",
        "> If we know $\\frac{dL}{d(out)}$, and want to know $\\frac{dL}{dx}$ (where $x$ was broadcasted to produce $out$) then there are two steps:\n",
        ">\n",
        "> 1. Compute $\\frac{dL}{dx_{broadcasted}}$ in the standard way, i.e. using one of your backward functions (no broadcasting involved here).\n",
        "> 2. ***Unbroadcast*** $\\frac{dL}{dx_{broadcasted}}$, by summing it over the dimensions along which $x$ was broadcasted.\n"
      ]
    },
    {
      "cell_type": "markdown",
      "metadata": {
        "id": "NUvG25e2ElCt"
      },
      "source": [
        "We used the term \"unbroadcast\" because the way that our tensor's shape changes will be the reverse of how it changed during broadcasting. If `x` was broadcasted from `(4,) -> (3, 4)`, then unbroadcasting will have to take a tensor of shape `(3, 4)` and sum over it to return a tensor of shape `(4,)`. Similarly, if `x` was broadcasted from `(1, 4) -> (3, 4)`, then we need to sum over the zeroth dimension, but leave it as a 2D tensor (with zeroth dimension of size 1).\n"
      ]
    },
    {
      "cell_type": "markdown",
      "metadata": {
        "id": "GgApU9qdEmYx"
      },
      "source": [
        "### Exercise - implement `unbroadcast`\n",
        "\n",
        "```yaml\n",
        "Difficulty: 🔴🔴🔴⚪⚪\n",
        "Importance: 🔵🔵⚪⚪⚪\n",
        "\n",
        "You should spend up to 15-20 minutes on this exercise.\n",
        "\n",
        "This can be finnicky to implement, so you should be willing to read the solution and move on if you get stuck.\n",
        "```\n",
        "\n",
        "Below, you should implement this function. `broadcasted` is the array you want to sum over, and `original` is the array with the shape you want to return. Your function should:\n",
        "\n",
        "* Compare the shapes of `broadcasted` and `original`, and deduce (using broadcasting rules) how `original` was broadcasted to get `broadcasted`.\n",
        "* Sum over the dimensions of `broadcasted` that were added by broadcasting, and return a tensor of shape `original.shape`.\n",
        "\n",
        "Hint - the `.sum()` method (for NumPy arrays) takes arguments `axis` and `keepdims`. The `axis` argument is an int or list of ints to sum over, and `keepdims` is a boolean that determines whether you want to remove the dims you're summing over (if `False`) or leave them as dims of size 1 (if `True`). You'll need to use both arguments when implementing this function.\n"
      ]
    },
    {
      "cell_type": "code",
      "source": [
        "a = np.array([[0], [1], [2]])\n",
        "b = np.array([[0], [2]])\n",
        "np.array(a.shape)[:1]"
      ],
      "metadata": {
        "colab": {
          "base_uri": "https://localhost:8080/"
        },
        "id": "wWJ25ZCSCLeU",
        "outputId": "4f7986f6-150a-48ef-e133-4cac2b151f58"
      },
      "execution_count": 4,
      "outputs": [
        {
          "output_type": "execute_result",
          "data": {
            "text/plain": [
              "array([3])"
            ]
          },
          "metadata": {},
          "execution_count": 4
        }
      ]
    },
    {
      "cell_type": "code",
      "execution_count": 5,
      "metadata": {
        "id": "wKjhyG8qAPOv",
        "colab": {
          "base_uri": "https://localhost:8080/"
        },
        "outputId": "7e7ba1a7-c267-42ab-aace-b50b7efe023d"
      },
      "outputs": [
        {
          "output_type": "stream",
          "name": "stdout",
          "text": [
            "All tests in `test_unbroadcast` passed!\n"
          ]
        }
      ],
      "source": [
        "def unbroadcast(broadcasted: Arr, original: Arr) -> Arr:\n",
        "    '''\n",
        "    Sum 'broadcasted' until it has the shape of 'original'.\n",
        "\n",
        "    broadcasted: An array that was formerly of the same shape of 'original' and was expanded by broadcasting rules.\n",
        "    '''\n",
        "    if broadcasted.ndim > original.ndim:\n",
        "        added_dims = broadcasted.ndim - original.ndim\n",
        "    else:\n",
        "        added_dims = 0\n",
        "    repeated_dims = np.nonzero((np.array(broadcasted.shape)[added_dims:] == np.array(original.shape)) == 0)\n",
        "    repeated_dims = repeated_dims[0]\n",
        "\n",
        "    shortened_array = broadcasted.sum(axis=(tuple(np.arange(added_dims))), keepdims=False)\n",
        "    original_array = shortened_array.sum(axis=tuple(repeated_dims), keepdims=True)\n",
        "    return original_array\n",
        "\n",
        "tests.test_unbroadcast(unbroadcast)"
      ]
    },
    {
      "cell_type": "markdown",
      "metadata": {
        "id": "qFbEyb2tErQ4"
      },
      "source": [
        "<details>\n",
        "<summary>Help - I'm confused about implementing unbroadcast!</summary>\n",
        "\n",
        "Recall that broadcasting `original -> broadcasted` has 2 steps:\n",
        "\n",
        "1. Append dims of size 1 to the start of `original`, until it has the same number of dims as `broadcasted`.\n",
        "2. Copy `original` along each dimension where it has size 1.\n",
        "\n",
        "Similarly, your `unbroadcast` function should have 2 steps:\n",
        "\n",
        "1. Sum over the dimensions at the start of `broadcasted`, until the result has the same number of dims as `original`.\n",
        "    * Here you should use `keepdims=False`, because you're trying to reduce the dimensionality of `broadcasted`.\n",
        "2. Sum over the dimensions of `broadcasted` wherever `original` has size 1.\n",
        "    * Here you should use `keepdims=True`, because you want to leave these dimensions having size 1 (so that the result has the same shape as `original`).\n",
        "</details>"
      ]
    },
    {
      "cell_type": "markdown",
      "metadata": {
        "id": "t5AhE8NsE4sR"
      },
      "source": [
        "### Backward Function for Elementwise Multiply\n",
        "\n",
        "Functions that are differentiable with respect to more than one input tensor are straightforward given that we already know how to handle broadcasting.\n",
        "\n",
        "- We're going to have two backwards functions, one for each input argument.\n",
        "- If the input arguments were broadcasted together to create a larger output, the incoming `grad_out` will be of the larger common broadcasted shape and we need to make use of `unbroadcast` from earlier to match the shape to the appropriate input argument.\n",
        "- We'll want our backward function to work when one of the inputs is an float. We won't need to calculate the grad_in with respect to floats, so we only need to consider when y is an float for `multiply_back0` and when x is an float for `multiply_back1`.\n"
      ]
    },
    {
      "cell_type": "markdown",
      "metadata": {
        "id": "CexAEDZqFMgj"
      },
      "source": [
        "### Exercise - implement both `multiply_back` functions\n",
        "\n",
        "```yaml\n",
        "Difficulty: 🔴🔴🔴⚪⚪\n",
        "Importance: 🔵🔵⚪⚪⚪\n",
        "\n",
        "You should spend up to 10-15 minutes on these exercises.\n",
        "```\n"
      ]
    },
    {
      "cell_type": "markdown",
      "metadata": {
        "id": "SvILD-PpFORu"
      },
      "source": [
        "Below, you should implement both `multiply_back0` and `multiply_back1`.\n",
        "\n",
        "You might be wondering why we need two different functions, rather than just having a single function to serve both purposes. This will become more important later on, once we deal with functions with more than one argument, which is not symmetric in its arguments. For instance, the derivative of $x / y$ wrt $x$ is not the same as the expression you get after differentiating this wrt $y$ then swapping the labels around.\n",
        "\n",
        "The first part of each function has been provided for you (this makes sure that both inputs are arrays).\n",
        "\n",
        "<details>\n",
        "<summary>Help - I'm not sure how to use the <code>unbroadcast</code> function.</summary>\n",
        "\n",
        "First, do the calculation assuming no broadcasting. Then, use `unbroadcast` to make sure the result has the same shape as the array you're trying to calculate the derivative with respect to.\n",
        "</details>\n"
      ]
    },
    {
      "cell_type": "code",
      "execution_count": 6,
      "metadata": {
        "id": "QQNTKbVvFPUS",
        "colab": {
          "base_uri": "https://localhost:8080/"
        },
        "outputId": "ba623292-0bf5-4383-f885-cbcfe640b673"
      },
      "outputs": [
        {
          "output_type": "stream",
          "name": "stdout",
          "text": [
            "All tests in `test_multiply_back` passed!\n",
            "All tests in `test_multiply_back_float` passed!\n"
          ]
        }
      ],
      "source": [
        "def multiply_back0(grad_out: Arr, out: Arr, x: Arr, y: Arr | float) -> Arr:\n",
        "    '''Backwards function for x * y wrt argument 0 aka x.'''\n",
        "    if not isinstance(y, Arr):\n",
        "        y = np.array(y)\n",
        "\n",
        "    grad_in = grad_out * y\n",
        "    if grad_in.shape != x.shape:\n",
        "        grad_in = unbroadcast(grad_in, x)\n",
        "\n",
        "    return grad_in\n",
        "\n",
        "def multiply_back1(grad_out: Arr, out: Arr, x: Arr | float, y: Arr) -> Arr:\n",
        "    '''Backwards function for x * y wrt argument 1 aka y.'''\n",
        "    if not isinstance(x, Arr):\n",
        "        x = np.array(x)\n",
        "\n",
        "    grad_in = grad_out * x\n",
        "    if grad_in.shape != y.shape:\n",
        "        grad_in = unbroadcast(grad_in, y)\n",
        "\n",
        "    return grad_in\n",
        "\n",
        "tests.test_multiply_back(multiply_back0, multiply_back1)\n",
        "tests.test_multiply_back_float(multiply_back0, multiply_back1)"
      ]
    },
    {
      "cell_type": "markdown",
      "metadata": {
        "id": "xivDXgSIFZob"
      },
      "source": [
        "Now we'll use our backward functions to do backpropagation manually, for the following computational graph:\n",
        "\n",
        "<img src=\"https://raw.githubusercontent.com/callummcdougall/Fundamentals/main/images/abcdefg.png\" width=550>\n"
      ]
    },
    {
      "cell_type": "markdown",
      "metadata": {
        "id": "khzh6y_eGJiX"
      },
      "source": [
        "### Exercise - implement `forward_and_back`\n",
        "\n",
        "```yaml\n",
        "Difficulty: 🔴🔴🔴⚪⚪\n",
        "Importance: 🔵🔵🔵🔵⚪\n",
        "\n",
        "You should spend up to 15-20 minutes on these exercises.\n",
        "\n",
        "This function is very useful for getting a hands-on sense of the backpropagation algorithm.\n",
        "```\n",
        "\n",
        "Below, you should implement the `forward_and_back` function. This is an opportunity for you to practice using the backward functions you've written so far, and should hopefully give you a better sense of how the full backprop function will eventually work.\n",
        "\n",
        "Note - we're assuming all arrays in this graph have size 1, i.e. they're just scalars.\n"
      ]
    },
    {
      "cell_type": "code",
      "execution_count": 7,
      "metadata": {
        "id": "dZWTK8-5GaX-",
        "colab": {
          "base_uri": "https://localhost:8080/"
        },
        "outputId": "57de2579-c6cd-4ccf-b471-5b3047a7b86a"
      },
      "outputs": [
        {
          "output_type": "stream",
          "name": "stdout",
          "text": [
            "All tests in `test_forward_and_back` passed!\n"
          ]
        }
      ],
      "source": [
        "def forward_and_back(a: Arr, b: Arr, c: Arr) -> tuple[Arr, Arr, Arr]:\n",
        "    '''\n",
        "    Calculates the output of the computational graph above (g), then backpropogates the gradients and returns dg/da, dg/db, and dg/dc\n",
        "    '''\n",
        "    d = a * b\n",
        "    e = np.log(c)\n",
        "    f = d * e\n",
        "    g = np.log(f)\n",
        "\n",
        "    grad_f = log_back(grad_out=1, out=g, x=f)\n",
        "    grad_d = multiply_back0(grad_out=grad_f, out=f, x=d, y=e)\n",
        "    grad_e = multiply_back1(grad_out=grad_f, out=f, x=d, y=e)\n",
        "    grad_c = log_back(grad_out=grad_e, out=e, x=c)\n",
        "    grad_a = multiply_back0(grad_out=grad_d, out=d, x=a, y=b)\n",
        "    grad_b = multiply_back1(grad_out=grad_d, out=d, x=a, y=b)\n",
        "\n",
        "    return grad_a, grad_b, grad_c\n",
        "\n",
        "tests.test_forward_and_back(forward_and_back)"
      ]
    },
    {
      "cell_type": "markdown",
      "metadata": {
        "id": "C774oEpWGLkL"
      },
      "source": [
        "<details>\n",
        "<summary>Help - I'm not sure what my first 'grad_out' argument should be!</summary>\n",
        "\n",
        "`grad_out` is $\\frac{dL}{d(\\text{out})}$, where $L$ is the node at the end of your graph and $\\text{out}$ is the output of the function you're backpropagating through. For your first function (which is `log : f -> g`), the output is `g`, so your `grad_out` should be $\\frac{dg}{dg} = 1$. (You should make this an array of size 1, since `g` is a scalar.)\n",
        "\n",
        "The output of this function is $\\frac{dg}{df}$, which you can use as the `grad_out` argument in subsequent backward funcs.\n",
        "</details>"
      ]
    },
    {
      "cell_type": "markdown",
      "metadata": {
        "id": "0PJaRAzMGS99"
      },
      "source": [
        "In the next section, you'll build up to full automation of this backpropagation process, in a way that's similar to PyTorch's `autograd`.\n"
      ]
    },
    {
      "cell_type": "markdown",
      "metadata": {
        "id": "EmX0RxdUGeBa"
      },
      "source": [
        "# 2️⃣ Autograd\n"
      ]
    },
    {
      "cell_type": "markdown",
      "metadata": {
        "id": "8YDlzfxSCZgi"
      },
      "source": [
        "> ## Learning Objectives\n",
        ">\n",
        "> * Perform a topological sort of a computational graph (and understand why this is important).\n",
        "> * Implement a the `backprop` function, to calculate and store gradients for all tensors in a computational graph.\n"
      ]
    },
    {
      "cell_type": "markdown",
      "metadata": {
        "id": "TxNZ62GRGj0O"
      },
      "source": [
        "Now, rather than figuring out which backward functions to call, in what order, and what their inputs should be, we'll write code that takes care of that for us. We'll implement this with a few major components:\n",
        "- Tensor\n",
        "- Recipe\n",
        "- wrap_forward_fn\n"
      ]
    },
    {
      "cell_type": "markdown",
      "metadata": {
        "id": "RhzLzW9uGk-w"
      },
      "source": [
        "## Wrapping Arrays (Tensor)\n",
        "\n",
        "We're going to wrap each array with a wrapper object from our library which we'll call `Tensor` because it's going to behave similarly to a `torch.Tensor`.\n",
        "\n",
        "Each Tensor that is created by one of our forward functions will have a `Recipe`, which tracks the extra information need to run backpropagation.\n",
        "\n",
        "`wrap_forward_fn` will take a forward function and return a new forward function that does the same thing while recording the info we need to do backprop in the `Recipe`.\n"
      ]
    },
    {
      "cell_type": "markdown",
      "metadata": {
        "id": "RVeVP8gHGmHj"
      },
      "source": [
        "## Recipe\n",
        "\n",
        "Let's start by taking a look at `Recipe`.\n",
        "\n",
        "`@dataclass` is a handy class decorator that sets up an `__init__` function for the class that takes the provided attributes as arguments and sets them as you'd expect.\n",
        "\n",
        "The class `Recipe` is designed to track the forward functions in our computational graph, so that gradients can be calculated during backprop. Each tensor created by a forward function has its own `Recipe`. We're naming it this because it is a set of instructions that tell us which ingredients went into making our tensor: what the function was, and what tensors were used as input to the function to produce this one as output.\n"
      ]
    },
    {
      "cell_type": "code",
      "execution_count": 8,
      "metadata": {
        "id": "qRWyyWCyGoh6"
      },
      "outputs": [],
      "source": [
        "@dataclass(frozen=True)\n",
        "class Recipe:\n",
        "    '''Extra information necessary to run backpropagation. You don't need to modify this.'''\n",
        "\n",
        "    func: Callable\n",
        "    \"The 'inner' NumPy function that does the actual forward computation.\"\n",
        "    \"Note, we call it 'inner' to distinguish it from the wrapper we'll create for it later on.\"\n",
        "\n",
        "    args: tuple\n",
        "    \"The input arguments passed to func.\"\n",
        "    \"For instance, if func was np.sum then args would be a length-1 tuple containing the tensor to be summed.\"\n",
        "\n",
        "    kwargs: Dict[str, Any]\n",
        "    \"Keyword arguments passed to func.\"\n",
        "    \"For instance, if func was np.sum then kwargs might contain 'dim' and 'keepdims'.\"\n",
        "\n",
        "    parents: Dict[int, \"Tensor\"]\n",
        "    \"Map from positional argument index to the Tensor at that position, in order to be able to pass gradients back along the computational graph.\""
      ]
    },
    {
      "cell_type": "markdown",
      "metadata": {
        "id": "NJd2m4v5GsAe"
      },
      "source": [
        "Note that `args` just stores the values of the underlying arrays, but `parents` stores the actual tensors. This is because they serve two different purposes: `args` is required for computing the value of gradients during backpropagation, and `parents` is required to infer the structure of the computational graph (i.e. which tensors were used to produce which other tensors).\n",
        "\n",
        "Here are some examples, to build intuition for what the four fields of `Recipe` are, and why we need all four of them to fully describe a tensor in our graph and how it was created:\n",
        "\n",
        "<img src=\"https://raw.githubusercontent.com/callummcdougall/computational-thread-art/master/example_images/misc/recipe-fixed-2.png\" width=\"800\">\n"
      ]
    },
    {
      "cell_type": "markdown",
      "metadata": {
        "id": "TdW-8SJKPFWB"
      },
      "source": [
        "## Registering backwards functions\n",
        "\n",
        "The `Recipe` takes care of tracking the forward functions in our computational graph, but we still need a way to find the backward function corresponding to a given forward function when we do backprop (or possibly the set of backward functions, if the forward function takes more than one argument).\n"
      ]
    },
    {
      "cell_type": "markdown",
      "metadata": {
        "id": "qo5vOAtHPHKC"
      },
      "source": [
        "### Exercise - implement `BackwardFuncLookup`\n",
        "\n",
        "```yaml\n",
        "Difficulty: 🔴🔴⚪⚪⚪\n",
        "Importance: 🔵🔵🔵⚪⚪\n",
        "\n",
        "You should spend up to 10-15 minutes on these exercises.\n",
        "\n",
        "These exercises should be very short, once you understand what is being asked.\n",
        "```\n"
      ]
    },
    {
      "cell_type": "markdown",
      "metadata": {
        "id": "b6awwO5NPJNl"
      },
      "source": [
        "We will define a class `BackwardFuncLookup` in order to find the backward function for a given forward function. Details of the implementation are left up to you.\n",
        "\n",
        "The implementation today can be done very simply. We won't support backprop wrt keyword arguments and will raise an exception if the user tries to pass a Tensor by keyword. You can remove this limitation later if you have time.\n",
        "\n",
        "We do need to support functions with multiple positional arguments like multiplication so we'll also provide the positional argument index when setting and getting back_fns.\n",
        "\n",
        "If you're confused as to what this question is asking you to implement, you can look at the code below the class definition (which shows how a class instance can should be used to store and access backward functions).\n"
      ]
    },
    {
      "cell_type": "code",
      "execution_count": 9,
      "metadata": {
        "id": "_CPMbbsgPL5o",
        "colab": {
          "base_uri": "https://localhost:8080/"
        },
        "outputId": "9cf2b22a-be62-4640-bd20-e5ebf65d6868"
      },
      "outputs": [
        {
          "output_type": "stream",
          "name": "stdout",
          "text": [
            "Tests passed - BackwardFuncLookup class is working as expected!\n"
          ]
        }
      ],
      "source": [
        "class BackwardFuncLookup:\n",
        "    def __init__(self) -> None:\n",
        "        self.lookup_dict: Dict[List[Callable, int], Callable] = dict()\n",
        "\n",
        "    def add_back_func(self, forward_fn: Callable, arg_position: int, back_fn: Callable) -> None:\n",
        "        self.lookup_dict[tuple([forward_fn, arg_position])] = back_fn\n",
        "\n",
        "    def get_back_func(self, forward_fn: Callable, arg_position: int) -> Callable:\n",
        "        if tuple([forward_fn, arg_position]) in self.lookup_dict:\n",
        "            return self.lookup_dict[tuple([forward_fn, arg_position])]\n",
        "\n",
        "BACK_FUNCS = BackwardFuncLookup()\n",
        "BACK_FUNCS.add_back_func(np.log, 0, log_back)\n",
        "BACK_FUNCS.add_back_func(np.multiply, 0, multiply_back0)\n",
        "BACK_FUNCS.add_back_func(np.multiply, 1, multiply_back1)\n",
        "\n",
        "assert BACK_FUNCS.get_back_func(np.log, 0) == log_back\n",
        "assert BACK_FUNCS.get_back_func(np.multiply, 0) == multiply_back0\n",
        "assert BACK_FUNCS.get_back_func(np.multiply, 1) == multiply_back1\n",
        "\n",
        "print(\"Tests passed - BackwardFuncLookup class is working as expected!\")"
      ]
    },
    {
      "cell_type": "markdown",
      "metadata": {
        "id": "YDhqsMy9PNL-"
      },
      "source": [
        "<details>\n",
        "<summary>Example implementation</summary>\n",
        "\n",
        "This implementation uses the useful [`collections.defaultdict`](https://docs.python.org/3/library/collections.html#collections.defaultdict) item.\n",
        "\n",
        "Also, note the use of type annotations. This allows you to auto-fill appropriate methods when you work with these objects.\n",
        "\n",
        "```python\n",
        "class BackwardFuncLookup:\n",
        "    def __init__(self) -> None:\n",
        "        self.back_funcs: defaultdict[Callable, dict[int, Callable]] = defaultdict(dict)\n",
        "\n",
        "    def add_back_func(self, forward_fn: Callable, arg_position: int, back_fn: Callable) -> None:\n",
        "        self.back_funcs[forward_fn][arg_position] = back_fn\n",
        "\n",
        "    def get_back_func(self, forward_fn: Callable, arg_position: int) -> Callable:\n",
        "        return self.back_funcs[forward_fn][arg_position]\n",
        "```\n",
        "</details>\n"
      ]
    },
    {
      "cell_type": "markdown",
      "metadata": {
        "id": "eLKGpKLFPTRz"
      },
      "source": [
        "## Tensors\n",
        "\n",
        "Our Tensor object has these fields:\n",
        "- An `array` field of type `np.ndarray`.\n",
        "- A `requires_grad` field of type `bool`.\n",
        "- A `grad` field of the same size and type as the value.\n",
        "- A `recipe` field, as we've already seen.\n"
      ]
    },
    {
      "cell_type": "markdown",
      "metadata": {
        "id": "D_9B1HQdPWMJ"
      },
      "source": [
        "### requires_grad\n",
        "\n",
        "The meaning of `requires_grad` is that when doing operations using this tensor, the recipe will be stored and it and any descendents will be included in the computational graph.\n",
        "\n",
        "Note that `requires_grad` does not necessarily mean that we will save the accumulated gradients to this tensor's `.grad` parameter when doing backprop: we will follow pytorch's implementation of backprop and only save gradients to leaf tensors (see `Tensor.is_leaf`, below).\n",
        "\n",
        "---\n",
        "\n",
        "There is a lot of repetitive boilerplate involved which we have done for you. You don't need to modify anything in this class: the methods here will delegate to functions that you will implement throughout the day. You should read the code for the `Tensor` class up to `__init__`, and make sure you understand it. Most of the methods beyond this are just replicating the basic functionality of PyTorch tensors.\n"
      ]
    },
    {
      "cell_type": "code",
      "execution_count": 10,
      "metadata": {
        "id": "FXQQvUZVPdZc"
      },
      "outputs": [],
      "source": [
        "Arr = np.ndarray\n",
        "\n",
        "class Tensor:\n",
        "    '''\n",
        "    A drop-in replacement for torch.Tensor supporting a subset of features.\n",
        "    '''\n",
        "\n",
        "    array: Arr\n",
        "    \"The underlying array. Can be shared between multiple Tensors.\"\n",
        "    requires_grad: bool\n",
        "    \"If True, calling functions or methods on this tensor will track relevant data for backprop.\"\n",
        "    grad: \"Tensor | None\"\n",
        "    \"Backpropagation will accumulate gradients into this field.\"\n",
        "    recipe: Recipe | None\n",
        "    \"Extra information necessary to run backpropagation.\"\n",
        "\n",
        "    def __init__(self, array: Arr | list, requires_grad=False):\n",
        "        self.array = array if isinstance(array, Arr) else np.array(array)\n",
        "        if self.array.dtype == np.float64:\n",
        "            self.array = self.array.astype(np.float32)\n",
        "        self.requires_grad = requires_grad\n",
        "        self.grad = None\n",
        "        self.recipe = None\n",
        "        \"If not None, this tensor's array was created via recipe.func(*recipe.args, **recipe.kwargs).\"\n",
        "\n",
        "    def __neg__(self) -> \"Tensor\":\n",
        "        return negative(self)\n",
        "\n",
        "    def __add__(self, other) -> \"Tensor\":\n",
        "        return add(self, other)\n",
        "\n",
        "    def __radd__(self, other) -> \"Tensor\":\n",
        "        return add(other, self)\n",
        "\n",
        "    def __sub__(self, other) -> \"Tensor\":\n",
        "        return subtract(self, other)\n",
        "\n",
        "    def __rsub__(self, other) -> \"Tensor\":\n",
        "        return subtract(other, self)\n",
        "\n",
        "    def __mul__(self, other) -> \"Tensor\":\n",
        "        return multiply(self, other)\n",
        "\n",
        "    def __rmul__(self, other):\n",
        "        return multiply(other, self)\n",
        "\n",
        "    def __truediv__(self, other):\n",
        "        return true_divide(self, other)\n",
        "\n",
        "    def __rtruediv__(self, other):\n",
        "        return true_divide(other, self)\n",
        "\n",
        "    def __matmul__(self, other):\n",
        "        return matmul(self, other)\n",
        "\n",
        "    def __rmatmul__(self, other):\n",
        "        return matmul(other, self)\n",
        "\n",
        "    def __eq__(self, other):\n",
        "        return eq(self, other)\n",
        "\n",
        "    def __repr__(self) -> str:\n",
        "        return f\"Tensor({repr(self.array)}, requires_grad={self.requires_grad})\"\n",
        "\n",
        "    def __len__(self) -> int:\n",
        "        if self.array.ndim == 0:\n",
        "            raise TypeError\n",
        "        return self.array.shape[0]\n",
        "\n",
        "    def __hash__(self) -> int:\n",
        "        return id(self)\n",
        "\n",
        "    def __getitem__(self, index) -> \"Tensor\":\n",
        "        return getitem(self, index)\n",
        "\n",
        "    def add_(self, other: \"Tensor\", alpha: float = 1.0) -> \"Tensor\":\n",
        "        add_(self, other, alpha=alpha)\n",
        "        return self\n",
        "\n",
        "    @property\n",
        "    def T(self) -> \"Tensor\":\n",
        "        return permute(self, axes=(-1, -2))\n",
        "\n",
        "    def item(self):\n",
        "        return self.array.item()\n",
        "\n",
        "    def sum(self, dim=None, keepdim=False) -> \"Tensor\":\n",
        "        return sum(self, dim=dim, keepdim=keepdim)\n",
        "\n",
        "    def log(self) -> \"Tensor\":\n",
        "        return log(self)\n",
        "\n",
        "    def exp(self) -> \"Tensor\":\n",
        "        return exp(self)\n",
        "\n",
        "    def reshape(self, new_shape) -> \"Tensor\":\n",
        "        return reshape(self, new_shape)\n",
        "\n",
        "    def expand(self, new_shape) -> \"Tensor\":\n",
        "        return expand(self, new_shape)\n",
        "\n",
        "    def permute(self, dims) -> \"Tensor\":\n",
        "        return permute(self, dims)\n",
        "\n",
        "    def maximum(self, other) -> \"Tensor\":\n",
        "        return maximum(self, other)\n",
        "\n",
        "    def relu(self) -> \"Tensor\":\n",
        "        return relu(self)\n",
        "\n",
        "    def argmax(self, dim=None, keepdim=False) -> \"Tensor\":\n",
        "        return argmax(self, dim=dim, keepdim=keepdim)\n",
        "\n",
        "    def uniform_(self, low: float, high: float) -> \"Tensor\":\n",
        "        self.array[:] = np.random.uniform(low, high, self.array.shape)\n",
        "        return self\n",
        "\n",
        "    def backward(self, end_grad = None) -> None:\n",
        "        if isinstance(end_grad, Arr):\n",
        "            end_grad = Tensor(end_grad)\n",
        "        return backprop(self, end_grad)\n",
        "\n",
        "    def size(self, dim: Optional[int] = None):\n",
        "        if dim is None:\n",
        "            return self.shape\n",
        "        return self.shape[dim]\n",
        "\n",
        "    @property\n",
        "    def shape(self):\n",
        "        return self.array.shape\n",
        "\n",
        "    @property\n",
        "    def ndim(self):\n",
        "        return self.array.ndim\n",
        "\n",
        "    @property\n",
        "    def is_leaf(self):\n",
        "        '''Same as https://pytorch.org/docs/stable/generated/torch.Tensor.is_leaf.html'''\n",
        "        if self.requires_grad and self.recipe and self.recipe.parents:\n",
        "            return False\n",
        "        return True\n",
        "\n",
        "    def __bool__(self):\n",
        "        if np.array(self.shape).prod() != 1:\n",
        "            raise RuntimeError(\"bool value of Tensor with more than one value is ambiguous\")\n",
        "        return bool(self.item())\n",
        "\n",
        "def empty(*shape: int) -> Tensor:\n",
        "    '''Like torch.empty.'''\n",
        "    return Tensor(np.empty(shape))\n",
        "\n",
        "def zeros(*shape: int) -> Tensor:\n",
        "    '''Like torch.zeros.'''\n",
        "    return Tensor(np.zeros(shape))\n",
        "\n",
        "def arange(start: int, end: int, step=1) -> Tensor:\n",
        "    '''Like torch.arange(start, end).'''\n",
        "    return Tensor(np.arange(start, end, step=step))\n",
        "\n",
        "def tensor(array: Arr, requires_grad=False) -> Tensor:\n",
        "    '''Like torch.tensor.'''\n",
        "    return Tensor(array, requires_grad=requires_grad)"
      ]
    },
    {
      "cell_type": "markdown",
      "metadata": {
        "id": "Q5rjD5dEPlPJ"
      },
      "source": [
        "## Forward Pass: Building the Computational Graph\n",
        "\n",
        "Let's start with a simple case: our `log` function. `log_forward` is a wrapper, which should implement the functionality of `np.log` but work with tensors rather than arrays.\n"
      ]
    },
    {
      "cell_type": "markdown",
      "metadata": {
        "id": "EEOHErdpPntt"
      },
      "source": [
        "### Exercise - implement `log_forward`\n",
        "\n",
        "```yaml\n",
        "Difficulty: 🔴🔴🔴⚪⚪\n",
        "Importance: 🔵🔵🔵⚪⚪\n",
        "\n",
        "You should spend up to 15-20 minutes on this exercise.\n",
        "```\n",
        "\n",
        "Our `log` function must do the following:\n",
        "\n",
        "- Call `np.log` on the input *array* (i.e. the array attribute of the tensor).\n",
        "- Create a new `Tensor` containing the output.\n",
        "- If grad tracking is enabled globally AND (the input requires grad, OR has a recipe), then the output requires grad and we fill out the recipe of our output, as a `Recipe` object.\n",
        "\n",
        "Later we'll redo this in a generic and reusable way, but for now just get it working.\n",
        "\n",
        "Note - in these exercises, we've used the global variable `grad_tracking_enabled` to indicate whether gradient tracking is enabled. Often when you're working with a model and you don't need to train it (or perform backward passes for any other reason) it's useful to disable gradient tracking. In PyTorch, this is done with `t.set_grad_enabled(False)`.\n"
      ]
    },
    {
      "cell_type": "code",
      "execution_count": 11,
      "metadata": {
        "id": "x9WMfDTwPpGk",
        "colab": {
          "base_uri": "https://localhost:8080/"
        },
        "outputId": "a34756f7-c337-4411-c3fd-72105b504574"
      },
      "outputs": [
        {
          "output_type": "stream",
          "name": "stdout",
          "text": [
            "All tests in `test_log` passed!\n",
            "All tests in `test_log_no_grad` passed!\n"
          ]
        }
      ],
      "source": [
        "def log_forward(x: Tensor) -> Tensor:\n",
        "    '''Performs np.log on a Tensor object.'''\n",
        "    requires_grad = grad_tracking_enabled and (x.requires_grad or x.recipe is not None)\n",
        "    tensor = Tensor(\n",
        "        array=np.log(x.array),\n",
        "        requires_grad=requires_grad\n",
        "    )\n",
        "\n",
        "    if requires_grad:\n",
        "        tensor.recipe = Recipe(\n",
        "            func=np.log,\n",
        "            args=(x.array,),\n",
        "            kwargs={},\n",
        "            parents={0: x}\n",
        "        )\n",
        "\n",
        "    return tensor\n",
        "\n",
        "log = log_forward\n",
        "tests.test_log(Tensor, log_forward)\n",
        "tests.test_log_no_grad(Tensor, log_forward)\n",
        "a = Tensor([1], requires_grad=True)\n",
        "grad_tracking_enabled = False\n",
        "b = log_forward(a)\n",
        "grad_tracking_enabled = True\n",
        "assert not b.requires_grad, \"should not require grad if grad tracking globally disabled\"\n",
        "assert b.recipe is None, \"should not create recipe if grad tracking globally disabled\""
      ]
    },
    {
      "cell_type": "markdown",
      "metadata": {
        "id": "OXNvEtZUPqz0"
      },
      "source": [
        "<details>\n",
        "<summary>Help - I need more hints on how to implement this function.</summary>\n",
        "\n",
        "You need to define a tensor `out` by feeding it the underlying data (log of `x.array`) and the `requires_grad` flag.\n",
        "\n",
        "Then, if `requires_grad` is true, you should also create a recipe object and store it in `out`. You can look at the diagrams above to see what the recipe should look like (it will be even simpler than the ones pictured, because there's only one parent, one arg, and no kwargs).\n",
        "</details>\n"
      ]
    },
    {
      "cell_type": "markdown",
      "metadata": {
        "id": "JsejE6jzQQhL"
      },
      "source": [
        "Now let's do the same for multiply, to see how to handle functions with multiple arguments.\n"
      ]
    },
    {
      "cell_type": "markdown",
      "metadata": {
        "id": "JvGfKcqKQRtD"
      },
      "source": [
        "### Exercise - implement `multiply_forward`\n",
        "\n",
        "```yaml\n",
        "Difficulty: 🔴🔴🔴🔴⚪\n",
        "Importance: 🔵🔵🔵⚪⚪\n",
        "\n",
        "You should spend up to 15-20 minutes on this exercise.\n",
        "```\n",
        "\n",
        "There are a few differences between this and log:\n",
        "\n",
        "- The actual function to be called is different\n",
        "- We need more than one argument in `args` and `parents`, when defining `Recipe`\n",
        "- `requires_grad` should be true if `grad_tracking_enabled=True`, and ANY of the input tensors require grad\n",
        "- One of the inputs may be an int, so you'll need to deal with this case before calculating `out`\n",
        "\n",
        "If you're confused, you can scroll up to the diagram at the top of the page (which tells you how to construct the recipe for functions like multiply or add when they are both arrays, or when one is an array and the other is a scalar).\n"
      ]
    },
    {
      "cell_type": "code",
      "execution_count": 12,
      "metadata": {
        "id": "ut1Kiti4QS__",
        "colab": {
          "base_uri": "https://localhost:8080/"
        },
        "outputId": "f09595d8-6170-46c6-a139-d776a1f70b8f"
      },
      "outputs": [
        {
          "output_type": "stream",
          "name": "stdout",
          "text": [
            "All tests in `test_multiply` passed!\n",
            "All tests in `test_multiply_no_grad` passed!\n",
            "All tests in `test_multiply_float` passed!\n"
          ]
        }
      ],
      "source": [
        "def multiply_forward(a: Tensor | int, b: Tensor | int) -> Tensor:\n",
        "    '''Performs np.multiply on a Tensor object.'''\n",
        "    assert isinstance(a, Tensor) or isinstance(b, Tensor)\n",
        "    not_int = None\n",
        "    if any([isinstance(a, int), isinstance(b, int)]):\n",
        "        if isinstance(a, int):\n",
        "            a_tensor = Tensor(\n",
        "                array=np.array(a),\n",
        "                requires_grad=False,\n",
        "            )\n",
        "            b_tensor = b\n",
        "            not_int = 1\n",
        "        else:\n",
        "            a_tensor = a\n",
        "            b_tensor = Tensor(\n",
        "                array=np.array(b),\n",
        "                requires_grad=False,\n",
        "            )\n",
        "            not_int = 0\n",
        "    else:\n",
        "        a_tensor = a\n",
        "        b_tensor = b\n",
        "\n",
        "    requires_grad = grad_tracking_enabled and (a_tensor.requires_grad or b_tensor.requires_grad)\n",
        "    tensor = Tensor(\n",
        "        array=np.multiply(a_tensor.array, b_tensor.array),\n",
        "        requires_grad=requires_grad\n",
        "    )\n",
        "\n",
        "    if requires_grad:\n",
        "        if not_int is not None:\n",
        "            parents={0: a_tensor} if not_int == 0 else {1: b_tensor}\n",
        "            args=(a_tensor.array, b,) if not_int == 0 else (a, b_tensor.array,)\n",
        "        else:\n",
        "            parents={0: a_tensor, 1: b_tensor}\n",
        "            args=(a_tensor.array, b_tensor.array,)\n",
        "        tensor.recipe = Recipe(\n",
        "            func=np.multiply,\n",
        "            args=args,\n",
        "            kwargs={},\n",
        "            parents=parents\n",
        "        )\n",
        "\n",
        "    return tensor\n",
        "\n",
        "multiply = multiply_forward\n",
        "tests.test_multiply(Tensor, multiply_forward)\n",
        "tests.test_multiply_no_grad(Tensor, multiply_forward)\n",
        "tests.test_multiply_float(Tensor, multiply_forward)\n",
        "a = Tensor([2], requires_grad=True)\n",
        "b = Tensor([3], requires_grad=True)\n",
        "grad_tracking_enabled = False\n",
        "b = multiply_forward(a, b)\n",
        "grad_tracking_enabled = True\n",
        "assert not b.requires_grad, \"should not require grad if grad tracking globally disabled\"\n",
        "assert b.recipe is None, \"should not create recipe if grad tracking globally disabled\""
      ]
    },
    {
      "cell_type": "markdown",
      "metadata": {
        "id": "PobBT61WQV8c"
      },
      "source": [
        "<details>\n",
        "<summary>Help - I get \"AttributeError: 'int' object has no attribute 'array'\".</summary>\n",
        "\n",
        "Remember that your multiply function should also accept integers. You need to separately deal with the cases where `a` and `b` are integers or Tensors.\n",
        "</details>\n",
        "\n",
        "<details>\n",
        "<summary>Help - I get \"AssertionError: assert len(c.recipe.parents) == 1 and c.recipe.parents[0] is a\" in the \"test_multiply_float\" test.</summary>\n",
        "\n",
        "This is probably because you've stored the inputs to `multiply` as integers when one of the is an integer. Remember, `parents` should just be a list of the **Tensors** that were inputs to `multiply`, so you shouldn't add ints.\n",
        "</details>\n"
      ]
    },
    {
      "cell_type": "markdown",
      "metadata": {
        "id": "d_C9X28HQgCB"
      },
      "source": [
        "## Forward Pass - Generic Version\n",
        "\n",
        "All our forward functions are going to look extremely similar to `log_forward` and `multiply_forward`.\n",
        "Implement the higher order function `wrap_forward_fn` that takes a `Arr -> Arr` function and returns a `Tensor -> Tensor` function. In other words, `wrap_forward_fn(np.multiply)` should evaluate to a callable that does the same thing as your `multiply_forward` (and same for `np.log`).\n"
      ]
    },
    {
      "cell_type": "markdown",
      "metadata": {
        "id": "DxgTxN8dQhqR"
      },
      "source": [
        "### Exercise - implement `wrap_forward_fn`\n",
        "\n",
        "```yaml\n",
        "Difficulty: 🔴🔴🔴🔴⚪\n",
        "Importance: 🔵🔵🔵⚪⚪\n",
        "\n",
        "You should spend up to 20-25 minutes on this exercise.\n",
        "\n",
        "This exercise is conceptually important, but might be a bit difficult if it isn't clear what the question is asking for.\n",
        "```\n"
      ]
    },
    {
      "cell_type": "code",
      "execution_count": 59,
      "metadata": {
        "id": "gDEWR4ACQz5E",
        "colab": {
          "base_uri": "https://localhost:8080/"
        },
        "outputId": "5e93c404-3a4c-4117-d66b-91158c8e0d70"
      },
      "outputs": [
        {
          "output_type": "stream",
          "name": "stdout",
          "text": [
            "All tests in `test_log` passed!\n",
            "All tests in `test_log_no_grad` passed!\n",
            "All tests in `test_multiply` passed!\n",
            "All tests in `test_multiply_no_grad` passed!\n",
            "All tests in `test_multiply_float` passed!\n",
            "All tests in `test_sum` passed!\n"
          ]
        }
      ],
      "source": [
        "def wrap_forward_fn(numpy_func: Callable, is_differentiable=True) -> Callable:\n",
        "    '''\n",
        "    numpy_func: Callable\n",
        "        takes any number of positional arguments, some of which may be NumPy arrays, and\n",
        "        any number of keyword arguments which we aren't allowing to be NumPy arrays at\n",
        "        present. It returns a single NumPy array.\n",
        "\n",
        "    is_differentiable:\n",
        "        if True, numpy_func is differentiable with respect to some input argument, so we\n",
        "        may need to track information in a Recipe. If False, we definitely don't need to\n",
        "        track information.\n",
        "\n",
        "    Return: Callable\n",
        "        It has the same signature as numpy_func, except wherever there was a NumPy array,\n",
        "        this has a Tensor instead.\n",
        "    '''\n",
        "    def tensor_func(*args: Any, **kwargs: Any) -> Tensor:\n",
        "        assert any([isinstance(arg, Tensor) for arg in args]), \"At least one input argument needs to be a tensor\"\n",
        "\n",
        "        raw_args = [arg.array if isinstance(arg, Tensor) else arg for arg in args]\n",
        "        tensor = Tensor(\n",
        "            array=numpy_func(*raw_args, **kwargs),\n",
        "            requires_grad=is_differentiable and any([(arg.requires_grad or arg.recipe is not None) for arg in args if isinstance(arg, Tensor)])\n",
        "        )\n",
        "\n",
        "        if tensor.requires_grad:\n",
        "            tensor.recipe = Recipe(\n",
        "                func=numpy_func,\n",
        "                args=tuple(raw_args),\n",
        "                kwargs=kwargs,\n",
        "                parents=dict([(idx, arg) for idx, arg in enumerate(args) if isinstance(arg, Tensor)]),\n",
        "            )\n",
        "\n",
        "        return tensor\n",
        "\n",
        "    return tensor_func\n",
        "\n",
        "def _sum(x: Arr, dim=None, keepdim=False) -> Arr:\n",
        "    # need to be careful with sum, because kwargs have different names in torch and numpy\n",
        "    return np.sum(x, axis=dim, keepdims=keepdim)\n",
        "\n",
        "log = wrap_forward_fn(np.log)\n",
        "multiply = wrap_forward_fn(np.multiply)\n",
        "eq = wrap_forward_fn(np.equal, is_differentiable=False)\n",
        "sum = wrap_forward_fn(_sum)\n",
        "\n",
        "tests.test_log(Tensor, log)\n",
        "tests.test_log_no_grad(Tensor, log)\n",
        "tests.test_multiply(Tensor, multiply)\n",
        "tests.test_multiply_no_grad(Tensor, multiply)\n",
        "tests.test_multiply_float(Tensor, multiply)\n",
        "tests.test_sum(Tensor)"
      ]
    },
    {
      "cell_type": "markdown",
      "metadata": {
        "id": "e7Ho40B4Q7o-"
      },
      "source": [
        "<details>\n",
        "<summary>Help - I'm not sure where to start.</summary>\n",
        "\n",
        "Start with the code from `multiply_forward`. The way this function was structured (i.e. the five comments in the solution) should also give you a good template for how to structure your `tensor_func` function.\n",
        "</details>\n",
        "\n",
        "<details>\n",
        "<summary>Help - I'm getting <code>NameError: name 'getitem' is not defined</code>.</summary>\n",
        "\n",
        "This is probably because you're calling `numpy_func` on the args themselves. Recall that `args` will be a list of `Tensor` objects, and that you should call `numpy_func` on the underlying arrays.\n",
        "</details>\n",
        "\n",
        "<details>\n",
        "<summary>Help - I'm getting an AssertionError on <code>assert c.requires_grad == True</code> (or something similar).</summary>\n",
        "\n",
        "This is probably because you're not defining `requires_grad` correctly. Remember that the output of a forward function should have `requires_grad = True` if and only if all of the following hold:\n",
        "\n",
        "* Grad tracking is enabled\n",
        "* The function is differentiable\n",
        "* **Any** of the inputs are tensors with `requires_grad = True`\n",
        "</details>\n",
        "\n",
        "<details>\n",
        "<summary>Help - my function passes all tests up to <code>test_sum</code>, but then fails here.</summary>\n",
        "\n",
        "`test_sum`, unlike the previous tests, wraps a function that uses keyword arguments. So if you're failing here, it's probably because you didn't use `kwargs` correctly.\n",
        "\n",
        "`kwargs` should be used in two ways: once when actually calling the `numpy_func`, and once when defining the `Recipe` object for the output tensor.\n",
        "</details>\n"
      ]
    },
    {
      "cell_type": "markdown",
      "metadata": {
        "id": "CNos-9faRG4O"
      },
      "source": [
        "Note - none of these functions involve keyword args, so the tests won't detect if you're handling kwargs incorrectly (or even failing to use them at all). If your code fails in later exercises, you might want to come back here and check that you're using the kwargs correctly. Alternatively, once you pass the tests, you can compare your code to the solutions and see how they handle kwargs.\n"
      ]
    },
    {
      "cell_type": "markdown",
      "metadata": {
        "id": "R1W1QjZ6RPXy"
      },
      "source": [
        "## Backpropagation\n",
        "\n",
        "Now all the pieces are in place to implement backpropagation. We need to:\n",
        "- Loop over the nodes from right to left. At each node:\n",
        "    - Call the backward function to transform the grad wrt output to the grad wrt input.\n",
        "    - If the node is a leaf, write the grad to the grad field.\n",
        "    - Otherwise, accumulate the grad into temporary storage.\n"
      ]
    },
    {
      "cell_type": "markdown",
      "metadata": {
        "id": "8hc8UZrlRSM_"
      },
      "source": [
        "### Topological Sort\n",
        "\n",
        "As part of backprop, we need to sort the nodes of our graph so we can traverse the graph in the appropriate order.\n"
      ]
    },
    {
      "cell_type": "markdown",
      "metadata": {
        "id": "tFFP7BO4RT1P"
      },
      "source": [
        "### Exercise - implement `topological_sort`\n",
        "\n",
        "```yaml\n",
        "Difficulty: 🔴🔴🔴🔴⚪\n",
        "Importance: 🔵⚪⚪⚪⚪\n",
        "\n",
        "You should spend up to 20-25 minutes on this exercise.\n",
        "\n",
        "Note, it's completely fine to skip this problem if you're not very interested in it. This is more of a fun LeetCode-style puzzle, and writing a solution for this isn't crucial for the overall experience of these exercises.\n",
        "```\n"
      ]
    },
    {
      "cell_type": "markdown",
      "metadata": {
        "id": "EBpD61zDRaaf"
      },
      "source": [
        "Write a general function `topological_sort` that return a list of node's children in topological order (beginning with the furthest descendants, ending with the starting node) using [depth-first search](https://en.wikipedia.org/wiki/Topological_sorting).\n",
        "\n",
        "We've given you a `Node` class, with a `children` attribute, and a `get_children` function. You shouldn't change any of these, and your `topological_sort` function should use `get_children` to access a node's children rather than calling `node.children` directly. In subsequent exercises, we'll replace the `Node` class with the `Tensor` class (and using a different `get_children` function), so this will ensure your code still works for this new case.\n",
        "\n",
        "If you're stuck, try looking at the pseudocode from some of [these examples](https://en.wikipedia.org/wiki/Topological_sorting#Kahn's_algorithm).\n"
      ]
    },
    {
      "cell_type": "code",
      "execution_count": 60,
      "metadata": {
        "id": "sLQbNL2wRcTA",
        "colab": {
          "base_uri": "https://localhost:8080/"
        },
        "outputId": "895a9154-9afc-4d35-be87-1275765389ce"
      },
      "outputs": [
        {
          "output_type": "stream",
          "name": "stdout",
          "text": [
            "All tests in `test_topological_sort_linked_list` passed!\n",
            "All tests in `test_topological_sort_branching` passed!\n",
            "All tests in `test_topological_sort_rejoining` passed!\n",
            "All tests in `test_topological_sort_cyclic` passed!\n"
          ]
        }
      ],
      "source": [
        "import random\n",
        "\n",
        "class Node:\n",
        "    def __init__(self, *children):\n",
        "        self.children = list(children)\n",
        "\n",
        "\n",
        "def get_children(node: Node) -> list[Node]:\n",
        "    return node.children\n",
        "\n",
        "def bfs(root: Node, get_children: Callable) -> list[Node]:\n",
        "    graph_nodes, nodes_to_visit = [], []\n",
        "    nodes_to_visit.append(root)\n",
        "    while nodes_to_visit:\n",
        "        current = nodes_to_visit.pop()\n",
        "        nodes_to_visit += get_children(current)\n",
        "        graph_nodes.append(current)\n",
        "\n",
        "    return graph_nodes\n",
        "\n",
        "def topological_sort(node: Node, get_children: Callable) -> list[Node]:\n",
        "    '''\n",
        "    Return a list of node's descendants in reverse topological order from future to past (i.e. `node` should be last).\n",
        "\n",
        "    Should raise an error if the graph with `node` as root is not in fact acyclic.\n",
        "    '''\n",
        "    sorted = []\n",
        "    perm = set()\n",
        "    temp = set()\n",
        "\n",
        "    def visit(node: None) -> None:\n",
        "        if node in perm:\n",
        "            return\n",
        "        if node in temp:\n",
        "            raise ValueError(\"Graph has cycle!\")\n",
        "\n",
        "        temp.add(node)\n",
        "\n",
        "        for child in get_children(node):\n",
        "            visit(child)\n",
        "\n",
        "        perm.add(node)\n",
        "        sorted.append(node)\n",
        "\n",
        "    visit(node)\n",
        "\n",
        "    return sorted\n",
        "\n",
        "tests.test_topological_sort_linked_list(topological_sort)\n",
        "tests.test_topological_sort_branching(topological_sort)\n",
        "tests.test_topological_sort_rejoining(topological_sort)\n",
        "tests.test_topological_sort_cyclic(topological_sort)"
      ]
    },
    {
      "cell_type": "markdown",
      "metadata": {
        "id": "3bmzq5pVRe6p"
      },
      "source": [
        "<details>\n",
        "<summary>Help - my function is hanging without returning any values.</summary>\n",
        "\n",
        "This is probably because it's going around in cycles when fed a cyclic graph. You should add a way of raising an error if your function detects that the graph isn't cyclic. One way to do this is to create a set `temp`, which stores the nodes you've visited on a particular excursion into the graph, then you can raise an error if you come across an already visited node.\n",
        "</details>\n",
        "\n",
        "<details>\n",
        "<summary>Help - I'm completely stuck on how to implement this, and would like the template for some code.</summary>\n",
        "\n",
        "Here is the template for a depth-first search implementation:\n",
        "\n",
        "```python\n",
        "def topological_sort(node: Node, get_children: Callable) -> list[Node]:\n",
        "    \n",
        "    result: list[Node] = [] # stores the list of nodes to be returned (in reverse topological order)\n",
        "    perm: set[Node] = set() # same as `result`, but as a set (faster to check for membership)\n",
        "    temp: set[Node] = set() # keeps track of previously visited nodes (to detect cyclicity)\n",
        "\n",
        "    def visit(cur: Node):\n",
        "        '''\n",
        "        Recursive function which visits all the children of the current node, and appends them all\n",
        "        to `result` in the order they were found.\n",
        "        '''\n",
        "        pass\n",
        "\n",
        "    visit(node)\n",
        "    return result\n",
        "```\n",
        "</details>\n"
      ]
    },
    {
      "cell_type": "markdown",
      "metadata": {
        "id": "FApT8E2IR0jk"
      },
      "source": [
        "Now, you should write the function `sorted_computational_graph`. This should be a short function (the main part of it is calling `topological_sort`), but there are a few things to keep in mind:\n",
        "\n",
        "* You'll need a different `get_children` function for when you call `topological_sort`. This should actually return the **parents** of the tensor in question (sorry for the confusing terminology!).\n",
        "* You should return the tensors in the order needed for backprop, in other words the `tensor` argument should be the first one in your list.\n"
      ]
    },
    {
      "cell_type": "markdown",
      "metadata": {
        "id": "vkkna405R4WY"
      },
      "source": [
        "<img src=\"https://github.com/callummcdougall/Fundamentals/blob/main/images/abcdefg.png?raw=true\" width=500>\n"
      ]
    },
    {
      "cell_type": "code",
      "execution_count": 61,
      "metadata": {
        "id": "NnOgpC6FR-YN",
        "colab": {
          "base_uri": "https://localhost:8080/"
        },
        "outputId": "f0fb1e53-6987-490a-a4e3-576a3ac1ce1c"
      },
      "outputs": [
        {
          "output_type": "stream",
          "name": "stdout",
          "text": [
            "['g', 'f', 'e', 'c', 'd', 'b', 'a']\n"
          ]
        }
      ],
      "source": [
        "def sorted_computational_graph(tensor: Tensor) -> list[Tensor]:\n",
        "    '''\n",
        "    For a given tensor, return a list of Tensors that make up the nodes of the given Tensor's computational graph,\n",
        "    in reverse topological order (i.e. `tensor` should be first).\n",
        "    '''\n",
        "    def get_children(tensor: Tensor) -> list[Tensor]:\n",
        "        if tensor.requires_grad and tensor.recipe is not None:\n",
        "            return tensor.recipe.parents.values()\n",
        "        else:\n",
        "            return []\n",
        "    topological_list = topological_sort(tensor, get_children)\n",
        "    topological_list.reverse()\n",
        "    return topological_list\n",
        "\n",
        "\n",
        "a = Tensor([1], requires_grad=True)\n",
        "b = Tensor([2], requires_grad=True)\n",
        "c = Tensor([3], requires_grad=True)\n",
        "d = a * b\n",
        "e = c.log()\n",
        "f = d * e\n",
        "g = f.log()\n",
        "name_lookup = {a: \"a\", b: \"b\", c: \"c\", d: \"d\", e: \"e\", f: \"f\", g: \"g\"}\n",
        "\n",
        "print([name_lookup[t] for t in sorted_computational_graph(g)])"
      ]
    },
    {
      "cell_type": "code",
      "execution_count": 62,
      "metadata": {
        "id": "o-OuvsB_CZgo",
        "colab": {
          "base_uri": "https://localhost:8080/"
        },
        "outputId": "27fe98fa-5e76-46d7-e37a-5313736ca38a"
      },
      "outputs": [
        {
          "output_type": "stream",
          "name": "stdout",
          "text": [
            "['d', 'c', 'b', 'a']\n"
          ]
        }
      ],
      "source": [
        "a = Tensor([1], requires_grad=True)\n",
        "# a2 = Tensor([1], requires_grad=True)\n",
        "b = a * 2\n",
        "c = a * 1\n",
        "d = b * c\n",
        "name_lookup = {a: \"a\", b: \"b\", c: \"c\", d: \"d\"}\n",
        "\n",
        "print([name_lookup[t] for t in sorted_computational_graph(d)])"
      ]
    },
    {
      "cell_type": "markdown",
      "metadata": {
        "id": "UqYy2ZooSA6m"
      },
      "source": [
        "Compare your output with the computational graph. You should never be printing `x` before `y` if there is an edge `x --> ... --> y` (this should result in approximately reverse alphabetical order).\n"
      ]
    },
    {
      "cell_type": "markdown",
      "metadata": {
        "id": "mTBpFEWCSDVe"
      },
      "source": [
        "### The `backward` method\n",
        "\n",
        "Now we're really ready for backprop!\n",
        "\n",
        "Recall that in the implementation of the class `Tensor`, we had:\n",
        "\n",
        "```python\n",
        "class Tensor:\n",
        "\n",
        "    def backward(self, end_grad: \"Arr | Tensor | None\" = None) -> None:\n",
        "        if isinstance(end_grad, Arr):\n",
        "            end_grad = Tensor(end_grad)\n",
        "        return backprop(self, end_grad)\n",
        "```\n",
        "\n",
        "In other words, for a tensor `out`, calling `out.backward()` is equivalent to `backprop(out)`.\n"
      ]
    },
    {
      "cell_type": "markdown",
      "metadata": {
        "id": "_dzRWp0HR75C"
      },
      "source": [
        "### End grad\n",
        "\n",
        "You might be wondering what role the `end_grad` argument in `backward` plays. We usually just call `out.backward()` when we're working with loss functions; why do we need another argument?\n",
        "\n",
        "The reason is that we've only ever called `tensor.backward()` on scalars (i.e. tensors with a single element). If `tensor` is multi-dimensional, then we can get a scalar from it by taking a weighted sum of all of the elements. The elements of `end_grad` are precisely the coefficients of our weighted sum. In other words, calling `tensor.backward(end_grad)` implicitly does the following:\n",
        "\n",
        "* Defines the value `L = (tensor * end_grad).sum()`\n",
        "* Backpropagates from `L` to all the other tensors in the graph before `tensor`\n",
        "\n",
        "So if `end_grad` is specified, it will be used as the `grad_out` argument in our first backward function. If `end_grad` is not specified, we assume `L = tensor.sum()`, i.e. `end_grad` is a tensor of all ones with the same shape as `tensor`.\n"
      ]
    },
    {
      "cell_type": "markdown",
      "metadata": {
        "id": "CmRHpFg2SX7m"
      },
      "source": [
        "### Leaf nodes\n",
        "\n",
        "The `Tensor` object has an `is_leaf` property. Recall from the code earlier, we had:\n",
        "\n",
        "```python\n",
        "class Tensor:\n",
        "\n",
        "    @property\n",
        "    def is_leaf(self):\n",
        "        '''Same as https://pytorch.org/docs/stable/generated/torch.Tensor.is_leaf.html'''\n",
        "        if self.requires_grad and self.recipe and self.recipe.parents:\n",
        "            return False\n",
        "        return True\n",
        "```\n",
        "\n",
        "In other words, leaf node tensors are any with either `requires_grad=False`, or which were *not* created by some operation on other tensors.\n",
        "\n",
        "In backprop, only the leaf nodes with `requires_grad=True` accumulate gradients. You can think of leaf nodes as being edges of the computational graph, i.e. nodes from which you can't move further backwards topologically.\n",
        "\n",
        "For example, suppose we have a neural network with a single linear layer called `layer`, and it produces `output` when we pass in `input`. Then:\n",
        "\n",
        "* `output` is not a leaf node, because it is the result of an operation on `layer.weight` and `input` (i.e. `recipe.parents` is not None)\n",
        "* `input` is a leaf node because it has `requires_grad=False` (this is the default for tensors) and it wasn't created from anything (i.e. `recipe` is None). So gradients will stop propagating when they get to `input`, but it won't store any gradients.\n",
        "* `layer.weight` is a leaf node because it wasn't created from anything (i.e. `recipe` is None). So gradients will stop propagating when they get to `layer.weight`, and it will store gradients (since `requires_grad=True`).\n",
        "\n",
        "```python\n",
        "layer = torch.nn.Linear(3, 4)\n",
        "input = torch.ones(3)\n",
        "output = layer(input)\n",
        "\n",
        "print(layer.weight.is_leaf)       # -> True\n",
        "print(layer.weight.requires_grad) # -> True\n",
        "\n",
        "print(output.is_leaf)             # -> False\n",
        "\n",
        "print(input.is_leaf)              # -> True\n",
        "print(input.requires_grad)        # -> False\n",
        "```\n",
        "\n",
        "In the computational graph in the next section, the only leaves are `a`, `b` and `c`.\n"
      ]
    },
    {
      "cell_type": "markdown",
      "metadata": {
        "id": "ZHZfAuNKSb7Z"
      },
      "source": [
        "### Exercise - implement `backprop`\n",
        "\n",
        "```yaml\n",
        "Difficulty: 🔴🔴🔴🔴🔴\n",
        "Importance: 🔵🔵🔵🔵🔵\n",
        "\n",
        "You should spend up to 30-40 minutes on this exercise.\n",
        "\n",
        "This exercise is the most conceptually important today. You should be willing to spend around 30 minutes on it. We've provided several dropdowns to help you.\n",
        "```\n"
      ]
    },
    {
      "cell_type": "markdown",
      "metadata": {
        "id": "2fAdZB_ZSfPA"
      },
      "source": [
        "Now, we get to the actual backprop function! Some code is provided below, which you should complete.\n",
        "\n",
        "If you want a challenge, you can try and implement it straight away, with out any help. However, because this is quite a challenging exercise, you can also use the dropdowns below. The first one gives you a sketch of the backpropagation algorithm, the second gives you a diagram which provides a bit more detail, and the third gives you the annotations for the function (so you just have to fill in the code). You are recommended to start by trying to implement it without help, but use the dropdowns (in order) if this is too difficult.\n",
        "\n",
        "We've also provided a few dropdowns to address specific technical errors that can arise from implementing this function. If you're having trouble, you can use these to help you debug.\n",
        "\n",
        "Either way, you're recommended to take some time with this function, as it's definitely the single most conceptually important exercise in the \"Build Your Own Backpropagation Framework\" section.\n"
      ]
    },
    {
      "cell_type": "code",
      "execution_count": 63,
      "metadata": {
        "id": "QAUPXt0YSgr2",
        "colab": {
          "base_uri": "https://localhost:8080/"
        },
        "outputId": "f6220ec4-f92d-492d-8d1f-523d49d975ab"
      },
      "outputs": [
        {
          "output_type": "stream",
          "name": "stdout",
          "text": [
            "All tests in `test_backprop` passed!\n",
            "All tests in `test_backprop_branching` passed!\n",
            "All tests in `test_backprop_requires_grad_false` passed!\n",
            "All tests in `test_backprop_float_arg` passed!\n"
          ]
        }
      ],
      "source": [
        "BACK_FUNCS = BackwardFuncLookup()\n",
        "BACK_FUNCS.add_back_func(np.log, 0, log_back)\n",
        "BACK_FUNCS.add_back_func(np.multiply, 0, multiply_back0)\n",
        "BACK_FUNCS.add_back_func(np.multiply, 1, multiply_back1)\n",
        "\n",
        "def backprop(end_node: Tensor, end_grad: Optional[Tensor] = None) -> None:\n",
        "    '''Accumulates gradients in the grad field of each leaf node.\n",
        "\n",
        "    tensor.backward() is equivalent to backprop(tensor).\n",
        "\n",
        "    end_node:\n",
        "        The rightmost node in the computation graph.\n",
        "        If it contains more than one element, end_grad must be provided.\n",
        "    end_grad:\n",
        "        A tensor of the same shape as end_node.\n",
        "        Set to 1 if not specified and end_node has only one element.\n",
        "    '''\n",
        "    grads = {}\n",
        "    if end_grad is not None:\n",
        "        grad_out = end_grad.array\n",
        "    else:\n",
        "        grad_out = end_node.array.sum()\n",
        "    grads[end_node] = grad_out\n",
        "\n",
        "    comp_graph = sorted_computational_graph(end_node)\n",
        "    for node in comp_graph:\n",
        "        if node.is_leaf:\n",
        "            if node.requires_grad:\n",
        "                node.grad = Tensor(\n",
        "                    array=grads[node],\n",
        "                    requires_grad=False\n",
        "                )\n",
        "        else:\n",
        "            if node.recipe is None or node.recipe.parents is None:\n",
        "                continue\n",
        "            else:\n",
        "                for pos, parent in node.recipe.parents.items():\n",
        "                    back_func = BACK_FUNCS.get_back_func(node.recipe.func, pos)\n",
        "                    grads[parent] = back_func(*[grads[node], node.array, *node.recipe.args], **node.recipe.kwargs)\n",
        "\n",
        "tests.test_backprop(Tensor)\n",
        "tests.test_backprop_branching(Tensor)\n",
        "tests.test_backprop_requires_grad_false(Tensor)\n",
        "tests.test_backprop_float_arg(Tensor)"
      ]
    },
    {
      "cell_type": "markdown",
      "metadata": {
        "id": "TrCG-_SBSkMX"
      },
      "source": [
        "<details>\n",
        "<summary>Dropdown #1 - sketch of algorithm</summary>\n",
        "\n",
        "You should iterate through the computational graph, in the order returned by your function (i.e. from right to left). For each tensor, you need to do two things:\n",
        "\n",
        "* If necessary, store the gradient in the `grad` field of the tensor. (This means you'll have to store the gradients in an external object, before setting them as attributes of the tensors.)\n",
        "* For each of the tensor's parents, store the gradients of those tensors for this particular path through the graph (this will require calling your backward functions, which you should get from the `BACK_FUNCS` object).\n",
        "</details>\n",
        "\n",
        "<details>\n",
        "<summary>Dropdown #2 - diagram of algorithm</summary>\n",
        "\n",
        "<img src=\"https://raw.githubusercontent.com/callummcdougall/computational-thread-art/master/example_images/misc/backprop-2.png\" width=800>\n",
        "</details>\n",
        "\n",
        "<details>\n",
        "<summary>Dropdown #3 - annotations</summary>\n",
        "\n",
        "Fill in the code beneath each annotation line that doesn't already have a line of code beneath it.\n",
        "\n",
        "Most annotations only require one line of code below them.\n",
        "\n",
        "```python\n",
        "def backprop(end_node: Tensor, end_grad: Optional[Tensor] = None) -> None:\n",
        "\n",
        "    # Get value of end_grad_arr\n",
        "\n",
        "    # Create dictionary 'grads' to store gradients\n",
        "\n",
        "    # Iterate through the computational graph, using your sorting function\n",
        "    for node in sorted_computational_graph(end_node):\n",
        "        \n",
        "        # Get the outgradient from the grads dict\n",
        "        \n",
        "        # If this node is a leaf & requires_grad is true, then store the gradient\n",
        "                \n",
        "        # For all parents in the node:\n",
        "            \n",
        "        # If node has a recipe, then we iterate through parents (which is a dict of {arg_posn: tensor})\n",
        "        for argnum, parent in node.recipe.parents.items():\n",
        "            \n",
        "            # Get the backward function corresponding to the function that created this node\n",
        "            \n",
        "            # Use this backward function to calculate the gradient\n",
        "\n",
        "            # Add the gradient to this node in the dictionary `grads`\n",
        "```\n",
        "</details>\n"
      ]
    },
    {
      "cell_type": "markdown",
      "metadata": {
        "id": "P0icCfpwS4TN"
      },
      "source": [
        "Specific technical issues:\n",
        "\n",
        "<details>\n",
        "<summary>Help - I get AttributeError: 'NoneType' object has no attribute 'func'</summary>\n",
        "\n",
        "This error is probably because you're trying to access `recipe.func` from the wrong node. Possibly, you're calling your backward functions using the parents nodes' `recipe.func`, rather than the node's `recipe.func`.\n",
        "        \n",
        "To explain further, suppose your computational graph is simply:\n",
        "\n",
        "<img src=\"https://raw.githubusercontent.com/callummcdougall/computational-thread-art/master/example_images/misc/Screenshot%202023-02-17%20174308.png\" width=320>\n",
        "\n",
        "When you reach `b` in your backprop iteration, you should calculate the gradient wrt `a` (the only parent of `b`) and store it in your `grads` dictionary, as `grads[a]`. In order to do this, you need the backward function for `func1`, which is stored in the node `b` (recall that the recipe of a tensor can be thought of as a set of instructions for how that tensor was created).\n",
        "</details>\n",
        "\n",
        "<details>\n",
        "<summary>Help - I get AttributeError: 'numpy.ndarray' object has no attribute 'array'</summary>\n",
        "\n",
        "This might be because you've set `node.grad` to be an array, rather than a tensor. You should store gradients as tensors (think of PyTorch, where `tensor.grad` will have type `torch.Tensor`).\n",
        "        \n",
        "It's fine to store numpy arrays in the `grads` dictionary, but when it comes time to set a tensor's grad attribute, you should use a tensor.\n",
        "</details>\n",
        "\n",
        "<details>\n",
        "<summary>Help - I get 'RuntimeError: bool value of Tensor with more than one value is ambiguous'.</summary>\n",
        "\n",
        "This error is probably because your computational graph function checks whether a tensor is in a list. The way these classes are compared for equality is a bit funky, and using sets rather than lists should make this error go away (i.e. checking whether a tensor is in a set should be fine).\n",
        "</details>\n"
      ]
    },
    {
      "cell_type": "markdown",
      "metadata": {
        "id": "1sY4rn7NTMzO"
      },
      "source": [
        "# 3️⃣ More forward & backward functions\n"
      ]
    },
    {
      "cell_type": "markdown",
      "metadata": {
        "id": "YJOOfahTCZgq"
      },
      "source": [
        "> ## Learning Objectives\n",
        ">\n",
        "> * Implement more forward and backward functions, including for\n",
        ">   * Indexing\n",
        ">   * Non-differentiable functions\n",
        ">   * Matrix multiplication\n"
      ]
    },
    {
      "cell_type": "markdown",
      "metadata": {
        "id": "GRXRl2r4NfGj"
      },
      "source": [
        "Congrats on implementing backprop! The next thing we'll do is write implement a bunch of backward functions that we need to train our model at the end of the day, as well as ones that cover interesting cases.\n",
        "\n",
        "These should be just like your `log_back` and `multiply_back0`, `multiplyback1` examples earlier.\n"
      ]
    },
    {
      "cell_type": "markdown",
      "metadata": {
        "id": "L7K7KCI-NgGO"
      },
      "source": [
        "***Note - some of these exercises can get a bit repetitive. About 60% of the value of these exercises was in the first 2 sections out of 5, and of the remaining 40%, not much of it is in this section! So you're welcome to skim through these exercises if you don't find them interesting.***\n"
      ]
    },
    {
      "cell_type": "markdown",
      "metadata": {
        "id": "khmPLsQgNijg"
      },
      "source": [
        "## Non-Differentiable Functions\n",
        "\n",
        "For functions like `torch.argmax` or `torch.eq`, there's no sensible way to define gradients with respect to the input tensor. For these, we will still use `wrap_forward_fn` because we still need to unbox the arguments and box the result, but by passing `is_differentiable=False` we can avoid doing any unnecessary computation.\n",
        "\n",
        "We've given you this one as an example:\n"
      ]
    },
    {
      "cell_type": "code",
      "execution_count": 64,
      "metadata": {
        "id": "qwJs0qL-NkGU"
      },
      "outputs": [],
      "source": [
        "def _argmax(x: Arr, dim=None, keepdim=False):\n",
        "    '''Like torch.argmax.'''\n",
        "    return np.expand_dims(np.argmax(x, axis=dim), axis=([] if dim is None else dim))\n",
        "\n",
        "\n",
        "argmax = wrap_forward_fn(_argmax, is_differentiable=False)\n",
        "\n",
        "a = Tensor([1.0, 0.0, 3.0, 4.0], requires_grad=True)\n",
        "b = a.argmax()\n",
        "assert not b.requires_grad\n",
        "assert b.recipe is None\n",
        "assert b.item() == 3"
      ]
    },
    {
      "cell_type": "markdown",
      "metadata": {
        "id": "xPHCO2qJCZgq"
      },
      "source": [
        "## Single-Tensor Differentiable Functions\n"
      ]
    },
    {
      "cell_type": "markdown",
      "metadata": {
        "id": "UTA-Sa92Nu72"
      },
      "source": [
        "### Exercise - `negative`\n",
        "\n",
        "```yaml\n",
        "Difficulty: 🔴⚪⚪⚪⚪\n",
        "Importance: 🔵⚪⚪⚪⚪\n",
        "\n",
        "You should spend up to 5-10 minutes on this exercise.\n",
        "```\n",
        "\n",
        "`torch.negative` just performs `-x` elementwise. Make your own version `negative` using `wrap_forward_fn`.\n"
      ]
    },
    {
      "cell_type": "code",
      "execution_count": 65,
      "metadata": {
        "id": "ET39xwtzN75x",
        "colab": {
          "base_uri": "https://localhost:8080/"
        },
        "outputId": "be97bb13-4cbe-41ce-de54-71609e3a5755"
      },
      "outputs": [
        {
          "output_type": "stream",
          "name": "stdout",
          "text": [
            "All tests in `test_negative_back` passed!\n"
          ]
        }
      ],
      "source": [
        "def negative_back(grad_out: Arr, out: Arr, x: Arr) -> Arr:\n",
        "    '''Backward function for f(x) = -x elementwise.'''\n",
        "    return - grad_out\n",
        "\n",
        "negative = wrap_forward_fn(np.negative)\n",
        "BACK_FUNCS.add_back_func(np.negative, 0, negative_back)\n",
        "\n",
        "tests.test_negative_back(Tensor)"
      ]
    },
    {
      "cell_type": "markdown",
      "metadata": {
        "id": "qoKMGHb-OH2O"
      },
      "source": [
        "### Exercise - `exp`\n",
        "\n",
        "```yaml\n",
        "Difficulty: 🔴⚪⚪⚪⚪\n",
        "Importance: 🔵🔵⚪⚪⚪\n",
        "\n",
        "You should spend up to 5-10 minutes on this exercise.\n",
        "```\n",
        "\n",
        "Make your own version of `torch.exp`. The backward function should express the result in terms of the `out` parameter - this more efficient than expressing it in terms of `x`.\n"
      ]
    },
    {
      "cell_type": "code",
      "execution_count": 66,
      "metadata": {
        "id": "RFcNpp08OJAX",
        "colab": {
          "base_uri": "https://localhost:8080/"
        },
        "outputId": "8915a7cf-221a-4dec-a909-955fcdf6e190"
      },
      "outputs": [
        {
          "output_type": "stream",
          "name": "stdout",
          "text": [
            "All tests in `test_exp_back` passed!\n"
          ]
        }
      ],
      "source": [
        "def exp_back(grad_out: Arr, out: Arr, x: Arr) -> Arr:\n",
        "    return grad_out * out\n",
        "\n",
        "exp = wrap_forward_fn(np.exp)\n",
        "BACK_FUNCS.add_back_func(np.exp, 0, exp_back)\n",
        "\n",
        "tests.test_exp_back(Tensor)"
      ]
    },
    {
      "cell_type": "markdown",
      "metadata": {
        "id": "r-75y3FAOXnw"
      },
      "source": [
        "### Exercise - `reshape`\n",
        "\n",
        "```yaml\n",
        "Difficulty: 🔴⚪⚪⚪⚪\n",
        "Importance: 🔵⚪⚪⚪⚪\n",
        "\n",
        "You should spend up to 5-10 minutes on this exercise.\n",
        "```\n",
        "\n",
        "`reshape` is a bit more complicated than the many functions we've dealt with so far: there is an additional positional argument `new_shape`. Since it's not a `Tensor`, we don't need to think about differentiating with respect to it. Remember, `new_shape` is the argument that gets passed into the **forward function**, and we're trying to reverse this operation and return to the shape of the input.\n",
        "\n",
        "Depending how you wrote `wrap_forward_fn` and `backprop`, you might need to go back and adjust them to handle this. Or, you might just have to implement `reshape_back` and everything will work.\n",
        "\n",
        "Note that the output is a different shape than the input, but this doesn't introduce any additional complications.\n"
      ]
    },
    {
      "cell_type": "code",
      "execution_count": 67,
      "metadata": {
        "id": "FN8tUlVBOYsT",
        "colab": {
          "base_uri": "https://localhost:8080/"
        },
        "outputId": "33f09c58-6279-4d2a-df9a-81afc29b2cc3"
      },
      "outputs": [
        {
          "output_type": "stream",
          "name": "stdout",
          "text": [
            "All tests in `test_reshape_back` passed!\n"
          ]
        }
      ],
      "source": [
        "def reshape_back(grad_out: Arr, out: Arr, x: Arr, new_shape: tuple) -> Arr:\n",
        "    return grad_out.reshape(x.shape)\n",
        "\n",
        "reshape = wrap_forward_fn(np.reshape)\n",
        "BACK_FUNCS.add_back_func(np.reshape, 0, reshape_back)\n",
        "\n",
        "tests.test_reshape_back(Tensor)"
      ]
    },
    {
      "cell_type": "markdown",
      "metadata": {
        "id": "wZga8MweOgw_"
      },
      "source": [
        "### Exercise - `permute`\n",
        "\n",
        "```yaml\n",
        "Difficulty: 🔴🔴🔴⚪⚪\n",
        "Importance: 🔵⚪⚪⚪⚪\n",
        "\n",
        "You should spend up to 10-15 minutes on this exercise.\n",
        "```\n",
        "\n",
        "In NumPy, the equivalent of `torch.permute` is called `np.transpose`, so we will wrap that.\n"
      ]
    },
    {
      "cell_type": "code",
      "execution_count": 68,
      "metadata": {
        "id": "_TdlozYSOhy8",
        "colab": {
          "base_uri": "https://localhost:8080/"
        },
        "outputId": "0df6b9be-1cd9-4527-a0ff-9f42719e699d"
      },
      "outputs": [
        {
          "output_type": "stream",
          "name": "stdout",
          "text": [
            "All tests in `test_permute_back` passed!\n"
          ]
        }
      ],
      "source": [
        "def invert_transposition(axes: tuple) -> tuple:\n",
        "    '''\n",
        "    axes: tuple indicating a transition\n",
        "\n",
        "    Returns: inverse of this transposition, i.e. the array `axes_inv` s.t. we have:\n",
        "        np.transpose(np.transpose(x, axes), axes_inv) == x\n",
        "\n",
        "    Some examples:\n",
        "        (1, 0)    --> (1, 0)     # this is reversing a simple 2-element transposition\n",
        "        (0, 2, 1) --> (0, 2, 1)  # also a 2-element transposition\n",
        "        (1, 2, 0) --> (2, 0, 1)  # this is reversing the order of a 3-cycle\n",
        "    '''\n",
        "    n = len(axes)\n",
        "    inverse = np.empty(n, dtype=int)\n",
        "    inverse[list(axes)] = np.arange(n)\n",
        "    return tuple(inverse)\n",
        "\n",
        "def permute_back(grad_out: Arr, out: Arr, x: Arr, axes: tuple) -> Arr:\n",
        "    return np.transpose(grad_out, invert_transposition(axes))\n",
        "\n",
        "\n",
        "BACK_FUNCS.add_back_func(np.transpose, 0, permute_back)\n",
        "permute = wrap_forward_fn(np.transpose)\n",
        "\n",
        "tests.test_permute_back(Tensor)"
      ]
    },
    {
      "cell_type": "markdown",
      "metadata": {
        "id": "hjgFeyamOkQr"
      },
      "source": [
        "<details>\n",
        "<summary>Help - I'm confused about how to implement this function.</summary>\n",
        "\n",
        "You should first define the function `invert_transposition`. A docstring is given below:\n",
        "\n",
        "```python\n",
        "def invert_transposition(axes: tuple) -> tuple:\n",
        "    '''\n",
        "    axes: tuple indicating a transition\n",
        "    \n",
        "    Returns: inverse of this transposition, i.e. the array `axes_inv` s.t. we have:\n",
        "        np.transpose(np.transpose(x, axes), axes_inv) == x\n",
        "    \n",
        "    Some examples:\n",
        "        (1, 0)    --> (1, 0)     # this is reversing a simple 2-element transposition\n",
        "        (0, 2, 1) --> (0, 2, 1)  # also a 2-element transposition\n",
        "        (1, 2, 0) --> (2, 0, 1)  # this is reversing the order of a 3-cycle\n",
        "    '''\n",
        "    pass\n",
        "```\n",
        "\n",
        "Once you've done this, you can define `permute_back` by transposing again, this time with the inversed transposition instructions.\n",
        "</details>"
      ]
    },
    {
      "cell_type": "markdown",
      "metadata": {
        "id": "8XYEyzXqO-bJ"
      },
      "source": [
        "### Exercise - `expand`\n",
        "\n",
        "```yaml\n",
        "Difficulty: 🔴🔴🔴⚪⚪\n",
        "Importance: 🔵⚪⚪⚪⚪\n",
        "\n",
        "You should spend up to 15-20 minutes on this exercise.\n",
        "```\n",
        "\n",
        "Implement your version of `torch.expand`.\n",
        "\n",
        "The backward function should just call `unbroadcast`.\n",
        "\n",
        "For the forward function, we will use `np.broadcast_to`. This function takes in an array and a target shape, and returns a version of the array broadcasted to the target shape using the rules of broadcasting we discussed in an earlier section. For example:\n"
      ]
    },
    {
      "cell_type": "code",
      "execution_count": 69,
      "metadata": {
        "id": "4RlbrSRCNlkq",
        "colab": {
          "base_uri": "https://localhost:8080/"
        },
        "outputId": "cd1bb380-53db-4b26-bec8-84d36e515101"
      },
      "outputs": [
        {
          "output_type": "execute_result",
          "data": {
            "text/plain": [
              "array([[1, 2, 3],\n",
              "       [1, 2, 3],\n",
              "       [1, 2, 3]])"
            ]
          },
          "metadata": {},
          "execution_count": 69
        }
      ],
      "source": [
        "x = np.array([1, 2, 3])\n",
        "\n",
        "np.broadcast_to(x, (3, 3))"
      ]
    },
    {
      "cell_type": "code",
      "execution_count": 70,
      "metadata": {
        "id": "XyKUVFYAPEKc",
        "colab": {
          "base_uri": "https://localhost:8080/"
        },
        "outputId": "9b698846-d859-4c88-9320-605b17cc23d4"
      },
      "outputs": [
        {
          "output_type": "execute_result",
          "data": {
            "text/plain": [
              "array([[1, 1, 1],\n",
              "       [2, 2, 2],\n",
              "       [3, 3, 3]])"
            ]
          },
          "metadata": {},
          "execution_count": 70
        }
      ],
      "source": [
        "x = np.array([[1], [2], [3]])\n",
        "\n",
        "np.broadcast_to(x, (3, 3)) # x has shape (3, 1); broadcasting is done along rows"
      ]
    },
    {
      "cell_type": "markdown",
      "metadata": {
        "id": "yMBHIiDbPUY1"
      },
      "source": [
        "The reason we can't just use `np.broadcast_to` and call it a day is that `torch.expand` supports -1 for a dimension size meaning \"don't change the size\". For example:\n"
      ]
    },
    {
      "cell_type": "code",
      "execution_count": 71,
      "metadata": {
        "id": "9b6Y1daLPWnB",
        "colab": {
          "base_uri": "https://localhost:8080/"
        },
        "outputId": "5e08be44-c8cb-4e82-9a72-b7398ed7336a"
      },
      "outputs": [
        {
          "output_type": "execute_result",
          "data": {
            "text/plain": [
              "tensor([[1, 1, 1],\n",
              "        [2, 2, 2],\n",
              "        [3, 3, 3]])"
            ]
          },
          "metadata": {},
          "execution_count": 71
        }
      ],
      "source": [
        "x = t.tensor([[1], [2], [3]])\n",
        "\n",
        "x.expand(-1, 3)"
      ]
    },
    {
      "cell_type": "markdown",
      "metadata": {
        "id": "ZfVpBuqpPgcQ"
      },
      "source": [
        "So when implementing `_expand`, you'll need to be a bit careful when constructing the shape to broadcast to.\n"
      ]
    },
    {
      "cell_type": "code",
      "execution_count": 72,
      "metadata": {
        "id": "LLNHsy8APXvj",
        "colab": {
          "base_uri": "https://localhost:8080/"
        },
        "outputId": "46a26f2a-1c69-401f-9a02-d50a39668ad0"
      },
      "outputs": [
        {
          "output_type": "stream",
          "name": "stdout",
          "text": [
            "All tests in `test_expand` passed!\n",
            "All tests in `test_expand_negative_length` passed!\n"
          ]
        }
      ],
      "source": [
        "def expand_back(grad_out: Arr, out: Arr, x: Arr, new_shape: tuple) -> Arr:\n",
        "    return unbroadcast(grad_out, x)\n",
        "\n",
        "def _expand(x: Arr, new_shape: tuple) -> Arr:\n",
        "    '''\n",
        "    Like torch.expand, calling np.broadcast_to internally.\n",
        "\n",
        "    Note torch.expand supports -1 for a dimension size meaning \"don't change the size\".\n",
        "    np.broadcast_to does not natively support this.\n",
        "    '''\n",
        "    if -1 not in new_shape:\n",
        "        return np.broadcast_to(x, new_shape)\n",
        "    else:\n",
        "        new_shape = np.array(new_shape)\n",
        "        no_change_idxs = (new_shape == -1).nonzero()\n",
        "        if len(new_shape) == len(x.shape):\n",
        "            new_shape[no_change_idxs] = np.array(x.shape)[no_change_idx]\n",
        "        else:\n",
        "            new_shape[no_change_idxs] = np.array(x.shape)\n",
        "        return np.broadcast_to(x, tuple(new_shape))\n",
        "\n",
        "expand = wrap_forward_fn(_expand)\n",
        "BACK_FUNCS.add_back_func(_expand, 0, expand_back)\n",
        "\n",
        "tests.test_expand(Tensor)\n",
        "tests.test_expand_negative_length(Tensor)"
      ]
    },
    {
      "cell_type": "markdown",
      "metadata": {
        "id": "btJxl2DFPklC"
      },
      "source": [
        "<details>\n",
        "<summary>Help - I'm not sure how to construct the shape.</summary>\n",
        "\n",
        "If `new_shape` contains no -1s, then you're done. If it does contain -1s, you want to replace those with the appropriate values from `x.shape`.\n",
        "\n",
        "For example, if `a.shape = (5,)`, and `new_shape = (3, 2, -1)`, you want the actual shape passed into `np.broadcast_to` to be `(3, 2, 5)`.\n",
        "</details>\n"
      ]
    },
    {
      "cell_type": "markdown",
      "metadata": {
        "id": "wWcX4Dh4Prwk"
      },
      "source": [
        "### Exercise - `sum`\n",
        "\n",
        "```c\n",
        "Difficulty: 🔴🔴🔴🔴⚪\n",
        "Importance: 🔵🔵⚪⚪⚪\n",
        "\n",
        "You should spend up to 20-30 minutes on this exercise.\n",
        "This one can be a bit tricky, so don't be afraid to look at the hint.\n",
        "```\n",
        "\n",
        "The output can also be smaller than the input, such as when calling `torch.sum`. Implement your own `torch.sum` and `sum_back`.\n",
        "\n",
        "Note, if you get weird exceptions that you can't explain, and these exceptions don't even go away when you use the solutions provided, this probably means that your implementation of `wrap_forward_fn` was wrong in a way which wasn't picked up by the tests. You should return to this function and try to fix it (or just use the solution).\n",
        "\n",
        "<details>\n",
        "<summary>Help - I get the error \"Encountered error when running `backward` in the test for nonscalar grad_out.\"</summary>\n",
        "\n",
        "This error is likely due to the fact that you're expanding your tensor in a way that doesn't refer to the dimensions being summed over (i.e. the `dim` argument).\n",
        "\n",
        "Remember that in the previous exercise we assumed that the tensors were broadcastable with each other, and our functions could just internally call `np.broadcast_to` as a result. But here, one tensor is the sum over another tensor's dimensions, and if `keepdim=False` then they might not broadcast. For instance, if `x.shape = (2, 5)`, `out = x.sum(dim=1)` has shape `(2,)` and `grad_out.shape = (2,)`, then the tensors `grad_out` and `x` are not broadcastable (in fact, this is exactly the test case that's causing the error here).\n",
        "\n",
        "How can you carefully handle the case where `keepdim=False` and `dim` doesn't just refer to dimensions at the start of the tensor? (Hint - try and use `np.expand_dims`).\n",
        "\n",
        "</details>"
      ]
    },
    {
      "cell_type": "code",
      "execution_count": 73,
      "metadata": {
        "id": "Ec6dumrUPsul",
        "colab": {
          "base_uri": "https://localhost:8080/"
        },
        "outputId": "64889448-4457-4194-93e9-487d063839b2"
      },
      "outputs": [
        {
          "output_type": "stream",
          "name": "stdout",
          "text": [
            "All tests in `test_sum_keepdim_false` passed!\n",
            "All tests in `test_sum_keepdim_true` passed!\n",
            "All tests in `test_sum_dim_none` passed!\n",
            "(2, 5)\n",
            "(2, 5)\n",
            "All tests in `test_sum_keepdim_false_sum_not_zeroth_dim` passed!\n"
          ]
        }
      ],
      "source": [
        "def sum_back(grad_out: Arr, out: Arr, x: Arr, dim=None, keepdim=False):\n",
        "    '''Basic idea: repeat grad_out over the dims along which x was summed'''\n",
        "    if dim is None:\n",
        "        dim = list(range(x.ndim))\n",
        "    if not keepdim:\n",
        "        grad_out = np.expand_dims(grad_out, dim)\n",
        "\n",
        "    return np.broadcast_to(grad_out, x.shape)\n",
        "\n",
        "def _sum(x: Arr, dim=None, keepdim=False) -> Arr:\n",
        "    '''Like torch.sum, calling np.sum internally.'''\n",
        "    return np.sum(x, axis=dim, keepdims=keepdim)\n",
        "\n",
        "sum = wrap_forward_fn(_sum)\n",
        "BACK_FUNCS.add_back_func(_sum, 0, sum_back)\n",
        "\n",
        "tests.test_sum_keepdim_false(Tensor)\n",
        "tests.test_sum_keepdim_true(Tensor)\n",
        "tests.test_sum_dim_none(Tensor)\n",
        "tests.test_sum_nonscalar_grad_out(Tensor)"
      ]
    },
    {
      "cell_type": "markdown",
      "metadata": {
        "id": "DvvNTukzP-55"
      },
      "source": [
        "### Exercise - Indexing\n",
        "\n",
        "```yaml\n",
        "Difficulty: 🔴🔴🔴⚪⚪\n",
        "Importance: 🔵🔵⚪⚪⚪\n",
        "\n",
        "You should spend up to 15-20 minutes on this exercise.\n",
        "```\n",
        "\n",
        "In its full generality, indexing a `torch.Tensor` is really complicated and there are quite a few cases to handle separately.\n",
        "\n",
        "We only need two cases today:\n",
        "- The index is an integer or tuple of integers.\n",
        "- The index is a tuple of (array or Tensor) representing coordinates. Each array is 1D and of equal length. Some coordinates may be repeated. This is [Integer array indexing](https://numpy.org/doc/stable/user/basics.indexing.html#integer-array-indexing).\n",
        "    - For example, to select the five elements at (0, 0), (1,0), (0, 1), (1, 2), and (0, 0), the index would be the tuple `(np.array([0, 1, 0, 1, 0]), np.array([0, 0, 1, 2, 0]))`.\n",
        "\n",
        "Note, in `_getitem` you'll need to deal with one special case: when `index` is of type signature `tuple[Tensor]`. If not for this case, `return x[index]` would suffice for this function. You should define a `coerce_index` function to deal with this particular case; we've provided a docstring for this purpose.\n"
      ]
    },
    {
      "cell_type": "code",
      "source": [
        "a = t.tensor([[0, 1, 2], [3, 4, 5]])\n",
        "b = a[(1, 2)]\n",
        "b"
      ],
      "metadata": {
        "colab": {
          "base_uri": "https://localhost:8080/"
        },
        "id": "OoD5wzwrNNjg",
        "outputId": "19b4b98c-6cb7-49c0-ea82-47f6e3028716"
      },
      "execution_count": 74,
      "outputs": [
        {
          "output_type": "execute_result",
          "data": {
            "text/plain": [
              "tensor(5)"
            ]
          },
          "metadata": {},
          "execution_count": 74
        }
      ]
    },
    {
      "cell_type": "code",
      "source": [
        "a = np.array([[0, 1, 2], [3, 4, 5]])\n",
        "b = a[(np.array(1), np.array(2))]\n",
        "b"
      ],
      "metadata": {
        "colab": {
          "base_uri": "https://localhost:8080/"
        },
        "id": "mBfFrIh0OhQg",
        "outputId": "d947c700-7469-44c5-8ca8-00ec63cb8fb3"
      },
      "execution_count": 75,
      "outputs": [
        {
          "output_type": "execute_result",
          "data": {
            "text/plain": [
              "5"
            ]
          },
          "metadata": {},
          "execution_count": 75
        }
      ]
    },
    {
      "cell_type": "code",
      "execution_count": 77,
      "metadata": {
        "id": "pol_tXeUQHGB",
        "colab": {
          "base_uri": "https://localhost:8080/"
        },
        "outputId": "1727d1a4-f79d-4ea1-ae02-3a035179c744"
      },
      "outputs": [
        {
          "output_type": "stream",
          "name": "stdout",
          "text": [
            "All tests in `test_coerce_index` passed!\n",
            "All tests in `test_getitem_int` passed!\n",
            "All tests in `test_getitem_tuple` passed!\n",
            "All tests in `test_getitem_integer_array` passed!\n",
            "All tests in `test_getitem_integer_tensor` passed!\n"
          ]
        }
      ],
      "source": [
        "Index = int | tuple[int, ...] | tuple[Arr] | tuple[Tensor]\n",
        "\n",
        "def coerce_index(index: Index) -> int | tuple[int, ...] | tuple[Arr]:\n",
        "    '''\n",
        "    If index is of type signature `tuple[Tensor]`, converts it to `tuple[Arr]`.\n",
        "    '''\n",
        "    if isinstance(index, tuple) and all(isinstance(i, Tensor) for i in index):\n",
        "        return tuple([i.array for i in index])\n",
        "    return index\n",
        "\n",
        "def _getitem(x: Arr, index: Index) -> Arr:\n",
        "    '''Like x[index] when x is a torch.Tensor.'''\n",
        "    return x[coerce_index(index)]\n",
        "\n",
        "def getitem_back(grad_out: Arr, out: Arr, x: Arr, index: Index):\n",
        "    '''\n",
        "    Backwards function for _getitem.\n",
        "\n",
        "    Hint: use np.add.at(a, indices, b)\n",
        "    This function works just like a[indices] += b, except that it allows for repeated indices.\n",
        "    '''\n",
        "    new_grad_out = np.full_like(x, 0)\n",
        "    np.add.at(new_grad_out, coerce_index(index), grad_out)\n",
        "    return new_grad_out\n",
        "\n",
        "getitem = wrap_forward_fn(_getitem)\n",
        "BACK_FUNCS.add_back_func(_getitem, 0, getitem_back)\n",
        "\n",
        "tests.test_coerce_index(coerce_index, Tensor)\n",
        "tests.test_getitem_int(Tensor)\n",
        "tests.test_getitem_tuple(Tensor)\n",
        "tests.test_getitem_integer_array(Tensor)\n",
        "tests.test_getitem_integer_tensor(Tensor)"
      ]
    },
    {
      "cell_type": "markdown",
      "metadata": {
        "id": "6wiog0KLQLTt"
      },
      "source": [
        "<details>\n",
        "<summary>Help - I'm confused about how to implement getitem_back.</summary>\n",
        "\n",
        "If no coordinates were repeated, we could just assign the grad for each input element to be the grad at the corresponding output position, or 0 if that input element didn't appear.\n",
        "\n",
        "Because of the potential for repeat coordinates, we need to sum the grad from each corresponding output position.\n",
        "\n",
        "Initialize an array of zeros of the same shape as x, and then write in the appropriate elements using `np.add.at`.\n",
        "</details>\n"
      ]
    },
    {
      "cell_type": "markdown",
      "metadata": {
        "id": "R9wzlFHKQzH9"
      },
      "source": [
        "### elementwise add, subtract, divide\n",
        "\n",
        "```yaml\n",
        "Difficulty: 🔴🔴🔴⚪⚪\n",
        "Importance: 🔵🔵⚪⚪⚪\n",
        "\n",
        "You should spend up to 10-15 minutes on this exercise.\n",
        "```\n",
        "\n",
        "These are exactly analogous to the multiply case. Note that Python and NumPy have the notion of \"floor division\", which is a truncating integer division as in `7 // 3 = 2`. You can ignore floor division: - we only need the usual floating point division which is called \"true division\".\n",
        "\n",
        "Use lambda functions to define and register the backward functions each in one line. If you're confused, you can click on the expander below to reveal the first one.\n"
      ]
    },
    {
      "cell_type": "markdown",
      "metadata": {
        "id": "hQwU9GoXQz6K"
      },
      "source": [
        "<details>\n",
        "<summary>Reveal the first one:</summary>\n",
        "\n",
        "```python\n",
        "BACK_FUNCS.add_back_func(np.add, 0, lambda grad_out, out, x, y: unbroadcast(grad_out, x))\n",
        "```\n",
        "</details>\n"
      ]
    },
    {
      "cell_type": "code",
      "execution_count": 78,
      "metadata": {
        "id": "E60fzbBqQ3zL"
      },
      "outputs": [],
      "source": [
        "add = wrap_forward_fn(np.add)\n",
        "subtract = wrap_forward_fn(np.subtract)\n",
        "true_divide = wrap_forward_fn(np.true_divide)\n",
        "\n",
        "\n",
        "# Your code here - add to the BACK_FUNCS object\n",
        "BACK_FUNCS.add_back_func(np.add, 0, lambda grad_out, out, x, y: unbroadcast(grad_out, x))\n",
        "BACK_FUNCS.add_back_func(np.add, 1, lambda grad_out, out, x, y: unbroadcast(grad_out, y))\n",
        "BACK_FUNCS.add_back_func(np.subtract, 0, lambda grad_out, out, x, y: unbroadcast(grad_out, x))\n",
        "BACK_FUNCS.add_back_func(np.subtract, 1, lambda grad_out, out, x, y: unbroadcast(-grad_out, y))\n",
        "BACK_FUNCS.add_back_func(np.true_divide, 0, lambda grad_out, out, x, y: unbroadcast(grad_out/y, x))\n",
        "BACK_FUNCS.add_back_func(np.true_divide, 1, lambda grad_out, out, x, y: unbroadcast(grad_out*(-x/y**2), y))"
      ]
    },
    {
      "cell_type": "code",
      "execution_count": 79,
      "metadata": {
        "id": "u3zkJzZACZgu",
        "colab": {
          "base_uri": "https://localhost:8080/"
        },
        "outputId": "256736ed-5eca-46b0-e8d2-c92d22279d87"
      },
      "outputs": [
        {
          "output_type": "stream",
          "name": "stdout",
          "text": [
            "All tests in `test_add_broadcasted` passed!\n",
            "All tests in `test_subtract_broadcasted` passed!\n",
            "All tests in `test_truedivide_broadcasted` passed!\n"
          ]
        }
      ],
      "source": [
        "tests.test_add_broadcasted(Tensor)\n",
        "tests.test_subtract_broadcasted(Tensor)\n",
        "tests.test_truedivide_broadcasted(Tensor)"
      ]
    },
    {
      "cell_type": "markdown",
      "metadata": {
        "id": "TrEtC7nLQ9_5"
      },
      "source": [
        "## In-Place Operations\n",
        "\n",
        "Supporting in-place operations introduces substantial complexity and generally doesn't help performance that much. The problem is that if any of the inputs used in the backward function have been modified in-place since the forward pass, then the backward function will incorrectly calculate using the modified version.\n",
        "\n",
        "PyTorch will warn you when this causes a problem with the error \"RuntimeError: a leaf Variable that requires grad is being used in an in-place operation.\".\n",
        "\n",
        "You can implement the warning in the bonus section but for now your system will silently compute the wrong gradients - user beware!\n",
        "\n",
        "(note - you don't have to fill anything in here; just run the cell)\n"
      ]
    },
    {
      "cell_type": "code",
      "execution_count": 80,
      "metadata": {
        "id": "56E3WMSlQ_je",
        "colab": {
          "base_uri": "https://localhost:8080/"
        },
        "outputId": "cdda1f9e-2bed-4900-ac77-e90c3b20751e"
      },
      "outputs": [
        {
          "output_type": "stream",
          "name": "stdout",
          "text": [
            "Grad wrt a is WRONG!\n",
            "Grad wrt b is WRONG!\n"
          ]
        }
      ],
      "source": [
        "def add_(x: Tensor, other: Tensor, alpha: float = 1.0) -> Tensor:\n",
        "    '''Like torch.add_. Compute x += other * alpha in-place and return tensor.'''\n",
        "    np.add(x.array, other.array * alpha, out=x.array)\n",
        "    return x\n",
        "\n",
        "\n",
        "def safe_example():\n",
        "    '''This example should work properly.'''\n",
        "    a = Tensor([0.0, 1.0, 2.0, 3.0], requires_grad=True)\n",
        "    b = Tensor([2.0, 3.0, 4.0, 5.0], requires_grad=True)\n",
        "    a.add_(b)\n",
        "    c = a * b\n",
        "    c.sum().backward()\n",
        "    assert a.grad is not None and np.allclose(a.grad.array, [160., 240., 320., 400.])\n",
        "    assert b.grad is not None and np.allclose(b.grad.array, [160., 320., 480., 640.])\n",
        "\n",
        "\n",
        "def unsafe_example():\n",
        "    '''This example is expected to compute the wrong gradients.'''\n",
        "    a = Tensor([0.0, 1.0, 2.0, 3.0], requires_grad=True)\n",
        "    b = Tensor([2.0, 3.0, 4.0, 5.0], requires_grad=True)\n",
        "    c = a * b\n",
        "    a.add_(b)\n",
        "    c.sum().backward()\n",
        "    if a.grad is not None and np.allclose(a.grad.array, [2.0, 3.0, 4.0, 5.0]):\n",
        "        print(\"Grad wrt a is OK!\")\n",
        "    else:\n",
        "        print(\"Grad wrt a is WRONG!\")\n",
        "    if b.grad is not None and np.allclose(b.grad.array, [0.0, 1.0, 2.0, 3.0]):\n",
        "        print(\"Grad wrt b is OK!\")\n",
        "    else:\n",
        "        print(\"Grad wrt b is WRONG!\")\n",
        "\n",
        "\n",
        "safe_example()\n",
        "unsafe_example()"
      ]
    },
    {
      "cell_type": "markdown",
      "metadata": {
        "id": "BMx5Q9FORCMa"
      },
      "source": [
        "## Mixed Scalar-Tensor Operations\n",
        "\n",
        "You may have been wondering why our `Tensor` class has to define both `__mul__` and `__rmul__` magic methods.\n",
        "\n",
        "Without `__rmul__` defined, executing `2 * a` when `a` is a `Tensor` would try to call `2.__mul__(a)`, and the built-in class `int` would be confused about how to handle this.\n",
        "\n",
        "Since we have defined `__rmul__` for you at the start, and you implemented multiply to work with floats as arguments, the following should \"just work\".\n"
      ]
    },
    {
      "cell_type": "code",
      "execution_count": 81,
      "metadata": {
        "id": "PunN7HldRAir"
      },
      "outputs": [],
      "source": [
        "a = Tensor([0, 1, 2, 3], requires_grad=True)\n",
        "(a * 2).sum().backward()\n",
        "b = Tensor([0, 1, 2, 3], requires_grad=True)\n",
        "(2 * b).sum().backward()\n",
        "assert a.grad is not None\n",
        "assert b.grad is not None\n",
        "assert np.allclose(a.grad.array, b.grad.array)"
      ]
    },
    {
      "cell_type": "markdown",
      "metadata": {
        "id": "7Tzt2fMORGly"
      },
      "source": [
        "### Exercise - `max`\n",
        "\n",
        "```yaml\n",
        "Difficulty: 🔴🔴🔴⚪⚪\n",
        "Importance: 🔵🔵⚪⚪⚪\n",
        "\n",
        "You should spend up to 10-15 minutes on this exercise.\n",
        "```\n",
        "\n",
        "Since this is an elementwise function, we can think about the scalar case. For scalar $x$, $y$, the derivative for $\\max(x, y)$ wrt $x$ is 1 when $x > y$ and 0 when $x < y$. What should happen when $x = y$?\n",
        "\n",
        "Intuitively, since $\\max(x, x)$ is equivalent to the identity function which has a derivative of 1 wrt $x$, it makes sense for the sum of our partial derivatives wrt $x$ and $y$ to also therefore total 1. The convention used by PyTorch is to split the derivative evenly between the two arguments. We will follow this behavior for compatibility, but it's just as legitimate to say it's 1 wrt $x$ and 0 wrt $y$, or some other arbitrary combination that sums to one.\n"
      ]
    },
    {
      "cell_type": "markdown",
      "metadata": {
        "id": "mZCVtbEKRH-I"
      },
      "source": [
        "<details>\n",
        "<summary>Help - I'm not sure how to implement this function.</summary>\n",
        "\n",
        "Try returning `grad_out * bool_sum`, where `bool_sum` is an array constructed from the sum of two boolean arrays.\n",
        "\n",
        "You can alternatively use `np.where`.\n",
        "</details>\n",
        "\n",
        "<details>\n",
        "<summary>Help - I'm passing the first test but not the second.</summary>\n",
        "\n",
        "This probably means that you haven't implemented `unbroadcast`. You'll need to do this, to get `grad_out` into the right shape before you use it in `np.where`.\n",
        "</details>\n"
      ]
    },
    {
      "cell_type": "code",
      "execution_count": 82,
      "metadata": {
        "id": "9SOl3xfxREfE",
        "colab": {
          "base_uri": "https://localhost:8080/"
        },
        "outputId": "d76c897a-2daa-42b5-b345-44019e8e8da3"
      },
      "outputs": [
        {
          "output_type": "stream",
          "name": "stdout",
          "text": [
            "All tests in `test_maximum` passed!\n",
            "All tests in `test_maximum_broadcasted` passed!\n"
          ]
        }
      ],
      "source": [
        "def maximum_back0(grad_out: Arr, out: Arr, x: Arr, y: Arr):\n",
        "    '''Backwards function for max(x, y) wrt x.'''\n",
        "    bool_sum = ((x > y) + 0.5 * (x == y))\n",
        "    return unbroadcast(grad_out * bool_sum, x)\n",
        "\n",
        "def maximum_back1(grad_out: Arr, out: Arr, x: Arr, y: Arr):\n",
        "    '''Backwards function for max(x, y) wrt y.'''\n",
        "    bool_sum = ((x < y) + 0.5 * (x == y))\n",
        "    return unbroadcast(grad_out * bool_sum, y)\n",
        "\n",
        "\n",
        "maximum = wrap_forward_fn(np.maximum)\n",
        "\n",
        "BACK_FUNCS.add_back_func(np.maximum, 0, maximum_back0)\n",
        "BACK_FUNCS.add_back_func(np.maximum, 1, maximum_back1)\n",
        "\n",
        "tests.test_maximum(Tensor)\n",
        "tests.test_maximum_broadcasted(Tensor)"
      ]
    },
    {
      "cell_type": "markdown",
      "metadata": {
        "id": "IB5LB1NsRWcj"
      },
      "source": [
        "### Exercise - functional `ReLU`\n",
        "\n",
        "```yaml\n",
        "Difficulty: 🔴🔴⚪⚪⚪\n",
        "Importance: 🔵🔵⚪⚪⚪\n",
        "\n",
        "You should spend up to 10-15 minutes on this exercise.\n",
        "```\n",
        "\n",
        "A simple and correct ReLU function can be defined in terms of your maximum function. Note the PyTorch version also supports in-place operation, which we are punting on for now.\n",
        "\n",
        "Again, at $x = 0$ your derivative could reasonably be anything between 0 and 1 inclusive, but we've followed PyTorch in making it 0.5.\n"
      ]
    },
    {
      "cell_type": "code",
      "execution_count": 83,
      "metadata": {
        "id": "gEv_PgyYRRdO",
        "colab": {
          "base_uri": "https://localhost:8080/"
        },
        "outputId": "1596ceef-6695-434f-a244-64faf861d777"
      },
      "outputs": [
        {
          "output_type": "stream",
          "name": "stdout",
          "text": [
            "All tests in `test_relu` passed!\n"
          ]
        }
      ],
      "source": [
        "def relu(x: Tensor) -> Tensor:\n",
        "    '''Like torch.nn.function.relu(x, inplace=False).'''\n",
        "    return maximum(x, 0.0)\n",
        "\n",
        "\n",
        "tests.test_relu(Tensor)"
      ]
    },
    {
      "cell_type": "markdown",
      "metadata": {
        "id": "QkdS3A06Rcpu"
      },
      "source": [
        "### Exercise - 2D `matmul`\n",
        "\n",
        "```yaml\n",
        "Difficulty: 🔴🔴🔴🔴⚪\n",
        "Importance: 🔵🔵🔵⚪⚪\n",
        "\n",
        "You should spend up to 20-25 minutes on this exercise.\n",
        "```\n",
        "\n",
        "Implement your version of `torch.matmul`, restricting it to the simpler case where both inputs are 2D.\n"
      ]
    },
    {
      "cell_type": "code",
      "execution_count": 84,
      "metadata": {
        "id": "76nopwn7Reh5",
        "colab": {
          "base_uri": "https://localhost:8080/"
        },
        "outputId": "886fc2f1-d8d1-40bf-a5e3-5385f798376f"
      },
      "outputs": [
        {
          "output_type": "stream",
          "name": "stdout",
          "text": [
            "All tests in `test_matmul2d` passed!\n"
          ]
        }
      ],
      "source": [
        "def _matmul2d(x: Arr, y: Arr) -> Arr:\n",
        "    '''Matrix multiply restricted to the case where both inputs are exactly 2D.'''\n",
        "    return x @ y\n",
        "\n",
        "def matmul2d_back0(grad_out: Arr, out: Arr, x: Arr, y: Arr) -> Arr:\n",
        "    return grad_out @ y.T\n",
        "\n",
        "def matmul2d_back1(grad_out: Arr, out: Arr, x: Arr, y: Arr) -> Arr:\n",
        "    return x.T @ grad_out\n",
        "\n",
        "matmul = wrap_forward_fn(_matmul2d)\n",
        "BACK_FUNCS.add_back_func(_matmul2d, 0, matmul2d_back0)\n",
        "BACK_FUNCS.add_back_func(_matmul2d, 1, matmul2d_back1)\n",
        "\n",
        "tests.test_matmul2d(Tensor)"
      ]
    },
    {
      "cell_type": "markdown",
      "metadata": {
        "id": "Vv6U4JO1RhEw"
      },
      "source": [
        "<details>\n",
        "<summary>Help - I'm confused about <code>matmul2d_back</code>!</summary>\n",
        "\n",
        "Let $X$, $Y$ and $M$ denote the variables `x`, `y` and `out`, so we have the matrix relation $M = XY$. The object `grad_out` is a tensor with elements `grad_out[p, q]` $ = \\frac{\\partial L}{\\partial M_{p q}}$.\n",
        "\n",
        "The output of `matmul2d_back0` should be the gradient of $L$ wrt $X$, i.e. it should have elements $\\frac{\\partial L}{\\partial X_{i j}}$. Can you write this in terms of the elements of `x`, `y`, `out` and `grad_out`?\n",
        "</details>\n",
        "\n",
        "<details>\n",
        "<summary>Help - I'm still stuck on <code>matmul2d_back</code>.</summary>\n",
        "\n",
        "We can write $\\frac{\\partial L}{\\partial X_{i j}}$ as:\n",
        "\n",
        "$$\n",
        "\\begin{aligned}\n",
        "\\frac{\\partial L}{\\partial X_{i j}} &=\\sum_{pq} \\frac{\\partial L}{\\partial M_{p q}} \\frac{\\partial M_{p q}}{\\partial X_{i j}} \\\\\n",
        "&=\\sum_{pq} \\left[\\text{ grad\\_out }\\right]_{p q} \\frac{\\partial (\\sum_r X_{p r} Y_{r q})}{\\partial X_{i j}} \\quad\\quad \\text{ because } M_{pq} = \\sum_r X_{pr} Y_{rq} \\\\\n",
        "&=\\sum_{pqr} \\left[\\text{ grad\\_out }\\right]_{p q}  \\frac{\\partial X_{p r}}{\\partial X_{i j}} Y_{rq} \\\\\n",
        "&=\\sum_{q} \\left[\\text{ grad\\_out }\\right]_{iq} Y_{j q} \\quad\\quad \\text{because } \\frac{\\partial{X_{pr}}}{X_{ij}} = 1 \\text{ if } (p, r) = (i, j), \\text{ else } 0 \\\\\n",
        "&=\\sum_{q} \\left[\\text{ grad\\_out }\\right]_{iq} Y^T_{qj} \\\\\n",
        "&= \\left[\\text{ grad\\_out } \\times Y^{\\top}\\right]_{ij}\n",
        "\\end{aligned}\n",
        "$$\n",
        "\n",
        "\n",
        "In other words, the `x.grad` attribute should be is `grad_out @ y.T`.\n",
        "\n",
        "You can calculate the gradient wrt `y` in a similar way - we leave this as an exercise for the reader.\n",
        "</details>"
      ]
    },
    {
      "cell_type": "markdown",
      "metadata": {
        "id": "aRlYYQyvRug4"
      },
      "source": [
        "# 4️⃣ Putting everything together\n"
      ]
    },
    {
      "cell_type": "markdown",
      "metadata": {
        "id": "gEYRdAEzCZgx"
      },
      "source": [
        "> ## Learning Objectives\n",
        ">\n",
        "> * Complete the process of building up a neural network from scratch and training it via gradient descent.\n"
      ]
    },
    {
      "cell_type": "markdown",
      "metadata": {
        "id": "Q3vyEtqMRzKx"
      },
      "source": [
        "## Exercise - build your own `nn.Parameter`\n",
        "\n",
        "```yaml\n",
        "Difficulty: 🔴🔴⚪⚪⚪\n",
        "Importance: 🔵🔵🔵🔵⚪\n",
        "\n",
        "You should spend up to 10-15 minutes on this exercise.\n",
        "```\n",
        "\n",
        "We've now written enough backwards passes that we can go up a layer and write our own `nn.Parameter` and `nn.Module`.\n",
        "We don't need much for `Parameter`. It is itself a `Tensor`, shares storage with the provided `Tensor` and requires_grad is `True` by default - that's it!\n"
      ]
    },
    {
      "cell_type": "code",
      "execution_count": 85,
      "metadata": {
        "id": "ooNNINShR0Lv"
      },
      "outputs": [],
      "source": [
        "class Parameter(Tensor):\n",
        "    def __init__(self, tensor: Tensor, requires_grad=True):\n",
        "        '''Share the array with the provided tensor.'''\n",
        "        return super().__init__(tensor.array, requires_grad=requires_grad)\n",
        "\n",
        "    def __repr__(self):\n",
        "        return f\"Parameter containing:\\n{super().__repr__()}\"\n",
        "\n",
        "x = Tensor([1.0, 2.0, 3.0])\n",
        "p = Parameter(x)\n",
        "assert p.requires_grad\n",
        "assert p.array is x.array\n",
        "assert repr(p) == \"Parameter containing:\\nTensor(array([1., 2., 3.], dtype=float32), requires_grad=True)\"\n",
        "x.add_(Tensor(np.array(2.0)))\n",
        "assert np.allclose(\n",
        "    p.array, np.array([3.0, 4.0, 5.0])\n",
        "), \"in-place modifications to the original tensor should affect the parameter\""
      ]
    },
    {
      "cell_type": "markdown",
      "metadata": {
        "id": "pGln1SchR7Xc"
      },
      "source": [
        "## Exercise - build your own `nn.Module`\n",
        "\n",
        "```yaml\n",
        "Difficulty: 🔴🔴🔴🔴⚪\n",
        "Importance: 🔵🔵🔵🔵⚪\n",
        "\n",
        "You should spend up to 25-30 minutes on this exercise.\n",
        "```\n",
        "\n",
        "`nn.Module` is like `torch.Tensor` in that it has a lot of functionality, most of which we don't care about today. We will just implement enough to get our network training.\n",
        "\n",
        "Implement the indicated methods (i.e. the ones which are currently just `pass`). We've defined `_modules` and `_parameters` dict for you (note that, because this isn't a dataclass, we need to manually define them inside the `__init__` method).\n",
        "\n",
        "Tip: you can bypass `__getattr__` by accessing `self.__dict__` inside a method.\n",
        "\n",
        "*Note - some of these methods are difficult and non-obvious to implement, so don't worry if you need to look at the solutions.*\n"
      ]
    },
    {
      "cell_type": "code",
      "execution_count": 86,
      "metadata": {
        "id": "08z-eMexSBMX",
        "colab": {
          "base_uri": "https://localhost:8080/"
        },
        "outputId": "3e6c28e8-9bb9-4eb8-bdda-d7a1ea7d4fb2"
      },
      "outputs": [
        {
          "output_type": "stream",
          "name": "stdout",
          "text": [
            "Manually verify that the repr looks reasonable:\n",
            "TestModule(\n",
            "  (inner): TestInnerModule()\n",
            ")\n"
          ]
        }
      ],
      "source": [
        "class Module:\n",
        "    _modules: Dict[str, \"Module\"]\n",
        "    _parameters: Dict[str, Parameter]\n",
        "\n",
        "    def __init__(self):\n",
        "        self._modules = {}\n",
        "        self._parameters = {}\n",
        "\n",
        "    def modules(self):\n",
        "        '''Return the direct child modules of this module.'''\n",
        "        return self.__dict__[\"_modules\"].values()\n",
        "\n",
        "    def parameters(self, recurse: bool = True) -> Iterator[Parameter]:\n",
        "        '''\n",
        "        Return an iterator over Module parameters.\n",
        "\n",
        "        recurse: if True, the iterator includes parameters of submodules, recursively.\n",
        "        '''\n",
        "        parameters_list = list(self.__dict__[\"_parameters\"].values())\n",
        "        if recurse:\n",
        "            for mod in self.modules():\n",
        "                parameters_list.extend(list(mod.parameters(recurse=True)))\n",
        "        return iter(parameters_list)\n",
        "\n",
        "    def __setattr__(self, key: str, val: Any) -> None:\n",
        "        '''\n",
        "        If val is a Parameter or Module, store it in the appropriate _parameters or _modules dict.\n",
        "        Otherwise, call __setattr__ from the superclass.\n",
        "        '''\n",
        "        if isinstance(val, Parameter):\n",
        "            self.__dict__[\"_parameters\"][key] = val\n",
        "        elif isinstance(val, Module):\n",
        "            self.__dict__[\"_modules\"][key] = val\n",
        "        else:\n",
        "            super().__setattr__(key, val)\n",
        "\n",
        "    def __getattr__(self, key: str):\n",
        "        '''\n",
        "        If key is in _parameters or _modules, return the corresponding value.\n",
        "        Otherwise, raise KeyError.\n",
        "        '''\n",
        "        if key in self.__dict__[\"_parameters\"]:\n",
        "            return self.__dict__[\"_parameters\"][key]\n",
        "\n",
        "        if key in self.__dict__[\"_modules\"]:\n",
        "            return self.__dict__[\"_modules\"][key]\n",
        "\n",
        "        raise KeyError(key)\n",
        "\n",
        "    def __call__(self, *args, **kwargs):\n",
        "        return self.forward(*args, **kwargs)\n",
        "\n",
        "    def forward(self):\n",
        "        raise NotImplementedError(\"Subclasses must implement forward!\")\n",
        "\n",
        "    def __repr__(self):\n",
        "        def _indent(s_, numSpaces):\n",
        "            return re.sub(\"\\n\", \"\\n\" + (\" \" * numSpaces), s_)\n",
        "        lines = [f\"({key}): {_indent(repr(module), 2)}\" for key, module in self._modules.items()]\n",
        "        return \"\".join([\n",
        "            self.__class__.__name__ + \"(\",\n",
        "            \"\\n  \" + \"\\n  \".join(lines) + \"\\n\" if lines else \"\", \")\"\n",
        "        ])\n",
        "\n",
        "\n",
        "class TestInnerModule(Module):\n",
        "    def __init__(self):\n",
        "        super().__init__()\n",
        "        self.param1 = Parameter(Tensor([1.0]))\n",
        "        self.param2 = Parameter(Tensor([2.0]))\n",
        "\n",
        "class TestModule(Module):\n",
        "    def __init__(self):\n",
        "        super().__init__()\n",
        "        self.inner = TestInnerModule()\n",
        "        self.param3 = Parameter(Tensor([3.0]))\n",
        "\n",
        "mod = TestModule()\n",
        "assert list(mod.modules()) == [mod.inner]\n",
        "assert list(mod.parameters()) == [\n",
        "    mod.param3,\n",
        "    mod.inner.param1,\n",
        "    mod.inner.param2,\n",
        "], \"parameters should come before submodule parameters\"\n",
        "print(\"Manually verify that the repr looks reasonable:\")\n",
        "print(mod)"
      ]
    },
    {
      "cell_type": "markdown",
      "metadata": {
        "id": "X9-EyHU4SI0C"
      },
      "source": [
        "## Build Your Own Linear Layer\n",
        "\n",
        "```yaml\n",
        "Difficulty: 🔴🔴⚪⚪⚪\n",
        "Importance: 🔵🔵🔵🔵⚪\n",
        "\n",
        "You should spend up to 20-25 minutes on this exercise.\n",
        "```\n",
        "\n",
        "You may have a `Linear` written already that you can adapt to use our own `Parameter`, `Module`, and `Tensor`. If your `Linear` used `einsum`, use a `matmul` instead. You can implement a backward function for `einsum` in the bonus section.\n"
      ]
    },
    {
      "cell_type": "code",
      "execution_count": 87,
      "metadata": {
        "id": "t_v3RiqcSMD7",
        "colab": {
          "base_uri": "https://localhost:8080/"
        },
        "outputId": "2112dc82-f5cc-43ba-d5b1-661ff8430c44"
      },
      "outputs": [
        {
          "output_type": "stream",
          "name": "stdout",
          "text": [
            "All tests for `Linear` passed!\n"
          ]
        }
      ],
      "source": [
        "class Linear(Module):\n",
        "    weight: Parameter\n",
        "    bias: Optional[Parameter]\n",
        "\n",
        "    def __init__(self, in_features: int, out_features: int, bias=True):\n",
        "        '''\n",
        "        A simple linear (technically, affine) transformation.\n",
        "\n",
        "        The fields should be named `weight` and `bias` for compatibility with PyTorch.\n",
        "        If `bias` is False, set `self.bias` to None.\n",
        "        '''\n",
        "        super().__init__()\n",
        "        self.weight = Parameter(Tensor(np.zeros((out_features, in_features))))\n",
        "        self.bias = Parameter(Tensor(np.zeros((out_features)))) if bias else None\n",
        "\n",
        "    def forward(self, x: Tensor) -> Tensor:\n",
        "        '''\n",
        "        x: shape (*, in_features)\n",
        "        Return: shape (*, out_features)\n",
        "        '''\n",
        "        return x @ self.weight.T if self.bias is None else x @ self.weight.T + self.bias\n",
        "\n",
        "    def extra_repr(self) -> str:\n",
        "        # note, we need to use `self.bias is not None`, because `self.bias` is either a tensor or None, not bool\n",
        "        return f\"in_features={self.in_features}, out_features={self.out_features}, bias={self.bias is not None}\"\n",
        "\n",
        "\n",
        "linear = Linear(3, 4)\n",
        "assert isinstance(linear.weight, Tensor)\n",
        "assert linear.weight.requires_grad\n",
        "\n",
        "input = Tensor([[1.0, 2.0, 3.0]])\n",
        "output = linear(input)\n",
        "assert output.requires_grad\n",
        "\n",
        "expected_output = input @ linear.weight.T + linear.bias\n",
        "np.testing.assert_allclose(output.array, expected_output.array)\n",
        "\n",
        "print(\"All tests for `Linear` passed!\")"
      ]
    },
    {
      "cell_type": "markdown",
      "metadata": {
        "id": "vwTdFMyECZgy"
      },
      "source": [
        "Finally, for the sake of completeness, we'll define a `ReLU` module:\n"
      ]
    },
    {
      "cell_type": "code",
      "execution_count": 88,
      "metadata": {
        "id": "7SWnXL2kCZgy"
      },
      "outputs": [],
      "source": [
        "class ReLU(Module):\n",
        "    def forward(self, x: Tensor) -> Tensor:\n",
        "        return relu(x)"
      ]
    },
    {
      "cell_type": "markdown",
      "metadata": {
        "id": "JAr9y9GwSPyF"
      },
      "source": [
        "Now we can define a MLP suitable for classifying MNIST, with zero PyTorch dependency!\n"
      ]
    },
    {
      "cell_type": "code",
      "execution_count": 89,
      "metadata": {
        "id": "hGbx9yVmSQjb"
      },
      "outputs": [],
      "source": [
        "class MLP(Module):\n",
        "    def __init__(self):\n",
        "        super().__init__()\n",
        "        self.linear1 = Linear(28 * 28, 64)\n",
        "        self.linear2 = Linear(64, 64)\n",
        "        self.relu1 = ReLU()\n",
        "        self.relu2 = ReLU()\n",
        "        self.output = Linear(64, 10)\n",
        "\n",
        "    def forward(self, x: Tensor) -> Tensor:\n",
        "        x = x.reshape((x.shape[0], 28 * 28))\n",
        "        x = self.relu1(self.linear1(x))\n",
        "        x = self.relu2(self.linear2(x))\n",
        "        x = self.output(x)\n",
        "        return x"
      ]
    },
    {
      "cell_type": "markdown",
      "metadata": {
        "id": "VKAr7Mu3SRSy"
      },
      "source": [
        "## Build Your Own Cross-Entropy Loss\n",
        "\n",
        "```yaml\n",
        "Difficulty: 🔴🔴🔴⚪⚪\n",
        "Importance: 🔵🔵🔵⚪⚪\n",
        "\n",
        "You should spend up to 10-15 minutes on this exercise.\n",
        "```\n",
        "\n",
        "Make use of your integer array indexing to implement `cross_entropy`. See the documentation page [here](https://pytorch.org/docs/stable/generated/torch.nn.CrossEntropyLoss.html).\n",
        "\n",
        "Note - if you have a tensor `X` of shape `(a, b)`, and you want to take the `Y[i]`-th element of each row (where `Y` is a tensor of length `a`), the easiest way to do this is with:\n",
        "\n",
        "```python\n",
        "X[range(a), Y]\n",
        "```\n",
        "\n",
        "since this is read as:\n",
        "\n",
        "```python\n",
        "X[0, Y[0]], X[1, Y[1]], ..., X[a-1, Y[a-1]]\n",
        "```\n",
        "\n",
        "In place of `range` here, you should use the function `arange` which we've provided for you (this works in exactly the same way, but it returns a `Tensor` instead of a `range` object).\n"
      ]
    },
    {
      "cell_type": "code",
      "execution_count": 90,
      "metadata": {
        "id": "IBDvQcIuSVYl",
        "colab": {
          "base_uri": "https://localhost:8080/"
        },
        "outputId": "4d679423-f958-41ee-dabb-0e994cfe89c1"
      },
      "outputs": [
        {
          "output_type": "stream",
          "name": "stdout",
          "text": [
            "All tests in `test_cross_entropy` passed!\n"
          ]
        }
      ],
      "source": [
        "def cross_entropy(logits: Tensor, true_labels: Tensor) -> Tensor:\n",
        "    '''Like torch.nn.functional.cross_entropy with reduction='none'.\n",
        "\n",
        "    logits: shape (batch, classes)\n",
        "    true_labels: shape (batch,). Each element is the index of the correct label in the logits.\n",
        "\n",
        "    Return: shape (batch, ) containing the per-example loss.\n",
        "    '''\n",
        "    b, n = logits.shape\n",
        "    correct_logits = logits[arange(0, b), true_labels]\n",
        "    return -log(exp(correct_logits) / exp(logits).sum(1))\n",
        "\n",
        "tests.test_cross_entropy(Tensor, cross_entropy)"
      ]
    },
    {
      "cell_type": "markdown",
      "metadata": {
        "id": "gHUkAgSlUv8f"
      },
      "source": [
        "## Build your own `NoGrad` context manager\n",
        "\n",
        "```yaml\n",
        "Difficulty: 🔴🔴⚪⚪⚪\n",
        "Importance: 🔵🔵🔵🔵⚪\n",
        "\n",
        "You should spend up to 10-15 minutes on this exercise.\n",
        "```\n",
        "\n",
        "The last thing our backpropagation system needs is the ability to turn it off completely like `torch.no_grad`.\n",
        "\n",
        "Below, you should implement the `NoGrad` context manager so that it reads and writes the `grad_tracking_enabled` flag from the top of the file.\n",
        "\n",
        "You should use the global variable `grad_tracking_enabled` **global variables**  for this. To make sure you're accessing the global variable rather than just a local variable, you can use the `global` keyword. In general, using mutable global variables is not ideal because multiple threads will be a problem, but we will leave that for another day.\n"
      ]
    },
    {
      "cell_type": "code",
      "execution_count": 91,
      "metadata": {
        "id": "8fSbJJmtUz_q"
      },
      "outputs": [],
      "source": [
        "class NoGrad:\n",
        "    '''Context manager that disables grad inside the block. Like torch.no_grad.'''\n",
        "\n",
        "    was_enabled: bool\n",
        "\n",
        "    def __enter__(self):\n",
        "        '''\n",
        "        Method which is called whenever the context manager is entered, i.e. at the\n",
        "        start of the `with NoGrad():` block.\n",
        "        '''\n",
        "        global grad_tracking_enabled\n",
        "        self.was_enabled = grad_tracking_enabled\n",
        "        grad_tracking_enabled = False\n",
        "\n",
        "    def __exit__(self, type, value, traceback):\n",
        "        '''\n",
        "        Method which is called whenever we exit the context manager.\n",
        "        '''\n",
        "        global grad_tracking_enabled\n",
        "        grad_tracking_enabled = self.was_enabled"
      ]
    },
    {
      "cell_type": "markdown",
      "metadata": {
        "id": "2z3kflavCZg0"
      },
      "source": [
        "<details>\n",
        "<summary>Help - I'm not sure what to do here.</summary>\n",
        "\n",
        "You should put `global grad_tracking_enabled` at the top of both methods.\n",
        "\n",
        "In the `__enter__` method, you should disable gradient tracking (i.e. set the global variable to False).\n",
        "\n",
        "In the `__exit__` method, you should set gradient tracking to whatever its global value was *before* you entered the context manager (this is why we need to use the `was_enabled` variable, so you can record what the global value was before you entered the context manager).\n",
        "</details>"
      ]
    },
    {
      "cell_type": "markdown",
      "metadata": {
        "id": "78pYTnPXU3x7"
      },
      "source": [
        "## Training Your Network\n",
        "\n",
        "We've already looked at data loading and training loops earlier in the course, so we'll provide a minimal version of these today as well as the data loading code.\n"
      ]
    },
    {
      "cell_type": "code",
      "execution_count": 92,
      "metadata": {
        "id": "fZBqYuj9U5Mu",
        "colab": {
          "base_uri": "https://localhost:8080/",
          "height": 1000
        },
        "outputId": "f310539c-e09a-417d-883a-d637b8dc0b9e"
      },
      "outputs": [
        {
          "output_type": "stream",
          "name": "stdout",
          "text": [
            "Downloading http://yann.lecun.com/exdb/mnist/train-images-idx3-ubyte.gz\n",
            "Failed to download (trying next):\n",
            "HTTP Error 403: Forbidden\n",
            "\n",
            "Downloading https://ossci-datasets.s3.amazonaws.com/mnist/train-images-idx3-ubyte.gz\n",
            "Downloading https://ossci-datasets.s3.amazonaws.com/mnist/train-images-idx3-ubyte.gz to ./data/MNIST/raw/train-images-idx3-ubyte.gz\n"
          ]
        },
        {
          "output_type": "stream",
          "name": "stderr",
          "text": [
            "100%|██████████| 9.91M/9.91M [00:00<00:00, 131MB/s]\n"
          ]
        },
        {
          "output_type": "stream",
          "name": "stdout",
          "text": [
            "Extracting ./data/MNIST/raw/train-images-idx3-ubyte.gz to ./data/MNIST/raw\n",
            "\n",
            "Downloading http://yann.lecun.com/exdb/mnist/train-labels-idx1-ubyte.gz\n",
            "Failed to download (trying next):\n",
            "HTTP Error 403: Forbidden\n",
            "\n",
            "Downloading https://ossci-datasets.s3.amazonaws.com/mnist/train-labels-idx1-ubyte.gz\n",
            "Downloading https://ossci-datasets.s3.amazonaws.com/mnist/train-labels-idx1-ubyte.gz to ./data/MNIST/raw/train-labels-idx1-ubyte.gz\n"
          ]
        },
        {
          "output_type": "stream",
          "name": "stderr",
          "text": [
            "100%|██████████| 28.9k/28.9k [00:00<00:00, 32.2MB/s]"
          ]
        },
        {
          "output_type": "stream",
          "name": "stdout",
          "text": [
            "Extracting ./data/MNIST/raw/train-labels-idx1-ubyte.gz to ./data/MNIST/raw\n",
            "\n",
            "Downloading http://yann.lecun.com/exdb/mnist/t10k-images-idx3-ubyte.gz\n"
          ]
        },
        {
          "output_type": "stream",
          "name": "stderr",
          "text": [
            "\n"
          ]
        },
        {
          "output_type": "stream",
          "name": "stdout",
          "text": [
            "Failed to download (trying next):\n",
            "HTTP Error 403: Forbidden\n",
            "\n",
            "Downloading https://ossci-datasets.s3.amazonaws.com/mnist/t10k-images-idx3-ubyte.gz\n",
            "Downloading https://ossci-datasets.s3.amazonaws.com/mnist/t10k-images-idx3-ubyte.gz to ./data/MNIST/raw/t10k-images-idx3-ubyte.gz\n"
          ]
        },
        {
          "output_type": "stream",
          "name": "stderr",
          "text": [
            "100%|██████████| 1.65M/1.65M [00:00<00:00, 49.4MB/s]\n"
          ]
        },
        {
          "output_type": "stream",
          "name": "stdout",
          "text": [
            "Extracting ./data/MNIST/raw/t10k-images-idx3-ubyte.gz to ./data/MNIST/raw\n",
            "\n",
            "Downloading http://yann.lecun.com/exdb/mnist/t10k-labels-idx1-ubyte.gz\n",
            "Failed to download (trying next):\n",
            "HTTP Error 403: Forbidden\n",
            "\n",
            "Downloading https://ossci-datasets.s3.amazonaws.com/mnist/t10k-labels-idx1-ubyte.gz\n",
            "Downloading https://ossci-datasets.s3.amazonaws.com/mnist/t10k-labels-idx1-ubyte.gz to ./data/MNIST/raw/t10k-labels-idx1-ubyte.gz\n"
          ]
        },
        {
          "output_type": "stream",
          "name": "stderr",
          "text": [
            "100%|██████████| 4.54k/4.54k [00:00<00:00, 3.42MB/s]"
          ]
        },
        {
          "output_type": "stream",
          "name": "stdout",
          "text": [
            "Extracting ./data/MNIST/raw/t10k-labels-idx1-ubyte.gz to ./data/MNIST/raw\n",
            "\n",
            "Preprocessing data...\n"
          ]
        },
        {
          "output_type": "stream",
          "name": "stderr",
          "text": [
            "\n",
            "Training data: 100%|██████████| 60000/60000 [00:11<00:00, 5397.58it/s]\n",
            "Test data: 100%|██████████| 10000/10000 [00:01<00:00, 6156.33it/s]\n"
          ]
        },
        {
          "output_type": "display_data",
          "data": {
            "text/html": [
              "<html>\n",
              "<head><meta charset=\"utf-8\" /></head>\n",
              "<body>\n",
              "    <div>            <script src=\"https://cdnjs.cloudflare.com/ajax/libs/mathjax/2.7.5/MathJax.js?config=TeX-AMS-MML_SVG\"></script><script type=\"text/javascript\">if (window.MathJax && window.MathJax.Hub && window.MathJax.Hub.Config) {window.MathJax.Hub.Config({SVG: {font: \"STIX-Web\"}});}</script>                <script type=\"text/javascript\">window.PlotlyConfig = {MathJaxConfig: 'local'};</script>\n",
              "        <script charset=\"utf-8\" src=\"https://cdn.plot.ly/plotly-2.35.2.min.js\"></script>                <div id=\"47b1c442-fc3a-47b2-9975-c1dee04c11ed\" class=\"plotly-graph-div\" style=\"height:525px; width:100%;\"></div>            <script type=\"text/javascript\">                                    window.PLOTLYENV=window.PLOTLYENV || {};                                    if (document.getElementById(\"47b1c442-fc3a-47b2-9975-c1dee04c11ed\")) {                    Plotly.newPlot(                        \"47b1c442-fc3a-47b2-9975-c1dee04c11ed\",                        [{\"z\":[[[0,0,0],[0,0,0],[0,0,0],[0,0,0],[0,0,0],[0,0,0],[0,0,0],[0,0,0],[0,0,0],[0,0,0],[0,0,0],[0,0,0],[0,0,0],[0,0,0],[0,0,0],[0,0,0],[0,0,0],[0,0,0],[0,0,0],[0,0,0],[0,0,0],[0,0,0],[0,0,0],[0,0,0],[0,0,0],[0,0,0],[0,0,0],[0,0,0]],[[0,0,0],[0,0,0],[0,0,0],[0,0,0],[0,0,0],[0,0,0],[0,0,0],[0,0,0],[0,0,0],[0,0,0],[0,0,0],[0,0,0],[0,0,0],[0,0,0],[0,0,0],[0,0,0],[0,0,0],[0,0,0],[0,0,0],[0,0,0],[0,0,0],[0,0,0],[0,0,0],[0,0,0],[0,0,0],[0,0,0],[0,0,0],[0,0,0]],[[0,0,0],[0,0,0],[0,0,0],[0,0,0],[0,0,0],[0,0,0],[0,0,0],[0,0,0],[0,0,0],[0,0,0],[0,0,0],[0,0,0],[0,0,0],[0,0,0],[0,0,0],[0,0,0],[0,0,0],[0,0,0],[0,0,0],[0,0,0],[0,0,0],[0,0,0],[0,0,0],[0,0,0],[0,0,0],[0,0,0],[0,0,0],[0,0,0]],[[0,0,0],[0,0,0],[0,0,0],[0,0,0],[0,0,0],[0,0,0],[0,0,0],[0,0,0],[0,0,0],[0,0,0],[0,0,0],[0,0,0],[0,0,0],[0,0,0],[0,0,0],[0,0,0],[0,0,0],[0,0,0],[0,0,0],[0,0,0],[0,0,0],[0,0,0],[0,0,0],[0,0,0],[0,0,0],[0,0,0],[0,0,0],[0,0,0]],[[0,0,0],[0,0,0],[0,0,0],[0,0,0],[0,0,0],[0,0,0],[0,0,0],[0,0,0],[0,0,0],[0,0,0],[3,3,3],[104,104,104],[229,229,229],[253,253,253],[241,241,241],[141,141,141],[141,141,141],[79,79,79],[0,0,0],[0,0,0],[0,0,0],[0,0,0],[0,0,0],[0,0,0],[0,0,0],[0,0,0],[0,0,0],[0,0,0]],[[0,0,0],[0,0,0],[0,0,0],[0,0,0],[0,0,0],[0,0,0],[0,0,0],[0,0,0],[0,0,0],[0,0,0],[54,54,54],[251,251,251],[251,251,251],[251,251,251],[253,253,253],[251,251,251],[251,251,251],[215,215,215],[151,151,151],[0,0,0],[0,0,0],[0,0,0],[0,0,0],[0,0,0],[0,0,0],[0,0,0],[0,0,0],[0,0,0]],[[0,0,0],[0,0,0],[0,0,0],[0,0,0],[0,0,0],[0,0,0],[0,0,0],[0,0,0],[0,0,0],[126,126,126],[229,229,229],[251,251,251],[251,251,251],[251,251,251],[253,253,253],[251,251,251],[251,251,251],[251,251,251],[247,247,247],[153,153,153],[0,0,0],[0,0,0],[0,0,0],[0,0,0],[0,0,0],[0,0,0],[0,0,0],[0,0,0]],[[0,0,0],[0,0,0],[0,0,0],[0,0,0],[0,0,0],[0,0,0],[0,0,0],[0,0,0],[126,126,126],[249,249,249],[253,253,253],[251,251,251],[213,213,213],[90,90,90],[27,27,27],[27,27,27],[116,116,116],[239,239,239],[253,253,253],[221,221,221],[24,24,24],[0,0,0],[0,0,0],[0,0,0],[0,0,0],[0,0,0],[0,0,0],[0,0,0]],[[0,0,0],[0,0,0],[0,0,0],[0,0,0],[0,0,0],[0,0,0],[0,0,0],[0,0,0],[198,198,198],[253,253,253],[255,255,255],[209,209,209],[24,24,24],[0,0,0],[0,0,0],[0,0,0],[0,0,0],[163,163,163],[253,253,253],[253,253,253],[56,56,56],[0,0,0],[0,0,0],[0,0,0],[0,0,0],[0,0,0],[0,0,0],[0,0,0]],[[0,0,0],[0,0,0],[0,0,0],[0,0,0],[0,0,0],[0,0,0],[0,0,0],[0,0,0],[153,153,153],[221,221,221],[184,184,184],[27,27,27],[0,0,0],[0,0,0],[0,0,0],[0,0,0],[0,0,0],[113,113,113],[253,253,253],[251,251,251],[56,56,56],[0,0,0],[0,0,0],[0,0,0],[0,0,0],[0,0,0],[0,0,0],[0,0,0]],[[0,0,0],[0,0,0],[0,0,0],[0,0,0],[0,0,0],[0,0,0],[0,0,0],[0,0,0],[0,0,0],[24,24,24],[0,0,0],[0,0,0],[0,0,0],[0,0,0],[0,0,0],[0,0,0],[0,0,0],[199,199,199],[253,253,253],[251,251,251],[56,56,56],[0,0,0],[0,0,0],[0,0,0],[0,0,0],[0,0,0],[0,0,0],[0,0,0]],[[0,0,0],[0,0,0],[0,0,0],[0,0,0],[0,0,0],[0,0,0],[0,0,0],[0,0,0],[0,0,0],[0,0,0],[0,0,0],[0,0,0],[0,0,0],[0,0,0],[0,0,0],[0,0,0],[126,126,126],[249,249,249],[253,253,253],[227,227,227],[30,30,30],[0,0,0],[0,0,0],[0,0,0],[0,0,0],[0,0,0],[0,0,0],[0,0,0]],[[0,0,0],[0,0,0],[0,0,0],[0,0,0],[0,0,0],[0,0,0],[0,0,0],[0,0,0],[0,0,0],[0,0,0],[0,0,0],[0,0,0],[22,22,22],[79,79,79],[41,41,41],[141,141,141],[229,229,229],[253,253,253],[251,251,251],[125,125,125],[0,0,0],[0,0,0],[0,0,0],[0,0,0],[0,0,0],[0,0,0],[0,0,0],[0,0,0]],[[0,0,0],[0,0,0],[0,0,0],[0,0,0],[0,0,0],[0,0,0],[0,0,0],[0,0,0],[0,0,0],[0,0,0],[0,0,0],[0,0,0],[197,197,197],[251,251,251],[253,253,253],[251,251,251],[251,251,251],[251,251,251],[175,175,175],[0,0,0],[0,0,0],[0,0,0],[0,0,0],[0,0,0],[0,0,0],[0,0,0],[0,0,0],[0,0,0]],[[0,0,0],[0,0,0],[0,0,0],[0,0,0],[0,0,0],[0,0,0],[0,0,0],[0,0,0],[0,0,0],[0,0,0],[0,0,0],[45,45,45],[239,239,239],[251,251,251],[253,253,253],[233,233,233],[130,130,130],[56,56,56],[0,0,0],[0,0,0],[0,0,0],[0,0,0],[0,0,0],[0,0,0],[0,0,0],[0,0,0],[0,0,0],[0,0,0]],[[0,0,0],[0,0,0],[0,0,0],[0,0,0],[0,0,0],[0,0,0],[0,0,0],[0,0,0],[0,0,0],[0,0,0],[12,12,12],[194,194,194],[251,251,251],[251,251,251],[178,178,178],[21,21,21],[0,0,0],[0,0,0],[0,0,0],[0,0,0],[0,0,0],[0,0,0],[0,0,0],[0,0,0],[0,0,0],[0,0,0],[0,0,0],[0,0,0]],[[0,0,0],[0,0,0],[0,0,0],[0,0,0],[0,0,0],[0,0,0],[0,0,0],[0,0,0],[0,0,0],[0,0,0],[92,92,92],[253,253,253],[253,253,253],[190,190,190],[0,0,0],[0,0,0],[0,0,0],[0,0,0],[0,0,0],[0,0,0],[0,0,0],[0,0,0],[0,0,0],[0,0,0],[0,0,0],[0,0,0],[0,0,0],[0,0,0]],[[0,0,0],[0,0,0],[0,0,0],[0,0,0],[0,0,0],[0,0,0],[0,0,0],[0,0,0],[0,0,0],[25,25,25],[215,215,215],[251,251,251],[251,251,251],[115,115,115],[0,0,0],[0,0,0],[0,0,0],[0,0,0],[0,0,0],[0,0,0],[0,0,0],[0,0,0],[0,0,0],[0,0,0],[0,0,0],[0,0,0],[0,0,0],[0,0,0]],[[0,0,0],[0,0,0],[0,0,0],[0,0,0],[0,0,0],[0,0,0],[0,0,0],[0,0,0],[0,0,0],[150,150,150],[253,253,253],[251,251,251],[223,223,223],[18,18,18],[0,0,0],[0,0,0],[0,0,0],[0,0,0],[0,0,0],[0,0,0],[0,0,0],[38,38,38],[198,198,198],[104,104,104],[0,0,0],[0,0,0],[0,0,0],[0,0,0]],[[0,0,0],[0,0,0],[0,0,0],[0,0,0],[0,0,0],[0,0,0],[0,0,0],[0,0,0],[38,38,38],[237,237,237],[253,253,253],[251,251,251],[168,168,168],[0,0,0],[0,0,0],[0,0,0],[0,0,0],[0,0,0],[0,0,0],[0,0,0],[126,126,126],[237,237,237],[253,253,253],[245,245,245],[50,50,50],[0,0,0],[0,0,0],[0,0,0]],[[0,0,0],[0,0,0],[0,0,0],[0,0,0],[0,0,0],[0,0,0],[0,0,0],[0,0,0],[198,198,198],[253,253,253],[253,253,253],[253,253,253],[253,253,253],[27,27,27],[0,0,0],[0,0,0],[0,0,0],[0,0,0],[41,41,41],[166,166,166],[253,253,253],[253,253,253],[253,253,253],[247,247,247],[50,50,50],[0,0,0],[0,0,0],[0,0,0]],[[0,0,0],[0,0,0],[0,0,0],[0,0,0],[0,0,0],[0,0,0],[0,0,0],[38,38,38],[233,233,233],[251,251,251],[253,253,253],[251,251,251],[251,251,251],[128,128,128],[70,70,70],[169,169,169],[82,82,82],[157,157,157],[253,253,253],[251,251,251],[251,251,251],[251,251,251],[209,209,209],[65,65,65],[0,0,0],[0,0,0],[0,0,0],[0,0,0]],[[0,0,0],[0,0,0],[0,0,0],[0,0,0],[0,0,0],[0,0,0],[0,0,0],[57,57,57],[251,251,251],[251,251,251],[253,253,253],[251,251,251],[251,251,251],[251,251,251],[253,253,253],[251,251,251],[251,251,251],[251,251,251],[253,253,253],[251,251,251],[223,223,223],[118,118,118],[24,24,24],[0,0,0],[0,0,0],[0,0,0],[0,0,0],[0,0,0]],[[0,0,0],[0,0,0],[0,0,0],[0,0,0],[0,0,0],[0,0,0],[0,0,0],[6,6,6],[116,116,116],[190,190,190],[78,78,78],[103,103,103],[227,227,227],[251,251,251],[253,253,253],[251,251,251],[251,251,251],[201,201,201],[128,128,128],[27,27,27],[18,18,18],[0,0,0],[0,0,0],[0,0,0],[0,0,0],[0,0,0],[0,0,0],[0,0,0]],[[0,0,0],[0,0,0],[0,0,0],[0,0,0],[0,0,0],[0,0,0],[0,0,0],[0,0,0],[0,0,0],[0,0,0],[0,0,0],[0,0,0],[0,0,0],[0,0,0],[0,0,0],[0,0,0],[0,0,0],[0,0,0],[0,0,0],[0,0,0],[0,0,0],[0,0,0],[0,0,0],[0,0,0],[0,0,0],[0,0,0],[0,0,0],[0,0,0]],[[0,0,0],[0,0,0],[0,0,0],[0,0,0],[0,0,0],[0,0,0],[0,0,0],[0,0,0],[0,0,0],[0,0,0],[0,0,0],[0,0,0],[0,0,0],[0,0,0],[0,0,0],[0,0,0],[0,0,0],[0,0,0],[0,0,0],[0,0,0],[0,0,0],[0,0,0],[0,0,0],[0,0,0],[0,0,0],[0,0,0],[0,0,0],[0,0,0]],[[0,0,0],[0,0,0],[0,0,0],[0,0,0],[0,0,0],[0,0,0],[0,0,0],[0,0,0],[0,0,0],[0,0,0],[0,0,0],[0,0,0],[0,0,0],[0,0,0],[0,0,0],[0,0,0],[0,0,0],[0,0,0],[0,0,0],[0,0,0],[0,0,0],[0,0,0],[0,0,0],[0,0,0],[0,0,0],[0,0,0],[0,0,0],[0,0,0]],[[0,0,0],[0,0,0],[0,0,0],[0,0,0],[0,0,0],[0,0,0],[0,0,0],[0,0,0],[0,0,0],[0,0,0],[0,0,0],[0,0,0],[0,0,0],[0,0,0],[0,0,0],[0,0,0],[0,0,0],[0,0,0],[0,0,0],[0,0,0],[0,0,0],[0,0,0],[0,0,0],[0,0,0],[0,0,0],[0,0,0],[0,0,0],[0,0,0]]],\"type\":\"image\",\"xaxis\":\"x\",\"yaxis\":\"y\"},{\"z\":[[[0,0,0],[0,0,0],[0,0,0],[0,0,0],[0,0,0],[0,0,0],[0,0,0],[0,0,0],[0,0,0],[0,0,0],[0,0,0],[0,0,0],[0,0,0],[0,0,0],[0,0,0],[0,0,0],[0,0,0],[0,0,0],[0,0,0],[0,0,0],[0,0,0],[0,0,0],[0,0,0],[0,0,0],[0,0,0],[0,0,0],[0,0,0],[0,0,0]],[[0,0,0],[0,0,0],[0,0,0],[0,0,0],[0,0,0],[0,0,0],[0,0,0],[0,0,0],[0,0,0],[0,0,0],[0,0,0],[0,0,0],[0,0,0],[0,0,0],[0,0,0],[0,0,0],[0,0,0],[0,0,0],[0,0,0],[0,0,0],[0,0,0],[0,0,0],[0,0,0],[0,0,0],[0,0,0],[0,0,0],[0,0,0],[0,0,0]],[[0,0,0],[0,0,0],[0,0,0],[0,0,0],[0,0,0],[0,0,0],[0,0,0],[0,0,0],[0,0,0],[0,0,0],[0,0,0],[0,0,0],[0,0,0],[0,0,0],[0,0,0],[0,0,0],[0,0,0],[0,0,0],[0,0,0],[0,0,0],[0,0,0],[0,0,0],[0,0,0],[0,0,0],[0,0,0],[0,0,0],[0,0,0],[0,0,0]],[[0,0,0],[0,0,0],[0,0,0],[0,0,0],[0,0,0],[0,0,0],[0,0,0],[0,0,0],[0,0,0],[0,0,0],[0,0,0],[0,0,0],[0,0,0],[0,0,0],[0,0,0],[0,0,0],[0,0,0],[0,0,0],[0,0,0],[0,0,0],[0,0,0],[0,0,0],[0,0,0],[0,0,0],[0,0,0],[0,0,0],[0,0,0],[0,0,0]],[[0,0,0],[0,0,0],[0,0,0],[0,0,0],[0,0,0],[0,0,0],[0,0,0],[0,0,0],[0,0,0],[0,0,0],[0,0,0],[0,0,0],[0,0,0],[0,0,0],[0,0,0],[0,0,0],[0,0,0],[0,0,0],[0,0,0],[0,0,0],[0,0,0],[0,0,0],[0,0,0],[0,0,0],[0,0,0],[0,0,0],[0,0,0],[0,0,0]],[[0,0,0],[0,0,0],[0,0,0],[0,0,0],[0,0,0],[0,0,0],[0,0,0],[0,0,0],[0,0,0],[0,0,0],[0,0,0],[0,0,0],[0,0,0],[0,0,0],[64,64,64],[145,145,145],[161,161,161],[195,195,195],[161,161,161],[55,55,55],[0,0,0],[0,0,0],[0,0,0],[0,0,0],[0,0,0],[0,0,0],[0,0,0],[0,0,0]],[[0,0,0],[0,0,0],[0,0,0],[0,0,0],[0,0,0],[0,0,0],[0,0,0],[0,0,0],[0,0,0],[0,0,0],[0,0,0],[0,0,0],[16,16,16],[198,198,198],[251,251,251],[215,215,215],[205,205,205],[207,207,207],[231,231,231],[233,233,233],[55,55,55],[0,0,0],[0,0,0],[0,0,0],[0,0,0],[0,0,0],[0,0,0],[0,0,0]],[[0,0,0],[0,0,0],[0,0,0],[0,0,0],[0,0,0],[0,0,0],[0,0,0],[0,0,0],[0,0,0],[0,0,0],[0,0,0],[10,10,10],[199,199,199],[253,253,253],[130,130,130],[8,8,8],[0,0,0],[0,0,0],[105,105,105],[253,253,253],[160,160,160],[0,0,0],[0,0,0],[0,0,0],[0,0,0],[0,0,0],[0,0,0],[0,0,0]],[[0,0,0],[0,0,0],[0,0,0],[0,0,0],[0,0,0],[0,0,0],[0,0,0],[0,0,0],[0,0,0],[0,0,0],[0,0,0],[23,23,23],[253,253,253],[253,253,253],[22,22,22],[0,0,0],[0,0,0],[60,60,60],[213,213,213],[253,253,253],[227,227,227],[0,0,0],[0,0,0],[0,0,0],[0,0,0],[0,0,0],[0,0,0],[0,0,0]],[[0,0,0],[0,0,0],[0,0,0],[0,0,0],[0,0,0],[0,0,0],[0,0,0],[0,0,0],[0,0,0],[0,0,0],[0,0,0],[83,83,83],[253,253,253],[185,185,185],[0,0,0],[0,0,0],[0,0,0],[221,221,221],[253,253,253],[253,253,253],[195,195,195],[0,0,0],[0,0,0],[0,0,0],[0,0,0],[0,0,0],[0,0,0],[0,0,0]],[[0,0,0],[0,0,0],[0,0,0],[0,0,0],[0,0,0],[0,0,0],[0,0,0],[0,0,0],[0,0,0],[0,0,0],[0,0,0],[132,132,132],[253,253,253],[134,134,134],[0,0,0],[0,0,0],[68,68,68],[253,253,253],[253,253,253],[164,164,164],[14,14,14],[0,0,0],[0,0,0],[0,0,0],[0,0,0],[0,0,0],[0,0,0],[0,0,0]],[[0,0,0],[0,0,0],[0,0,0],[0,0,0],[0,0,0],[0,0,0],[0,0,0],[0,0,0],[0,0,0],[0,0,0],[0,0,0],[165,165,165],[253,253,253],[93,93,93],[0,0,0],[27,27,27],[215,215,215],[253,253,253],[130,130,130],[8,8,8],[0,0,0],[0,0,0],[0,0,0],[0,0,0],[0,0,0],[0,0,0],[0,0,0],[0,0,0]],[[0,0,0],[0,0,0],[0,0,0],[0,0,0],[0,0,0],[0,0,0],[0,0,0],[0,0,0],[0,0,0],[0,0,0],[0,0,0],[116,116,116],[253,253,253],[93,93,93],[16,16,16],[223,223,223],[253,253,253],[169,169,169],[5,5,5],[0,0,0],[0,0,0],[0,0,0],[0,0,0],[0,0,0],[0,0,0],[0,0,0],[0,0,0],[0,0,0]],[[0,0,0],[0,0,0],[0,0,0],[0,0,0],[0,0,0],[0,0,0],[0,0,0],[0,0,0],[0,0,0],[0,0,0],[0,0,0],[116,116,116],[253,253,253],[136,136,136],[203,203,203],[253,253,253],[169,169,169],[0,0,0],[0,0,0],[0,0,0],[0,0,0],[0,0,0],[0,0,0],[0,0,0],[0,0,0],[0,0,0],[0,0,0],[0,0,0]],[[0,0,0],[0,0,0],[0,0,0],[0,0,0],[0,0,0],[0,0,0],[0,0,0],[0,0,0],[0,0,0],[0,0,0],[0,0,0],[99,99,99],[253,253,253],[253,253,253],[253,253,253],[205,205,205],[30,30,30],[0,0,0],[0,0,0],[0,0,0],[0,0,0],[0,0,0],[0,0,0],[0,0,0],[0,0,0],[0,0,0],[0,0,0],[0,0,0]],[[0,0,0],[0,0,0],[0,0,0],[0,0,0],[0,0,0],[0,0,0],[0,0,0],[0,0,0],[0,0,0],[0,0,0],[0,0,0],[32,32,32],[253,253,253],[253,253,253],[239,239,239],[42,42,42],[0,0,0],[0,0,0],[0,0,0],[0,0,0],[0,0,0],[0,0,0],[0,0,0],[0,0,0],[0,0,0],[0,0,0],[0,0,0],[0,0,0]],[[0,0,0],[0,0,0],[0,0,0],[0,0,0],[0,0,0],[0,0,0],[0,0,0],[0,0,0],[0,0,0],[0,0,0],[0,0,0],[149,149,149],[253,253,253],[253,253,253],[48,48,48],[0,0,0],[0,0,0],[0,0,0],[0,0,0],[0,0,0],[0,0,0],[0,0,0],[0,0,0],[0,0,0],[0,0,0],[0,0,0],[0,0,0],[0,0,0]],[[0,0,0],[0,0,0],[0,0,0],[0,0,0],[0,0,0],[0,0,0],[0,0,0],[0,0,0],[0,0,0],[0,0,0],[72,72,72],[253,253,253],[253,253,253],[253,253,253],[22,22,22],[0,0,0],[0,0,0],[0,0,0],[0,0,0],[0,0,0],[0,0,0],[0,0,0],[0,0,0],[0,0,0],[0,0,0],[0,0,0],[0,0,0],[0,0,0]],[[0,0,0],[0,0,0],[0,0,0],[0,0,0],[0,0,0],[0,0,0],[0,0,0],[0,0,0],[0,0,0],[12,12,12],[225,225,225],[253,253,253],[253,253,253],[253,253,253],[157,157,157],[0,0,0],[0,0,0],[0,0,0],[0,0,0],[0,0,0],[0,0,0],[0,0,0],[0,0,0],[0,0,0],[0,0,0],[0,0,0],[0,0,0],[0,0,0]],[[0,0,0],[0,0,0],[0,0,0],[0,0,0],[0,0,0],[0,0,0],[0,0,0],[0,0,0],[0,0,0],[112,112,112],[253,253,253],[241,241,241],[71,71,71],[253,253,253],[227,227,227],[20,20,20],[0,0,0],[0,0,0],[0,0,0],[0,0,0],[0,0,0],[0,0,0],[0,0,0],[0,0,0],[0,0,0],[0,0,0],[0,0,0],[0,0,0]],[[0,0,0],[0,0,0],[0,0,0],[0,0,0],[0,0,0],[0,0,0],[0,0,0],[0,0,0],[0,0,0],[229,229,229],[253,253,253],[162,162,162],[0,0,0],[253,253,253],[253,253,253],[46,46,46],[0,0,0],[0,0,0],[0,0,0],[0,0,0],[0,0,0],[0,0,0],[0,0,0],[0,0,0],[0,0,0],[0,0,0],[0,0,0],[0,0,0]],[[0,0,0],[0,0,0],[0,0,0],[0,0,0],[0,0,0],[0,0,0],[0,0,0],[0,0,0],[93,93,93],[255,255,255],[241,241,241],[34,34,34],[0,0,0],[253,253,253],[253,253,253],[46,46,46],[0,0,0],[0,0,0],[0,0,0],[0,0,0],[0,0,0],[0,0,0],[0,0,0],[0,0,0],[0,0,0],[0,0,0],[0,0,0],[0,0,0]],[[0,0,0],[0,0,0],[0,0,0],[0,0,0],[0,0,0],[0,0,0],[0,0,0],[0,0,0],[93,93,93],[253,253,253],[205,205,205],[4,4,4],[80,80,80],[253,253,253],[253,253,253],[46,46,46],[0,0,0],[0,0,0],[0,0,0],[0,0,0],[0,0,0],[0,0,0],[0,0,0],[0,0,0],[0,0,0],[0,0,0],[0,0,0],[0,0,0]],[[0,0,0],[0,0,0],[0,0,0],[0,0,0],[0,0,0],[0,0,0],[0,0,0],[0,0,0],[51,51,51],[237,237,237],[243,243,243],[211,211,211],[253,253,253],[239,239,239],[96,96,96],[8,8,8],[0,0,0],[0,0,0],[0,0,0],[0,0,0],[0,0,0],[0,0,0],[0,0,0],[0,0,0],[0,0,0],[0,0,0],[0,0,0],[0,0,0]],[[0,0,0],[0,0,0],[0,0,0],[0,0,0],[0,0,0],[0,0,0],[0,0,0],[0,0,0],[0,0,0],[45,45,45],[160,160,160],[201,201,201],[185,185,185],[24,24,24],[0,0,0],[0,0,0],[0,0,0],[0,0,0],[0,0,0],[0,0,0],[0,0,0],[0,0,0],[0,0,0],[0,0,0],[0,0,0],[0,0,0],[0,0,0],[0,0,0]],[[0,0,0],[0,0,0],[0,0,0],[0,0,0],[0,0,0],[0,0,0],[0,0,0],[0,0,0],[0,0,0],[0,0,0],[0,0,0],[0,0,0],[0,0,0],[0,0,0],[0,0,0],[0,0,0],[0,0,0],[0,0,0],[0,0,0],[0,0,0],[0,0,0],[0,0,0],[0,0,0],[0,0,0],[0,0,0],[0,0,0],[0,0,0],[0,0,0]],[[0,0,0],[0,0,0],[0,0,0],[0,0,0],[0,0,0],[0,0,0],[0,0,0],[0,0,0],[0,0,0],[0,0,0],[0,0,0],[0,0,0],[0,0,0],[0,0,0],[0,0,0],[0,0,0],[0,0,0],[0,0,0],[0,0,0],[0,0,0],[0,0,0],[0,0,0],[0,0,0],[0,0,0],[0,0,0],[0,0,0],[0,0,0],[0,0,0]],[[0,0,0],[0,0,0],[0,0,0],[0,0,0],[0,0,0],[0,0,0],[0,0,0],[0,0,0],[0,0,0],[0,0,0],[0,0,0],[0,0,0],[0,0,0],[0,0,0],[0,0,0],[0,0,0],[0,0,0],[0,0,0],[0,0,0],[0,0,0],[0,0,0],[0,0,0],[0,0,0],[0,0,0],[0,0,0],[0,0,0],[0,0,0],[0,0,0]]],\"type\":\"image\",\"xaxis\":\"x2\",\"yaxis\":\"y2\"},{\"z\":[[[0,0,0],[0,0,0],[0,0,0],[0,0,0],[0,0,0],[0,0,0],[0,0,0],[0,0,0],[0,0,0],[0,0,0],[0,0,0],[0,0,0],[0,0,0],[0,0,0],[0,0,0],[0,0,0],[0,0,0],[0,0,0],[0,0,0],[0,0,0],[0,0,0],[0,0,0],[0,0,0],[0,0,0],[0,0,0],[0,0,0],[0,0,0],[0,0,0]],[[0,0,0],[0,0,0],[0,0,0],[0,0,0],[0,0,0],[0,0,0],[0,0,0],[0,0,0],[0,0,0],[0,0,0],[0,0,0],[0,0,0],[0,0,0],[0,0,0],[0,0,0],[0,0,0],[0,0,0],[0,0,0],[0,0,0],[0,0,0],[0,0,0],[0,0,0],[0,0,0],[0,0,0],[0,0,0],[0,0,0],[0,0,0],[0,0,0]],[[0,0,0],[0,0,0],[0,0,0],[0,0,0],[0,0,0],[0,0,0],[0,0,0],[0,0,0],[0,0,0],[0,0,0],[0,0,0],[0,0,0],[0,0,0],[0,0,0],[0,0,0],[0,0,0],[0,0,0],[0,0,0],[0,0,0],[0,0,0],[0,0,0],[0,0,0],[0,0,0],[0,0,0],[0,0,0],[0,0,0],[0,0,0],[0,0,0]],[[0,0,0],[0,0,0],[0,0,0],[0,0,0],[0,0,0],[0,0,0],[0,0,0],[0,0,0],[0,0,0],[0,0,0],[0,0,0],[0,0,0],[0,0,0],[0,0,0],[0,0,0],[0,0,0],[0,0,0],[0,0,0],[0,0,0],[0,0,0],[0,0,0],[0,0,0],[0,0,0],[0,0,0],[0,0,0],[0,0,0],[0,0,0],[0,0,0]],[[0,0,0],[0,0,0],[0,0,0],[0,0,0],[0,0,0],[0,0,0],[0,0,0],[0,0,0],[0,0,0],[0,0,0],[0,0,0],[0,0,0],[0,0,0],[0,0,0],[0,0,0],[1,1,1],[88,88,88],[213,213,213],[253,253,253],[162,162,162],[30,30,30],[0,0,0],[0,0,0],[0,0,0],[0,0,0],[0,0,0],[0,0,0],[0,0,0]],[[0,0,0],[0,0,0],[0,0,0],[0,0,0],[0,0,0],[0,0,0],[0,0,0],[0,0,0],[0,0,0],[0,0,0],[0,0,0],[0,0,0],[0,0,0],[0,0,0],[1,1,1],[35,35,35],[207,207,207],[253,253,253],[253,253,253],[253,253,253],[217,217,217],[90,90,90],[0,0,0],[0,0,0],[0,0,0],[0,0,0],[0,0,0],[0,0,0]],[[0,0,0],[0,0,0],[0,0,0],[0,0,0],[0,0,0],[0,0,0],[0,0,0],[0,0,0],[0,0,0],[0,0,0],[0,0,0],[0,0,0],[0,0,0],[17,17,17],[106,106,106],[253,253,253],[253,253,253],[253,253,253],[253,253,253],[253,253,253],[253,253,253],[170,170,170],[3,3,3],[0,0,0],[0,0,0],[0,0,0],[0,0,0],[0,0,0]],[[0,0,0],[0,0,0],[0,0,0],[0,0,0],[0,0,0],[0,0,0],[0,0,0],[0,0,0],[0,0,0],[0,0,0],[0,0,0],[0,0,0],[20,20,20],[146,146,146],[253,253,253],[253,253,253],[253,253,253],[221,221,221],[129,129,129],[225,225,225],[253,253,253],[235,235,235],[18,18,18],[0,0,0],[0,0,0],[0,0,0],[0,0,0],[0,0,0]],[[0,0,0],[0,0,0],[0,0,0],[0,0,0],[0,0,0],[0,0,0],[0,0,0],[0,0,0],[0,0,0],[0,0,0],[0,0,0],[0,0,0],[138,138,138],[253,253,253],[253,253,253],[253,253,253],[253,253,253],[141,141,141],[17,17,17],[211,211,211],[253,253,253],[225,225,225],[16,16,16],[0,0,0],[0,0,0],[0,0,0],[0,0,0],[0,0,0]],[[0,0,0],[0,0,0],[0,0,0],[0,0,0],[0,0,0],[0,0,0],[0,0,0],[0,0,0],[0,0,0],[0,0,0],[0,0,0],[167,167,167],[247,247,247],[253,253,253],[253,253,253],[253,253,253],[132,132,132],[19,19,19],[0,0,0],[159,159,159],[253,253,253],[207,207,207],[12,12,12],[0,0,0],[0,0,0],[0,0,0],[0,0,0],[0,0,0]],[[0,0,0],[0,0,0],[0,0,0],[0,0,0],[0,0,0],[0,0,0],[0,0,0],[0,0,0],[0,0,0],[0,0,0],[110,110,110],[247,247,247],[253,253,253],[253,253,253],[209,209,209],[157,157,157],[17,17,17],[0,0,0],[0,0,0],[114,114,114],[253,253,253],[221,221,221],[15,15,15],[0,0,0],[0,0,0],[0,0,0],[0,0,0],[0,0,0]],[[0,0,0],[0,0,0],[0,0,0],[0,0,0],[0,0,0],[0,0,0],[0,0,0],[0,0,0],[0,0,0],[63,63,63],[247,247,247],[253,253,253],[253,253,253],[253,253,253],[64,64,64],[0,0,0],[0,0,0],[0,0,0],[29,29,29],[221,221,221],[253,253,253],[193,193,193],[8,8,8],[0,0,0],[0,0,0],[0,0,0],[0,0,0],[0,0,0]],[[0,0,0],[0,0,0],[0,0,0],[0,0,0],[0,0,0],[0,0,0],[0,0,0],[0,0,0],[56,56,56],[237,237,237],[253,253,253],[253,253,253],[205,205,205],[87,87,87],[11,11,11],[0,0,0],[0,0,0],[0,0,0],[56,56,56],[247,247,247],[253,253,253],[114,114,114],[2,2,2],[0,0,0],[0,0,0],[0,0,0],[0,0,0],[0,0,0]],[[0,0,0],[0,0,0],[0,0,0],[0,0,0],[0,0,0],[0,0,0],[0,0,0],[0,0,0],[90,90,90],[225,225,225],[253,253,253],[207,207,207],[76,76,76],[0,0,0],[0,0,0],[0,0,0],[0,0,0],[0,0,0],[90,90,90],[225,225,225],[253,253,253],[94,94,94],[0,0,0],[0,0,0],[0,0,0],[0,0,0],[0,0,0],[0,0,0]],[[0,0,0],[0,0,0],[0,0,0],[0,0,0],[0,0,0],[0,0,0],[0,0,0],[49,49,49],[253,253,253],[253,253,253],[253,253,253],[207,207,207],[12,12,12],[0,0,0],[0,0,0],[0,0,0],[0,0,0],[0,0,0],[120,120,120],[253,253,253],[249,249,249],[34,34,34],[0,0,0],[0,0,0],[0,0,0],[0,0,0],[0,0,0],[0,0,0]],[[0,0,0],[0,0,0],[0,0,0],[0,0,0],[0,0,0],[0,0,0],[0,0,0],[107,107,107],[253,253,253],[253,253,253],[253,253,253],[198,198,198],[9,9,9],[0,0,0],[0,0,0],[0,0,0],[0,0,0],[86,86,86],[171,171,171],[253,253,253],[111,111,111],[0,0,0],[0,0,0],[0,0,0],[0,0,0],[0,0,0],[0,0,0],[0,0,0]],[[0,0,0],[0,0,0],[0,0,0],[0,0,0],[0,0,0],[0,0,0],[5,5,5],[79,79,79],[253,253,253],[253,253,253],[223,223,223],[77,77,77],[0,0,0],[0,0,0],[0,0,0],[0,0,0],[5,5,5],[136,136,136],[253,253,253],[253,253,253],[151,151,151],[0,0,0],[0,0,0],[0,0,0],[0,0,0],[0,0,0],[0,0,0],[0,0,0]],[[0,0,0],[0,0,0],[0,0,0],[0,0,0],[0,0,0],[0,0,0],[18,18,18],[213,213,213],[253,253,253],[253,253,253],[106,106,106],[0,0,0],[0,0,0],[0,0,0],[0,0,0],[0,0,0],[60,60,60],[253,253,253],[253,253,253],[253,253,253],[48,48,48],[0,0,0],[0,0,0],[0,0,0],[0,0,0],[0,0,0],[0,0,0],[0,0,0]],[[0,0,0],[0,0,0],[0,0,0],[0,0,0],[0,0,0],[0,0,0],[124,124,124],[253,253,253],[253,253,253],[217,217,217],[24,24,24],[0,0,0],[0,0,0],[59,59,59],[67,67,67],[182,182,182],[225,225,225],[253,253,253],[239,239,239],[101,101,101],[13,13,13],[0,0,0],[0,0,0],[0,0,0],[0,0,0],[0,0,0],[0,0,0],[0,0,0]],[[0,0,0],[0,0,0],[0,0,0],[0,0,0],[0,0,0],[6,6,6],[128,128,128],[253,253,253],[253,253,253],[253,253,253],[205,205,205],[194,194,194],[136,136,136],[251,251,251],[253,253,253],[253,253,253],[253,253,253],[239,239,239],[166,166,166],[28,28,28],[0,0,0],[0,0,0],[0,0,0],[0,0,0],[0,0,0],[0,0,0],[0,0,0],[0,0,0]],[[0,0,0],[0,0,0],[0,0,0],[0,0,0],[0,0,0],[16,16,16],[180,180,180],[253,253,253],[253,253,253],[253,253,253],[253,253,253],[253,253,253],[253,253,253],[253,253,253],[253,253,253],[253,253,253],[253,253,253],[147,147,147],[0,0,0],[0,0,0],[0,0,0],[0,0,0],[0,0,0],[0,0,0],[0,0,0],[0,0,0],[0,0,0],[0,0,0]],[[0,0,0],[0,0,0],[0,0,0],[0,0,0],[0,0,0],[11,11,11],[186,186,186],[253,253,253],[253,253,253],[253,253,253],[253,253,253],[253,253,253],[253,253,253],[253,253,253],[253,253,253],[253,253,253],[221,221,221],[28,28,28],[0,0,0],[0,0,0],[0,0,0],[0,0,0],[0,0,0],[0,0,0],[0,0,0],[0,0,0],[0,0,0],[0,0,0]],[[0,0,0],[0,0,0],[0,0,0],[0,0,0],[0,0,0],[0,0,0],[14,14,14],[177,177,177],[253,253,253],[253,253,253],[253,253,253],[253,253,253],[253,253,253],[253,253,253],[249,249,249],[144,144,144],[66,66,66],[0,0,0],[0,0,0],[0,0,0],[0,0,0],[0,0,0],[0,0,0],[0,0,0],[0,0,0],[0,0,0],[0,0,0],[0,0,0]],[[0,0,0],[0,0,0],[0,0,0],[0,0,0],[0,0,0],[0,0,0],[0,0,0],[89,89,89],[161,161,161],[160,160,160],[231,231,231],[253,253,253],[201,201,201],[75,75,75],[10,10,10],[0,0,0],[0,0,0],[0,0,0],[0,0,0],[0,0,0],[0,0,0],[0,0,0],[0,0,0],[0,0,0],[0,0,0],[0,0,0],[0,0,0],[0,0,0]],[[0,0,0],[0,0,0],[0,0,0],[0,0,0],[0,0,0],[0,0,0],[0,0,0],[0,0,0],[0,0,0],[0,0,0],[0,0,0],[0,0,0],[0,0,0],[0,0,0],[0,0,0],[0,0,0],[0,0,0],[0,0,0],[0,0,0],[0,0,0],[0,0,0],[0,0,0],[0,0,0],[0,0,0],[0,0,0],[0,0,0],[0,0,0],[0,0,0]],[[0,0,0],[0,0,0],[0,0,0],[0,0,0],[0,0,0],[0,0,0],[0,0,0],[0,0,0],[0,0,0],[0,0,0],[0,0,0],[0,0,0],[0,0,0],[0,0,0],[0,0,0],[0,0,0],[0,0,0],[0,0,0],[0,0,0],[0,0,0],[0,0,0],[0,0,0],[0,0,0],[0,0,0],[0,0,0],[0,0,0],[0,0,0],[0,0,0]],[[0,0,0],[0,0,0],[0,0,0],[0,0,0],[0,0,0],[0,0,0],[0,0,0],[0,0,0],[0,0,0],[0,0,0],[0,0,0],[0,0,0],[0,0,0],[0,0,0],[0,0,0],[0,0,0],[0,0,0],[0,0,0],[0,0,0],[0,0,0],[0,0,0],[0,0,0],[0,0,0],[0,0,0],[0,0,0],[0,0,0],[0,0,0],[0,0,0]],[[0,0,0],[0,0,0],[0,0,0],[0,0,0],[0,0,0],[0,0,0],[0,0,0],[0,0,0],[0,0,0],[0,0,0],[0,0,0],[0,0,0],[0,0,0],[0,0,0],[0,0,0],[0,0,0],[0,0,0],[0,0,0],[0,0,0],[0,0,0],[0,0,0],[0,0,0],[0,0,0],[0,0,0],[0,0,0],[0,0,0],[0,0,0],[0,0,0]]],\"type\":\"image\",\"xaxis\":\"x3\",\"yaxis\":\"y3\"},{\"z\":[[[0,0,0],[0,0,0],[0,0,0],[0,0,0],[0,0,0],[0,0,0],[0,0,0],[0,0,0],[0,0,0],[0,0,0],[0,0,0],[0,0,0],[0,0,0],[0,0,0],[0,0,0],[0,0,0],[0,0,0],[0,0,0],[0,0,0],[0,0,0],[0,0,0],[0,0,0],[0,0,0],[0,0,0],[0,0,0],[0,0,0],[0,0,0],[0,0,0]],[[0,0,0],[0,0,0],[0,0,0],[0,0,0],[0,0,0],[0,0,0],[0,0,0],[0,0,0],[0,0,0],[0,0,0],[0,0,0],[0,0,0],[0,0,0],[0,0,0],[0,0,0],[0,0,0],[0,0,0],[0,0,0],[0,0,0],[0,0,0],[0,0,0],[0,0,0],[0,0,0],[0,0,0],[0,0,0],[0,0,0],[0,0,0],[0,0,0]],[[0,0,0],[0,0,0],[0,0,0],[0,0,0],[0,0,0],[0,0,0],[0,0,0],[0,0,0],[0,0,0],[0,0,0],[0,0,0],[0,0,0],[0,0,0],[0,0,0],[0,0,0],[0,0,0],[0,0,0],[0,0,0],[0,0,0],[0,0,0],[0,0,0],[0,0,0],[0,0,0],[0,0,0],[0,0,0],[0,0,0],[0,0,0],[0,0,0]],[[0,0,0],[0,0,0],[0,0,0],[0,0,0],[0,0,0],[0,0,0],[0,0,0],[0,0,0],[0,0,0],[0,0,0],[0,0,0],[0,0,0],[0,0,0],[0,0,0],[0,0,0],[0,0,0],[0,0,0],[0,0,0],[0,0,0],[0,0,0],[0,0,0],[0,0,0],[0,0,0],[0,0,0],[0,0,0],[0,0,0],[0,0,0],[0,0,0]],[[0,0,0],[0,0,0],[0,0,0],[0,0,0],[0,0,0],[0,0,0],[0,0,0],[0,0,0],[0,0,0],[0,0,0],[0,0,0],[0,0,0],[0,0,0],[0,0,0],[0,0,0],[63,63,63],[9,9,9],[0,0,0],[0,0,0],[0,0,0],[0,0,0],[0,0,0],[0,0,0],[0,0,0],[0,0,0],[0,0,0],[0,0,0],[0,0,0]],[[0,0,0],[0,0,0],[0,0,0],[0,0,0],[0,0,0],[0,0,0],[0,0,0],[0,0,0],[0,0,0],[0,0,0],[0,0,0],[0,0,0],[0,0,0],[0,0,0],[44,44,44],[229,229,229],[70,70,70],[0,0,0],[0,0,0],[0,0,0],[0,0,0],[0,0,0],[0,0,0],[0,0,0],[0,0,0],[0,0,0],[0,0,0],[0,0,0]],[[0,0,0],[0,0,0],[0,0,0],[0,0,0],[0,0,0],[0,0,0],[0,0,0],[0,0,0],[0,0,0],[0,0,0],[0,0,0],[0,0,0],[0,0,0],[0,0,0],[147,147,147],[255,255,255],[70,70,70],[0,0,0],[0,0,0],[0,0,0],[0,0,0],[0,0,0],[0,0,0],[0,0,0],[0,0,0],[0,0,0],[0,0,0],[0,0,0]],[[0,0,0],[0,0,0],[0,0,0],[0,0,0],[0,0,0],[0,0,0],[0,0,0],[0,0,0],[0,0,0],[0,0,0],[0,0,0],[0,0,0],[0,0,0],[5,5,5],[225,225,225],[253,253,253],[34,34,34],[0,0,0],[0,0,0],[0,0,0],[0,0,0],[0,0,0],[0,0,0],[0,0,0],[0,0,0],[0,0,0],[0,0,0],[0,0,0]],[[0,0,0],[0,0,0],[0,0,0],[0,0,0],[0,0,0],[0,0,0],[0,0,0],[0,0,0],[0,0,0],[0,0,0],[0,0,0],[0,0,0],[0,0,0],[114,114,114],[253,253,253],[148,148,148],[0,0,0],[0,0,0],[0,0,0],[0,0,0],[0,0,0],[0,0,0],[0,0,0],[5,5,5],[16,16,16],[15,15,15],[0,0,0],[0,0,0]],[[0,0,0],[0,0,0],[0,0,0],[0,0,0],[0,0,0],[0,0,0],[0,0,0],[0,0,0],[0,0,0],[0,0,0],[0,0,0],[0,0,0],[93,93,93],[249,249,249],[217,217,217],[14,14,14],[0,0,0],[14,14,14],[52,52,52],[114,114,114],[127,127,127],[127,127,127],[127,127,127],[174,174,174],[173,173,173],[132,132,132],[84,84,84],[0,0,0]],[[0,0,0],[0,0,0],[0,0,0],[0,0,0],[0,0,0],[0,0,0],[0,0,0],[0,0,0],[0,0,0],[0,0,0],[0,0,0],[40,40,40],[233,233,233],[245,245,245],[110,110,110],[159,159,159],[191,191,191],[239,239,239],[253,253,253],[253,253,253],[241,241,241],[132,132,132],[118,118,118],[28,28,28],[0,0,0],[0,0,0],[0,0,0],[0,0,0]],[[0,0,0],[0,0,0],[0,0,0],[0,0,0],[0,0,0],[0,0,0],[0,0,0],[0,0,0],[0,0,0],[0,0,0],[23,23,23],[203,203,203],[253,253,253],[91,91,91],[253,253,253],[253,253,253],[253,253,253],[229,229,229],[158,158,158],[97,97,97],[20,20,20],[0,0,0],[0,0,0],[0,0,0],[0,0,0],[0,0,0],[0,0,0],[0,0,0]],[[0,0,0],[0,0,0],[0,0,0],[0,0,0],[0,0,0],[0,0,0],[0,0,0],[0,0,0],[0,0,0],[8,8,8],[192,192,192],[253,253,253],[120,120,120],[6,6,6],[116,116,116],[154,154,154],[71,71,71],[12,12,12],[0,0,0],[0,0,0],[0,0,0],[0,0,0],[0,0,0],[0,0,0],[0,0,0],[0,0,0],[0,0,0],[0,0,0]],[[0,0,0],[0,0,0],[0,0,0],[0,0,0],[0,0,0],[0,0,0],[0,0,0],[0,0,0],[0,0,0],[132,132,132],[253,253,253],[118,118,118],[0,0,0],[0,0,0],[0,0,0],[0,0,0],[0,0,0],[0,0,0],[0,0,0],[0,0,0],[0,0,0],[0,0,0],[0,0,0],[0,0,0],[0,0,0],[0,0,0],[0,0,0],[0,0,0]],[[0,0,0],[0,0,0],[0,0,0],[0,0,0],[0,0,0],[0,0,0],[0,0,0],[0,0,0],[59,59,59],[241,241,241],[162,162,162],[2,2,2],[0,0,0],[0,0,0],[0,0,0],[0,0,0],[0,0,0],[0,0,0],[0,0,0],[0,0,0],[0,0,0],[0,0,0],[0,0,0],[0,0,0],[0,0,0],[0,0,0],[0,0,0],[0,0,0]],[[0,0,0],[0,0,0],[0,0,0],[0,0,0],[0,0,0],[0,0,0],[0,0,0],[22,22,22],[207,207,207],[213,213,213],[51,51,51],[0,0,0],[0,0,0],[0,0,0],[0,0,0],[0,0,0],[0,0,0],[0,0,0],[0,0,0],[0,0,0],[0,0,0],[0,0,0],[0,0,0],[0,0,0],[0,0,0],[0,0,0],[0,0,0],[0,0,0]],[[0,0,0],[0,0,0],[0,0,0],[0,0,0],[0,0,0],[0,0,0],[0,0,0],[147,147,147],[253,253,253],[133,133,133],[0,0,0],[0,0,0],[0,0,0],[0,0,0],[0,0,0],[0,0,0],[0,0,0],[0,0,0],[0,0,0],[0,0,0],[0,0,0],[0,0,0],[0,0,0],[0,0,0],[0,0,0],[0,0,0],[0,0,0],[0,0,0]],[[0,0,0],[0,0,0],[0,0,0],[0,0,0],[0,0,0],[0,0,0],[0,0,0],[168,168,168],[253,253,253],[249,249,249],[205,205,205],[143,143,143],[60,60,60],[22,22,22],[22,22,22],[2,2,2],[0,0,0],[0,0,0],[0,0,0],[0,0,0],[0,0,0],[0,0,0],[0,0,0],[0,0,0],[0,0,0],[0,0,0],[0,0,0],[0,0,0]],[[0,0,0],[0,0,0],[0,0,0],[0,0,0],[0,0,0],[0,0,0],[0,0,0],[6,6,6],[112,112,112],[199,199,199],[227,227,227],[253,253,253],[253,253,253],[253,253,253],[253,253,253],[207,207,207],[129,129,129],[18,18,18],[0,0,0],[0,0,0],[0,0,0],[0,0,0],[0,0,0],[0,0,0],[0,0,0],[0,0,0],[0,0,0],[0,0,0]],[[0,0,0],[0,0,0],[0,0,0],[0,0,0],[0,0,0],[0,0,0],[0,0,0],[0,0,0],[0,0,0],[0,0,0],[9,9,9],[17,17,17],[76,76,76],[160,160,160],[215,215,215],[253,253,253],[253,253,253],[101,101,101],[0,0,0],[0,0,0],[0,0,0],[0,0,0],[0,0,0],[0,0,0],[0,0,0],[0,0,0],[0,0,0],[0,0,0]],[[0,0,0],[0,0,0],[0,0,0],[0,0,0],[0,0,0],[0,0,0],[0,0,0],[0,0,0],[0,0,0],[0,0,0],[0,0,0],[0,0,0],[23,23,23],[186,186,186],[253,253,253],[253,253,253],[163,163,163],[8,8,8],[0,0,0],[0,0,0],[0,0,0],[0,0,0],[0,0,0],[0,0,0],[0,0,0],[0,0,0],[0,0,0],[0,0,0]],[[0,0,0],[0,0,0],[0,0,0],[0,0,0],[0,0,0],[0,0,0],[0,0,0],[0,0,0],[0,0,0],[2,2,2],[68,68,68],[151,151,151],[225,225,225],[253,253,253],[235,235,235],[107,107,107],[0,0,0],[0,0,0],[0,0,0],[0,0,0],[0,0,0],[0,0,0],[0,0,0],[0,0,0],[0,0,0],[0,0,0],[0,0,0],[0,0,0]],[[0,0,0],[0,0,0],[0,0,0],[0,0,0],[0,0,0],[0,0,0],[0,0,0],[0,0,0],[39,39,39],[213,213,213],[253,253,253],[239,239,239],[213,213,213],[143,143,143],[16,16,16],[0,0,0],[0,0,0],[0,0,0],[0,0,0],[0,0,0],[0,0,0],[0,0,0],[0,0,0],[0,0,0],[0,0,0],[0,0,0],[0,0,0],[0,0,0]],[[0,0,0],[0,0,0],[0,0,0],[0,0,0],[0,0,0],[0,0,0],[0,0,0],[0,0,0],[0,0,0],[40,40,40],[107,107,107],[47,47,47],[0,0,0],[0,0,0],[0,0,0],[0,0,0],[0,0,0],[0,0,0],[0,0,0],[0,0,0],[0,0,0],[0,0,0],[0,0,0],[0,0,0],[0,0,0],[0,0,0],[0,0,0],[0,0,0]],[[0,0,0],[0,0,0],[0,0,0],[0,0,0],[0,0,0],[0,0,0],[0,0,0],[0,0,0],[0,0,0],[0,0,0],[0,0,0],[0,0,0],[0,0,0],[0,0,0],[0,0,0],[0,0,0],[0,0,0],[0,0,0],[0,0,0],[0,0,0],[0,0,0],[0,0,0],[0,0,0],[0,0,0],[0,0,0],[0,0,0],[0,0,0],[0,0,0]],[[0,0,0],[0,0,0],[0,0,0],[0,0,0],[0,0,0],[0,0,0],[0,0,0],[0,0,0],[0,0,0],[0,0,0],[0,0,0],[0,0,0],[0,0,0],[0,0,0],[0,0,0],[0,0,0],[0,0,0],[0,0,0],[0,0,0],[0,0,0],[0,0,0],[0,0,0],[0,0,0],[0,0,0],[0,0,0],[0,0,0],[0,0,0],[0,0,0]],[[0,0,0],[0,0,0],[0,0,0],[0,0,0],[0,0,0],[0,0,0],[0,0,0],[0,0,0],[0,0,0],[0,0,0],[0,0,0],[0,0,0],[0,0,0],[0,0,0],[0,0,0],[0,0,0],[0,0,0],[0,0,0],[0,0,0],[0,0,0],[0,0,0],[0,0,0],[0,0,0],[0,0,0],[0,0,0],[0,0,0],[0,0,0],[0,0,0]],[[0,0,0],[0,0,0],[0,0,0],[0,0,0],[0,0,0],[0,0,0],[0,0,0],[0,0,0],[0,0,0],[0,0,0],[0,0,0],[0,0,0],[0,0,0],[0,0,0],[0,0,0],[0,0,0],[0,0,0],[0,0,0],[0,0,0],[0,0,0],[0,0,0],[0,0,0],[0,0,0],[0,0,0],[0,0,0],[0,0,0],[0,0,0],[0,0,0]]],\"type\":\"image\",\"xaxis\":\"x4\",\"yaxis\":\"y4\"},{\"z\":[[[0,0,0],[0,0,0],[0,0,0],[0,0,0],[0,0,0],[0,0,0],[0,0,0],[0,0,0],[0,0,0],[0,0,0],[0,0,0],[0,0,0],[0,0,0],[0,0,0],[0,0,0],[0,0,0],[0,0,0],[0,0,0],[0,0,0],[0,0,0],[0,0,0],[0,0,0],[0,0,0],[0,0,0],[0,0,0],[0,0,0],[0,0,0],[0,0,0]],[[0,0,0],[0,0,0],[0,0,0],[0,0,0],[0,0,0],[0,0,0],[0,0,0],[0,0,0],[0,0,0],[0,0,0],[0,0,0],[0,0,0],[0,0,0],[0,0,0],[0,0,0],[0,0,0],[0,0,0],[0,0,0],[0,0,0],[0,0,0],[0,0,0],[0,0,0],[0,0,0],[0,0,0],[0,0,0],[0,0,0],[0,0,0],[0,0,0]],[[0,0,0],[0,0,0],[0,0,0],[0,0,0],[0,0,0],[0,0,0],[0,0,0],[0,0,0],[0,0,0],[0,0,0],[0,0,0],[0,0,0],[0,0,0],[0,0,0],[0,0,0],[0,0,0],[0,0,0],[0,0,0],[0,0,0],[0,0,0],[0,0,0],[0,0,0],[0,0,0],[0,0,0],[0,0,0],[0,0,0],[0,0,0],[0,0,0]],[[0,0,0],[0,0,0],[0,0,0],[0,0,0],[0,0,0],[0,0,0],[0,0,0],[0,0,0],[0,0,0],[0,0,0],[0,0,0],[0,0,0],[0,0,0],[0,0,0],[0,0,0],[0,0,0],[0,0,0],[0,0,0],[0,0,0],[0,0,0],[0,0,0],[0,0,0],[0,0,0],[0,0,0],[0,0,0],[0,0,0],[0,0,0],[0,0,0]],[[0,0,0],[0,0,0],[0,0,0],[0,0,0],[0,0,0],[0,0,0],[0,0,0],[0,0,0],[0,0,0],[0,0,0],[0,0,0],[0,0,0],[0,0,0],[0,0,0],[0,0,0],[0,0,0],[0,0,0],[0,0,0],[0,0,0],[0,0,0],[0,0,0],[0,0,0],[0,0,0],[0,0,0],[0,0,0],[0,0,0],[0,0,0],[0,0,0]],[[0,0,0],[0,0,0],[0,0,0],[0,0,0],[0,0,0],[0,0,0],[0,0,0],[0,0,0],[0,0,0],[0,0,0],[61,61,61],[63,63,63],[63,63,63],[63,63,63],[40,40,40],[63,63,63],[28,28,28],[0,0,0],[0,0,0],[0,0,0],[0,0,0],[0,0,0],[0,0,0],[0,0,0],[0,0,0],[0,0,0],[0,0,0],[0,0,0]],[[0,0,0],[0,0,0],[0,0,0],[0,0,0],[0,0,0],[0,0,0],[0,0,0],[28,28,28],[121,121,121],[221,221,221],[253,253,253],[253,253,253],[253,253,253],[253,253,253],[241,241,241],[253,253,253],[219,219,219],[122,122,122],[20,20,20],[0,0,0],[0,0,0],[0,0,0],[0,0,0],[0,0,0],[0,0,0],[0,0,0],[0,0,0],[0,0,0]],[[0,0,0],[0,0,0],[0,0,0],[0,0,0],[0,0,0],[0,0,0],[103,103,103],[253,253,253],[253,253,253],[253,253,253],[253,253,253],[253,253,253],[253,253,253],[253,253,253],[253,253,253],[253,253,253],[253,253,253],[253,253,253],[235,235,235],[124,124,124],[0,0,0],[0,0,0],[0,0,0],[0,0,0],[0,0,0],[0,0,0],[0,0,0],[0,0,0]],[[0,0,0],[0,0,0],[0,0,0],[0,0,0],[0,0,0],[110,110,110],[253,253,253],[253,253,253],[253,253,253],[213,213,213],[140,140,140],[108,108,108],[197,197,197],[251,251,251],[207,207,207],[213,213,213],[253,253,253],[253,253,253],[253,253,253],[253,253,253],[79,79,79],[0,0,0],[0,0,0],[0,0,0],[0,0,0],[0,0,0],[0,0,0],[0,0,0]],[[0,0,0],[0,0,0],[0,0,0],[0,0,0],[54,54,54],[249,249,249],[253,253,253],[249,249,249],[139,139,139],[10,10,10],[0,0,0],[0,0,0],[0,0,0],[36,36,36],[6,6,6],[11,11,11],[38,38,38],[115,115,115],[213,213,213],[253,253,253],[237,237,237],[43,43,43],[0,0,0],[0,0,0],[0,0,0],[0,0,0],[0,0,0],[0,0,0]],[[0,0,0],[0,0,0],[0,0,0],[0,0,0],[132,132,132],[253,253,253],[253,253,253],[95,95,95],[0,0,0],[0,0,0],[0,0,0],[0,0,0],[0,0,0],[0,0,0],[0,0,0],[0,0,0],[0,0,0],[0,0,0],[75,75,75],[247,247,247],[253,253,253],[160,160,160],[0,0,0],[0,0,0],[0,0,0],[0,0,0],[0,0,0],[0,0,0]],[[0,0,0],[0,0,0],[0,0,0],[0,0,0],[179,179,179],[253,253,253],[235,235,235],[3,3,3],[0,0,0],[0,0,0],[0,0,0],[0,0,0],[0,0,0],[0,0,0],[0,0,0],[0,0,0],[0,0,0],[0,0,0],[0,0,0],[158,158,158],[253,253,253],[251,251,251],[64,64,64],[0,0,0],[0,0,0],[0,0,0],[0,0,0],[0,0,0]],[[0,0,0],[0,0,0],[0,0,0],[0,0,0],[211,211,211],[253,253,253],[203,203,203],[58,58,58],[2,2,2],[0,0,0],[0,0,0],[0,0,0],[0,0,0],[0,0,0],[0,0,0],[0,0,0],[0,0,0],[8,8,8],[19,19,19],[233,233,233],[253,253,253],[253,253,253],[65,65,65],[0,0,0],[0,0,0],[0,0,0],[0,0,0],[0,0,0]],[[0,0,0],[0,0,0],[0,0,0],[0,0,0],[92,92,92],[253,253,253],[253,253,253],[253,253,253],[189,189,189],[110,110,110],[83,83,83],[83,83,83],[83,83,83],[83,83,83],[83,83,83],[83,83,83],[171,171,171],[209,209,209],[253,253,253],[253,253,253],[253,253,253],[207,207,207],[8,8,8],[0,0,0],[0,0,0],[0,0,0],[0,0,0],[0,0,0]],[[0,0,0],[0,0,0],[0,0,0],[0,0,0],[3,3,3],[150,150,150],[253,253,253],[253,253,253],[253,253,253],[253,253,253],[253,253,253],[253,253,253],[253,253,253],[253,253,253],[253,253,253],[253,253,253],[253,253,253],[253,253,253],[253,253,253],[253,253,253],[195,195,195],[9,9,9],[0,0,0],[0,0,0],[0,0,0],[0,0,0],[0,0,0],[0,0,0]],[[0,0,0],[0,0,0],[0,0,0],[0,0,0],[0,0,0],[5,5,5],[83,83,83],[165,165,165],[239,239,239],[245,245,245],[253,253,253],[253,253,253],[253,253,253],[253,253,253],[253,253,253],[239,239,239],[253,253,253],[253,253,253],[253,253,253],[253,253,253],[197,197,197],[46,46,46],[0,0,0],[0,0,0],[0,0,0],[0,0,0],[0,0,0],[0,0,0]],[[0,0,0],[0,0,0],[0,0,0],[0,0,0],[0,0,0],[0,0,0],[0,0,0],[0,0,0],[0,0,0],[27,27,27],[211,211,211],[253,253,253],[253,253,253],[239,239,239],[95,95,95],[0,0,0],[76,76,76],[122,122,122],[199,199,199],[253,253,253],[253,253,253],[233,233,233],[78,78,78],[0,0,0],[0,0,0],[0,0,0],[0,0,0],[0,0,0]],[[0,0,0],[0,0,0],[0,0,0],[0,0,0],[0,0,0],[0,0,0],[0,0,0],[0,0,0],[47,47,47],[209,209,209],[253,253,253],[217,217,217],[113,113,113],[14,14,14],[0,0,0],[0,0,0],[0,0,0],[0,0,0],[5,5,5],[128,128,128],[253,253,253],[253,253,253],[239,239,239],[34,34,34],[0,0,0],[0,0,0],[0,0,0],[0,0,0]],[[0,0,0],[0,0,0],[0,0,0],[0,0,0],[0,0,0],[0,0,0],[0,0,0],[50,50,50],[247,247,247],[253,253,253],[229,229,229],[24,24,24],[0,0,0],[0,0,0],[0,0,0],[0,0,0],[0,0,0],[0,0,0],[0,0,0],[7,7,7],[165,165,165],[253,253,253],[253,253,253],[142,142,142],[0,0,0],[0,0,0],[0,0,0],[0,0,0]],[[0,0,0],[0,0,0],[0,0,0],[0,0,0],[0,0,0],[0,0,0],[26,26,26],[219,219,219],[253,253,253],[253,253,253],[78,78,78],[0,0,0],[0,0,0],[0,0,0],[0,0,0],[0,0,0],[0,0,0],[0,0,0],[0,0,0],[0,0,0],[1,1,1],[194,194,194],[253,253,253],[253,253,253],[0,0,0],[0,0,0],[0,0,0],[0,0,0]],[[0,0,0],[0,0,0],[0,0,0],[0,0,0],[0,0,0],[4,4,4],[153,153,153],[253,253,253],[251,251,251],[114,114,114],[0,0,0],[0,0,0],[0,0,0],[0,0,0],[0,0,0],[0,0,0],[0,0,0],[0,0,0],[0,0,0],[0,0,0],[0,0,0],[164,164,164],[255,255,255],[253,253,253],[0,0,0],[0,0,0],[0,0,0],[0,0,0]],[[0,0,0],[0,0,0],[0,0,0],[0,0,0],[0,0,0],[28,28,28],[253,253,253],[253,253,253],[192,192,192],[0,0,0],[0,0,0],[0,0,0],[0,0,0],[0,0,0],[0,0,0],[0,0,0],[0,0,0],[0,0,0],[0,0,0],[2,2,2],[119,119,119],[233,233,233],[253,253,253],[253,253,253],[0,0,0],[0,0,0],[0,0,0],[0,0,0]],[[0,0,0],[0,0,0],[0,0,0],[0,0,0],[0,0,0],[28,28,28],[253,253,253],[253,253,253],[201,201,201],[18,18,18],[0,0,0],[0,0,0],[0,0,0],[0,0,0],[0,0,0],[0,0,0],[0,0,0],[0,0,0],[45,45,45],[203,203,203],[253,253,253],[253,253,253],[245,245,245],[80,80,80],[0,0,0],[0,0,0],[0,0,0],[0,0,0]],[[0,0,0],[0,0,0],[0,0,0],[0,0,0],[0,0,0],[3,3,3],[146,146,146],[253,253,253],[253,253,253],[233,233,233],[225,225,225],[183,183,183],[130,130,130],[76,76,76],[21,21,21],[34,34,34],[51,51,51],[134,134,134],[245,245,245],[253,253,253],[253,253,253],[233,233,233],[83,83,83],[0,0,0],[0,0,0],[0,0,0],[0,0,0],[0,0,0]],[[0,0,0],[0,0,0],[0,0,0],[0,0,0],[0,0,0],[0,0,0],[22,22,22],[62,62,62],[62,62,62],[62,62,62],[62,62,62],[62,62,62],[62,62,62],[62,62,62],[39,39,39],[62,62,62],[62,62,62],[62,62,62],[62,62,62],[62,62,62],[62,62,62],[22,22,22],[0,0,0],[0,0,0],[0,0,0],[0,0,0],[0,0,0],[0,0,0]],[[0,0,0],[0,0,0],[0,0,0],[0,0,0],[0,0,0],[0,0,0],[0,0,0],[0,0,0],[0,0,0],[0,0,0],[0,0,0],[0,0,0],[0,0,0],[0,0,0],[0,0,0],[0,0,0],[0,0,0],[0,0,0],[0,0,0],[0,0,0],[0,0,0],[0,0,0],[0,0,0],[0,0,0],[0,0,0],[0,0,0],[0,0,0],[0,0,0]],[[0,0,0],[0,0,0],[0,0,0],[0,0,0],[0,0,0],[0,0,0],[0,0,0],[0,0,0],[0,0,0],[0,0,0],[0,0,0],[0,0,0],[0,0,0],[0,0,0],[0,0,0],[0,0,0],[0,0,0],[0,0,0],[0,0,0],[0,0,0],[0,0,0],[0,0,0],[0,0,0],[0,0,0],[0,0,0],[0,0,0],[0,0,0],[0,0,0]],[[0,0,0],[0,0,0],[0,0,0],[0,0,0],[0,0,0],[0,0,0],[0,0,0],[0,0,0],[0,0,0],[0,0,0],[0,0,0],[0,0,0],[0,0,0],[0,0,0],[0,0,0],[0,0,0],[0,0,0],[0,0,0],[0,0,0],[0,0,0],[0,0,0],[0,0,0],[0,0,0],[0,0,0],[0,0,0],[0,0,0],[0,0,0],[0,0,0]]],\"type\":\"image\",\"xaxis\":\"x5\",\"yaxis\":\"y5\"},{\"z\":[[[0,0,0],[0,0,0],[0,0,0],[0,0,0],[0,0,0],[0,0,0],[0,0,0],[0,0,0],[0,0,0],[0,0,0],[0,0,0],[0,0,0],[0,0,0],[0,0,0],[0,0,0],[0,0,0],[0,0,0],[0,0,0],[0,0,0],[0,0,0],[0,0,0],[0,0,0],[0,0,0],[0,0,0],[0,0,0],[0,0,0],[0,0,0],[0,0,0]],[[0,0,0],[0,0,0],[0,0,0],[0,0,0],[0,0,0],[0,0,0],[0,0,0],[0,0,0],[0,0,0],[0,0,0],[0,0,0],[0,0,0],[0,0,0],[0,0,0],[0,0,0],[0,0,0],[0,0,0],[0,0,0],[0,0,0],[0,0,0],[0,0,0],[0,0,0],[0,0,0],[0,0,0],[0,0,0],[0,0,0],[0,0,0],[0,0,0]],[[0,0,0],[0,0,0],[0,0,0],[0,0,0],[0,0,0],[0,0,0],[0,0,0],[0,0,0],[0,0,0],[0,0,0],[0,0,0],[0,0,0],[0,0,0],[0,0,0],[0,0,0],[0,0,0],[0,0,0],[0,0,0],[0,0,0],[0,0,0],[0,0,0],[0,0,0],[0,0,0],[0,0,0],[0,0,0],[0,0,0],[0,0,0],[0,0,0]],[[0,0,0],[0,0,0],[0,0,0],[0,0,0],[0,0,0],[0,0,0],[0,0,0],[0,0,0],[0,0,0],[0,0,0],[0,0,0],[0,0,0],[0,0,0],[0,0,0],[0,0,0],[0,0,0],[0,0,0],[0,0,0],[0,0,0],[0,0,0],[0,0,0],[0,0,0],[0,0,0],[0,0,0],[0,0,0],[0,0,0],[0,0,0],[0,0,0]],[[0,0,0],[0,0,0],[0,0,0],[0,0,0],[0,0,0],[0,0,0],[0,0,0],[0,0,0],[0,0,0],[0,0,0],[0,0,0],[0,0,0],[0,0,0],[0,0,0],[0,0,0],[0,0,0],[0,0,0],[0,0,0],[0,0,0],[0,0,0],[0,0,0],[0,0,0],[0,0,0],[0,0,0],[0,0,0],[0,0,0],[0,0,0],[0,0,0]],[[0,0,0],[0,0,0],[0,0,0],[0,0,0],[0,0,0],[0,0,0],[0,0,0],[0,0,0],[0,0,0],[0,0,0],[0,0,0],[57,57,57],[153,153,153],[253,253,253],[255,255,255],[253,253,253],[255,255,255],[253,253,253],[180,180,180],[100,100,100],[15,15,15],[0,0,0],[0,0,0],[0,0,0],[0,0,0],[0,0,0],[0,0,0],[0,0,0]],[[0,0,0],[0,0,0],[0,0,0],[0,0,0],[0,0,0],[0,0,0],[0,0,0],[0,0,0],[0,0,0],[0,0,0],[5,5,5],[198,198,198],[253,253,253],[253,253,253],[253,253,253],[253,253,253],[253,253,253],[253,253,253],[253,253,253],[253,253,253],[215,215,215],[66,66,66],[0,0,0],[0,0,0],[0,0,0],[0,0,0],[0,0,0],[0,0,0]],[[0,0,0],[0,0,0],[0,0,0],[0,0,0],[0,0,0],[0,0,0],[0,0,0],[0,0,0],[0,0,0],[0,0,0],[15,15,15],[253,253,253],[253,253,253],[253,253,253],[253,253,253],[253,253,253],[253,253,253],[253,253,253],[253,253,253],[253,253,253],[253,253,253],[139,139,139],[0,0,0],[0,0,0],[0,0,0],[0,0,0],[0,0,0],[0,0,0]],[[0,0,0],[0,0,0],[0,0,0],[0,0,0],[0,0,0],[0,0,0],[0,0,0],[0,0,0],[0,0,0],[0,0,0],[15,15,15],[253,253,253],[253,253,253],[253,253,253],[253,253,253],[253,253,253],[253,253,253],[253,253,253],[253,253,253],[253,253,253],[253,253,253],[106,106,106],[0,0,0],[0,0,0],[0,0,0],[0,0,0],[0,0,0],[0,0,0]],[[0,0,0],[0,0,0],[0,0,0],[0,0,0],[0,0,0],[0,0,0],[0,0,0],[0,0,0],[0,0,0],[0,0,0],[14,14,14],[245,245,245],[253,253,253],[253,253,253],[243,243,243],[71,71,71],[203,203,203],[253,253,253],[253,253,253],[253,253,253],[253,253,253],[36,36,36],[0,0,0],[0,0,0],[0,0,0],[0,0,0],[0,0,0],[0,0,0]],[[0,0,0],[0,0,0],[0,0,0],[0,0,0],[0,0,0],[0,0,0],[0,0,0],[0,0,0],[0,0,0],[0,0,0],[0,0,0],[136,136,136],[253,253,253],[253,253,253],[223,223,223],[189,189,189],[253,253,253],[253,253,253],[253,253,253],[253,253,253],[253,253,253],[36,36,36],[0,0,0],[0,0,0],[0,0,0],[0,0,0],[0,0,0],[0,0,0]],[[0,0,0],[0,0,0],[0,0,0],[0,0,0],[0,0,0],[0,0,0],[0,0,0],[0,0,0],[0,0,0],[0,0,0],[0,0,0],[34,34,34],[227,227,227],[253,253,253],[253,253,253],[253,253,253],[253,253,253],[253,253,253],[253,253,253],[243,243,243],[107,107,107],[4,4,4],[0,0,0],[0,0,0],[0,0,0],[0,0,0],[0,0,0],[0,0,0]],[[0,0,0],[0,0,0],[0,0,0],[0,0,0],[0,0,0],[0,0,0],[0,0,0],[0,0,0],[0,0,0],[0,0,0],[0,0,0],[0,0,0],[134,134,134],[253,253,253],[253,253,253],[253,253,253],[253,253,253],[253,253,253],[233,233,233],[133,133,133],[0,0,0],[0,0,0],[0,0,0],[0,0,0],[0,0,0],[0,0,0],[0,0,0],[0,0,0]],[[0,0,0],[0,0,0],[0,0,0],[0,0,0],[0,0,0],[0,0,0],[0,0,0],[0,0,0],[0,0,0],[0,0,0],[10,10,10],[177,177,177],[247,247,247],[253,253,253],[253,253,253],[253,253,253],[253,253,253],[251,251,251],[129,129,129],[0,0,0],[0,0,0],[0,0,0],[0,0,0],[0,0,0],[0,0,0],[0,0,0],[0,0,0],[0,0,0]],[[0,0,0],[0,0,0],[0,0,0],[0,0,0],[0,0,0],[0,0,0],[0,0,0],[0,0,0],[0,0,0],[67,67,67],[241,241,241],[253,253,253],[253,253,253],[253,253,253],[253,253,253],[253,253,253],[253,253,253],[119,119,119],[0,0,0],[0,0,0],[0,0,0],[0,0,0],[0,0,0],[0,0,0],[0,0,0],[0,0,0],[0,0,0],[0,0,0]],[[0,0,0],[0,0,0],[0,0,0],[0,0,0],[0,0,0],[0,0,0],[0,0,0],[0,0,0],[62,62,62],[237,237,237],[253,253,253],[253,253,253],[253,253,253],[253,253,253],[253,253,253],[253,253,253],[253,253,253],[159,159,159],[0,0,0],[0,0,0],[0,0,0],[0,0,0],[0,0,0],[0,0,0],[0,0,0],[0,0,0],[0,0,0],[0,0,0]],[[0,0,0],[0,0,0],[0,0,0],[0,0,0],[0,0,0],[0,0,0],[0,0,0],[13,13,13],[235,235,235],[253,253,253],[253,253,253],[253,253,253],[253,253,253],[245,245,245],[129,129,129],[233,233,233],[253,253,253],[253,253,253],[88,88,88],[0,0,0],[0,0,0],[0,0,0],[0,0,0],[0,0,0],[0,0,0],[0,0,0],[0,0,0],[0,0,0]],[[0,0,0],[0,0,0],[0,0,0],[0,0,0],[0,0,0],[0,0,0],[0,0,0],[120,120,120],[253,253,253],[253,253,253],[253,253,253],[253,253,253],[213,213,213],[49,49,49],[0,0,0],[110,110,110],[253,253,253],[253,253,253],[203,203,203],[8,8,8],[0,0,0],[0,0,0],[0,0,0],[0,0,0],[0,0,0],[0,0,0],[0,0,0],[0,0,0]],[[0,0,0],[0,0,0],[0,0,0],[0,0,0],[0,0,0],[0,0,0],[33,33,33],[221,221,221],[253,253,253],[253,253,253],[251,251,251],[128,128,128],[8,8,8],[0,0,0],[0,0,0],[2,2,2],[196,196,196],[253,253,253],[253,253,253],[38,38,38],[0,0,0],[0,0,0],[0,0,0],[0,0,0],[0,0,0],[0,0,0],[0,0,0],[0,0,0]],[[0,0,0],[0,0,0],[0,0,0],[0,0,0],[0,0,0],[0,0,0],[140,140,140],[253,253,253],[253,253,253],[253,253,253],[174,174,174],[0,0,0],[0,0,0],[0,0,0],[0,0,0],[0,0,0],[192,192,192],[253,253,253],[253,253,253],[129,129,129],[0,0,0],[0,0,0],[0,0,0],[0,0,0],[0,0,0],[0,0,0],[0,0,0],[0,0,0]],[[0,0,0],[0,0,0],[0,0,0],[0,0,0],[0,0,0],[0,0,0],[140,140,140],[253,253,253],[253,253,253],[253,253,253],[48,48,48],[0,0,0],[0,0,0],[4,4,4],[20,20,20],[140,140,140],[247,247,247],[253,253,253],[253,253,253],[129,129,129],[0,0,0],[0,0,0],[0,0,0],[0,0,0],[0,0,0],[0,0,0],[0,0,0],[0,0,0]],[[0,0,0],[0,0,0],[0,0,0],[0,0,0],[0,0,0],[0,0,0],[140,140,140],[253,253,253],[253,253,253],[253,253,253],[247,247,247],[171,171,171],[171,171,171],[188,188,188],[253,253,253],[253,253,253],[253,253,253],[253,253,253],[253,253,253],[59,59,59],[0,0,0],[0,0,0],[0,0,0],[0,0,0],[0,0,0],[0,0,0],[0,0,0],[0,0,0]],[[0,0,0],[0,0,0],[0,0,0],[0,0,0],[0,0,0],[0,0,0],[136,136,136],[253,253,253],[253,253,253],[253,253,253],[253,253,253],[253,253,253],[253,253,253],[253,253,253],[253,253,253],[253,253,253],[253,253,253],[247,247,247],[136,136,136],[3,3,3],[0,0,0],[0,0,0],[0,0,0],[0,0,0],[0,0,0],[0,0,0],[0,0,0],[0,0,0]],[[0,0,0],[0,0,0],[0,0,0],[0,0,0],[0,0,0],[0,0,0],[13,13,13],[127,127,127],[225,225,225],[253,253,253],[253,253,253],[253,253,253],[253,253,253],[253,253,253],[253,253,253],[253,253,253],[233,233,233],[92,92,92],[0,0,0],[0,0,0],[0,0,0],[0,0,0],[0,0,0],[0,0,0],[0,0,0],[0,0,0],[0,0,0],[0,0,0]],[[0,0,0],[0,0,0],[0,0,0],[0,0,0],[0,0,0],[0,0,0],[0,0,0],[0,0,0],[23,23,23],[119,119,119],[241,241,241],[253,253,253],[253,253,253],[231,231,231],[149,149,149],[91,91,91],[29,29,29],[0,0,0],[0,0,0],[0,0,0],[0,0,0],[0,0,0],[0,0,0],[0,0,0],[0,0,0],[0,0,0],[0,0,0],[0,0,0]],[[0,0,0],[0,0,0],[0,0,0],[0,0,0],[0,0,0],[0,0,0],[0,0,0],[0,0,0],[0,0,0],[0,0,0],[0,0,0],[0,0,0],[0,0,0],[0,0,0],[0,0,0],[0,0,0],[0,0,0],[0,0,0],[0,0,0],[0,0,0],[0,0,0],[0,0,0],[0,0,0],[0,0,0],[0,0,0],[0,0,0],[0,0,0],[0,0,0]],[[0,0,0],[0,0,0],[0,0,0],[0,0,0],[0,0,0],[0,0,0],[0,0,0],[0,0,0],[0,0,0],[0,0,0],[0,0,0],[0,0,0],[0,0,0],[0,0,0],[0,0,0],[0,0,0],[0,0,0],[0,0,0],[0,0,0],[0,0,0],[0,0,0],[0,0,0],[0,0,0],[0,0,0],[0,0,0],[0,0,0],[0,0,0],[0,0,0]],[[0,0,0],[0,0,0],[0,0,0],[0,0,0],[0,0,0],[0,0,0],[0,0,0],[0,0,0],[0,0,0],[0,0,0],[0,0,0],[0,0,0],[0,0,0],[0,0,0],[0,0,0],[0,0,0],[0,0,0],[0,0,0],[0,0,0],[0,0,0],[0,0,0],[0,0,0],[0,0,0],[0,0,0],[0,0,0],[0,0,0],[0,0,0],[0,0,0]]],\"type\":\"image\",\"xaxis\":\"x6\",\"yaxis\":\"y6\"},{\"z\":[[[0,0,0],[0,0,0],[0,0,0],[0,0,0],[0,0,0],[0,0,0],[0,0,0],[0,0,0],[0,0,0],[0,0,0],[0,0,0],[0,0,0],[0,0,0],[0,0,0],[0,0,0],[0,0,0],[0,0,0],[0,0,0],[0,0,0],[0,0,0],[0,0,0],[0,0,0],[0,0,0],[0,0,0],[0,0,0],[0,0,0],[0,0,0],[0,0,0]],[[0,0,0],[0,0,0],[0,0,0],[0,0,0],[0,0,0],[0,0,0],[0,0,0],[0,0,0],[0,0,0],[0,0,0],[0,0,0],[0,0,0],[0,0,0],[0,0,0],[0,0,0],[0,0,0],[0,0,0],[0,0,0],[0,0,0],[0,0,0],[0,0,0],[0,0,0],[0,0,0],[0,0,0],[0,0,0],[0,0,0],[0,0,0],[0,0,0]],[[0,0,0],[0,0,0],[0,0,0],[0,0,0],[0,0,0],[0,0,0],[0,0,0],[0,0,0],[0,0,0],[0,0,0],[0,0,0],[0,0,0],[0,0,0],[0,0,0],[0,0,0],[0,0,0],[0,0,0],[0,0,0],[0,0,0],[0,0,0],[0,0,0],[0,0,0],[0,0,0],[0,0,0],[0,0,0],[0,0,0],[0,0,0],[0,0,0]],[[0,0,0],[0,0,0],[0,0,0],[0,0,0],[0,0,0],[0,0,0],[0,0,0],[0,0,0],[0,0,0],[0,0,0],[0,0,0],[0,0,0],[0,0,0],[0,0,0],[0,0,0],[0,0,0],[0,0,0],[0,0,0],[0,0,0],[0,0,0],[0,0,0],[0,0,0],[0,0,0],[0,0,0],[0,0,0],[0,0,0],[0,0,0],[0,0,0]],[[0,0,0],[0,0,0],[0,0,0],[0,0,0],[0,0,0],[0,0,0],[0,0,0],[0,0,0],[0,0,0],[0,0,0],[0,0,0],[0,0,0],[0,0,0],[32,32,32],[235,235,235],[128,128,128],[0,0,0],[0,0,0],[0,0,0],[0,0,0],[0,0,0],[0,0,0],[0,0,0],[0,0,0],[0,0,0],[0,0,0],[0,0,0],[0,0,0]],[[0,0,0],[0,0,0],[0,0,0],[0,0,0],[0,0,0],[0,0,0],[0,0,0],[0,0,0],[0,0,0],[0,0,0],[0,0,0],[0,0,0],[0,0,0],[53,53,53],[253,253,253],[227,227,227],[22,22,22],[0,0,0],[0,0,0],[0,0,0],[0,0,0],[0,0,0],[0,0,0],[0,0,0],[0,0,0],[0,0,0],[0,0,0],[0,0,0]],[[0,0,0],[0,0,0],[0,0,0],[0,0,0],[0,0,0],[0,0,0],[0,0,0],[0,0,0],[0,0,0],[0,0,0],[0,0,0],[0,0,0],[0,0,0],[23,23,23],[225,225,225],[231,231,231],[27,27,27],[0,0,0],[0,0,0],[0,0,0],[0,0,0],[0,0,0],[0,0,0],[0,0,0],[0,0,0],[0,0,0],[0,0,0],[0,0,0]],[[0,0,0],[0,0,0],[0,0,0],[0,0,0],[0,0,0],[0,0,0],[0,0,0],[0,0,0],[0,0,0],[0,0,0],[0,0,0],[0,0,0],[0,0,0],[0,0,0],[203,203,203],[213,213,213],[0,0,0],[0,0,0],[0,0,0],[0,0,0],[0,0,0],[0,0,0],[0,0,0],[0,0,0],[0,0,0],[0,0,0],[0,0,0],[0,0,0]],[[0,0,0],[0,0,0],[0,0,0],[0,0,0],[0,0,0],[0,0,0],[0,0,0],[0,0,0],[0,0,0],[0,0,0],[0,0,0],[0,0,0],[0,0,0],[0,0,0],[203,203,203],[213,213,213],[0,0,0],[0,0,0],[0,0,0],[0,0,0],[0,0,0],[0,0,0],[0,0,0],[0,0,0],[0,0,0],[0,0,0],[0,0,0],[0,0,0]],[[0,0,0],[0,0,0],[0,0,0],[0,0,0],[0,0,0],[0,0,0],[0,0,0],[0,0,0],[0,0,0],[0,0,0],[0,0,0],[0,0,0],[0,0,0],[37,37,37],[239,239,239],[183,183,183],[0,0,0],[0,0,0],[0,0,0],[0,0,0],[0,0,0],[0,0,0],[0,0,0],[0,0,0],[0,0,0],[0,0,0],[0,0,0],[0,0,0]],[[0,0,0],[0,0,0],[0,0,0],[0,0,0],[0,0,0],[0,0,0],[0,0,0],[0,0,0],[0,0,0],[0,0,0],[0,0,0],[0,0,0],[0,0,0],[53,53,53],[253,253,253],[109,109,109],[0,0,0],[0,0,0],[0,0,0],[0,0,0],[0,0,0],[0,0,0],[0,0,0],[0,0,0],[0,0,0],[0,0,0],[0,0,0],[0,0,0]],[[0,0,0],[0,0,0],[0,0,0],[0,0,0],[0,0,0],[0,0,0],[0,0,0],[0,0,0],[0,0,0],[0,0,0],[0,0,0],[0,0,0],[0,0,0],[78,78,78],[253,253,253],[109,109,109],[0,0,0],[0,0,0],[0,0,0],[0,0,0],[0,0,0],[0,0,0],[0,0,0],[0,0,0],[0,0,0],[0,0,0],[0,0,0],[0,0,0]],[[0,0,0],[0,0,0],[0,0,0],[0,0,0],[0,0,0],[0,0,0],[0,0,0],[0,0,0],[0,0,0],[0,0,0],[0,0,0],[0,0,0],[0,0,0],[156,156,156],[253,253,253],[109,109,109],[0,0,0],[0,0,0],[0,0,0],[0,0,0],[0,0,0],[0,0,0],[0,0,0],[0,0,0],[0,0,0],[0,0,0],[0,0,0],[0,0,0]],[[0,0,0],[0,0,0],[0,0,0],[0,0,0],[0,0,0],[0,0,0],[0,0,0],[0,0,0],[0,0,0],[0,0,0],[0,0,0],[0,0,0],[0,0,0],[156,156,156],[253,253,253],[109,109,109],[0,0,0],[0,0,0],[0,0,0],[0,0,0],[0,0,0],[0,0,0],[0,0,0],[0,0,0],[0,0,0],[0,0,0],[0,0,0],[0,0,0]],[[0,0,0],[0,0,0],[0,0,0],[0,0,0],[0,0,0],[0,0,0],[0,0,0],[0,0,0],[0,0,0],[0,0,0],[0,0,0],[0,0,0],[0,0,0],[156,156,156],[253,253,253],[109,109,109],[0,0,0],[0,0,0],[0,0,0],[0,0,0],[0,0,0],[0,0,0],[0,0,0],[0,0,0],[0,0,0],[0,0,0],[0,0,0],[0,0,0]],[[0,0,0],[0,0,0],[0,0,0],[0,0,0],[0,0,0],[0,0,0],[0,0,0],[0,0,0],[0,0,0],[0,0,0],[0,0,0],[0,0,0],[0,0,0],[156,156,156],[253,253,253],[109,109,109],[0,0,0],[0,0,0],[0,0,0],[0,0,0],[0,0,0],[0,0,0],[0,0,0],[0,0,0],[0,0,0],[0,0,0],[0,0,0],[0,0,0]],[[0,0,0],[0,0,0],[0,0,0],[0,0,0],[0,0,0],[0,0,0],[0,0,0],[0,0,0],[0,0,0],[0,0,0],[0,0,0],[0,0,0],[0,0,0],[156,156,156],[253,253,253],[109,109,109],[0,0,0],[0,0,0],[0,0,0],[0,0,0],[0,0,0],[0,0,0],[0,0,0],[0,0,0],[0,0,0],[0,0,0],[0,0,0],[0,0,0]],[[0,0,0],[0,0,0],[0,0,0],[0,0,0],[0,0,0],[0,0,0],[0,0,0],[0,0,0],[0,0,0],[0,0,0],[0,0,0],[0,0,0],[0,0,0],[156,156,156],[253,253,253],[109,109,109],[0,0,0],[0,0,0],[0,0,0],[0,0,0],[0,0,0],[0,0,0],[0,0,0],[0,0,0],[0,0,0],[0,0,0],[0,0,0],[0,0,0]],[[0,0,0],[0,0,0],[0,0,0],[0,0,0],[0,0,0],[0,0,0],[0,0,0],[0,0,0],[0,0,0],[0,0,0],[0,0,0],[0,0,0],[3,3,3],[227,227,227],[253,253,253],[34,34,34],[0,0,0],[0,0,0],[0,0,0],[0,0,0],[0,0,0],[0,0,0],[0,0,0],[0,0,0],[0,0,0],[0,0,0],[0,0,0],[0,0,0]],[[0,0,0],[0,0,0],[0,0,0],[0,0,0],[0,0,0],[0,0,0],[0,0,0],[0,0,0],[0,0,0],[0,0,0],[0,0,0],[0,0,0],[13,13,13],[253,253,253],[245,245,245],[3,3,3],[0,0,0],[0,0,0],[0,0,0],[0,0,0],[0,0,0],[0,0,0],[0,0,0],[0,0,0],[0,0,0],[0,0,0],[0,0,0],[0,0,0]],[[0,0,0],[0,0,0],[0,0,0],[0,0,0],[0,0,0],[0,0,0],[0,0,0],[0,0,0],[0,0,0],[0,0,0],[0,0,0],[0,0,0],[137,137,137],[253,253,253],[155,155,155],[0,0,0],[0,0,0],[0,0,0],[0,0,0],[0,0,0],[0,0,0],[0,0,0],[0,0,0],[0,0,0],[0,0,0],[0,0,0],[0,0,0],[0,0,0]],[[0,0,0],[0,0,0],[0,0,0],[0,0,0],[0,0,0],[0,0,0],[0,0,0],[0,0,0],[0,0,0],[0,0,0],[0,0,0],[28,28,28],[231,231,231],[253,253,253],[66,66,66],[0,0,0],[0,0,0],[0,0,0],[0,0,0],[0,0,0],[0,0,0],[0,0,0],[0,0,0],[0,0,0],[0,0,0],[0,0,0],[0,0,0],[0,0,0]],[[0,0,0],[0,0,0],[0,0,0],[0,0,0],[0,0,0],[0,0,0],[0,0,0],[0,0,0],[0,0,0],[0,0,0],[0,0,0],[63,63,63],[253,253,253],[253,253,253],[52,52,52],[0,0,0],[0,0,0],[0,0,0],[0,0,0],[0,0,0],[0,0,0],[0,0,0],[0,0,0],[0,0,0],[0,0,0],[0,0,0],[0,0,0],[0,0,0]],[[0,0,0],[0,0,0],[0,0,0],[0,0,0],[0,0,0],[0,0,0],[0,0,0],[0,0,0],[0,0,0],[0,0,0],[0,0,0],[63,63,63],[255,255,255],[211,211,211],[9,9,9],[0,0,0],[0,0,0],[0,0,0],[0,0,0],[0,0,0],[0,0,0],[0,0,0],[0,0,0],[0,0,0],[0,0,0],[0,0,0],[0,0,0],[0,0,0]],[[0,0,0],[0,0,0],[0,0,0],[0,0,0],[0,0,0],[0,0,0],[0,0,0],[0,0,0],[0,0,0],[0,0,0],[0,0,0],[0,0,0],[0,0,0],[0,0,0],[0,0,0],[0,0,0],[0,0,0],[0,0,0],[0,0,0],[0,0,0],[0,0,0],[0,0,0],[0,0,0],[0,0,0],[0,0,0],[0,0,0],[0,0,0],[0,0,0]],[[0,0,0],[0,0,0],[0,0,0],[0,0,0],[0,0,0],[0,0,0],[0,0,0],[0,0,0],[0,0,0],[0,0,0],[0,0,0],[0,0,0],[0,0,0],[0,0,0],[0,0,0],[0,0,0],[0,0,0],[0,0,0],[0,0,0],[0,0,0],[0,0,0],[0,0,0],[0,0,0],[0,0,0],[0,0,0],[0,0,0],[0,0,0],[0,0,0]],[[0,0,0],[0,0,0],[0,0,0],[0,0,0],[0,0,0],[0,0,0],[0,0,0],[0,0,0],[0,0,0],[0,0,0],[0,0,0],[0,0,0],[0,0,0],[0,0,0],[0,0,0],[0,0,0],[0,0,0],[0,0,0],[0,0,0],[0,0,0],[0,0,0],[0,0,0],[0,0,0],[0,0,0],[0,0,0],[0,0,0],[0,0,0],[0,0,0]],[[0,0,0],[0,0,0],[0,0,0],[0,0,0],[0,0,0],[0,0,0],[0,0,0],[0,0,0],[0,0,0],[0,0,0],[0,0,0],[0,0,0],[0,0,0],[0,0,0],[0,0,0],[0,0,0],[0,0,0],[0,0,0],[0,0,0],[0,0,0],[0,0,0],[0,0,0],[0,0,0],[0,0,0],[0,0,0],[0,0,0],[0,0,0],[0,0,0]]],\"type\":\"image\",\"xaxis\":\"x7\",\"yaxis\":\"y7\"},{\"z\":[[[0,0,0],[0,0,0],[0,0,0],[0,0,0],[0,0,0],[0,0,0],[0,0,0],[0,0,0],[0,0,0],[0,0,0],[0,0,0],[0,0,0],[0,0,0],[0,0,0],[0,0,0],[0,0,0],[0,0,0],[0,0,0],[0,0,0],[0,0,0],[0,0,0],[0,0,0],[0,0,0],[0,0,0],[0,0,0],[0,0,0],[0,0,0],[0,0,0]],[[0,0,0],[0,0,0],[0,0,0],[0,0,0],[0,0,0],[0,0,0],[0,0,0],[0,0,0],[0,0,0],[0,0,0],[0,0,0],[0,0,0],[0,0,0],[0,0,0],[0,0,0],[0,0,0],[0,0,0],[0,0,0],[0,0,0],[0,0,0],[0,0,0],[0,0,0],[0,0,0],[0,0,0],[0,0,0],[0,0,0],[0,0,0],[0,0,0]],[[0,0,0],[0,0,0],[0,0,0],[0,0,0],[0,0,0],[0,0,0],[0,0,0],[0,0,0],[0,0,0],[0,0,0],[0,0,0],[0,0,0],[0,0,0],[0,0,0],[0,0,0],[0,0,0],[0,0,0],[0,0,0],[0,0,0],[0,0,0],[0,0,0],[0,0,0],[0,0,0],[0,0,0],[0,0,0],[0,0,0],[0,0,0],[0,0,0]],[[0,0,0],[0,0,0],[0,0,0],[0,0,0],[0,0,0],[0,0,0],[0,0,0],[0,0,0],[0,0,0],[0,0,0],[0,0,0],[0,0,0],[0,0,0],[0,0,0],[0,0,0],[0,0,0],[0,0,0],[0,0,0],[0,0,0],[0,0,0],[0,0,0],[0,0,0],[0,0,0],[0,0,0],[0,0,0],[0,0,0],[0,0,0],[0,0,0]],[[0,0,0],[0,0,0],[0,0,0],[0,0,0],[0,0,0],[0,0,0],[0,0,0],[0,0,0],[0,0,0],[0,0,0],[0,0,0],[0,0,0],[0,0,0],[0,0,0],[0,0,0],[0,0,0],[0,0,0],[0,0,0],[0,0,0],[0,0,0],[0,0,0],[0,0,0],[0,0,0],[0,0,0],[0,0,0],[0,0,0],[0,0,0],[0,0,0]],[[0,0,0],[0,0,0],[0,0,0],[0,0,0],[0,0,0],[0,0,0],[0,0,0],[0,0,0],[0,0,0],[0,0,0],[0,0,0],[64,64,64],[191,191,191],[255,255,255],[191,191,191],[128,128,128],[64,64,64],[0,0,0],[0,0,0],[0,0,0],[0,0,0],[0,0,0],[0,0,0],[0,0,0],[0,0,0],[0,0,0],[0,0,0],[0,0,0]],[[0,0,0],[0,0,0],[0,0,0],[0,0,0],[0,0,0],[0,0,0],[0,0,0],[0,0,0],[0,0,0],[0,0,0],[0,0,0],[128,128,128],[255,255,255],[255,255,255],[255,255,255],[255,255,255],[255,255,255],[191,191,191],[0,0,0],[0,0,0],[0,0,0],[0,0,0],[0,0,0],[0,0,0],[0,0,0],[0,0,0],[0,0,0],[0,0,0]],[[0,0,0],[0,0,0],[0,0,0],[0,0,0],[0,0,0],[0,0,0],[0,0,0],[0,0,0],[0,0,0],[0,0,0],[0,0,0],[128,128,128],[255,255,255],[255,255,255],[255,255,255],[255,255,255],[255,255,255],[255,255,255],[255,255,255],[191,191,191],[0,0,0],[0,0,0],[0,0,0],[0,0,0],[0,0,0],[0,0,0],[0,0,0],[0,0,0]],[[0,0,0],[0,0,0],[0,0,0],[0,0,0],[0,0,0],[0,0,0],[0,0,0],[0,0,0],[0,0,0],[0,0,0],[0,0,0],[64,64,64],[191,191,191],[255,255,255],[255,255,255],[255,255,255],[255,255,255],[255,255,255],[255,255,255],[255,255,255],[128,128,128],[0,0,0],[0,0,0],[0,0,0],[0,0,0],[0,0,0],[0,0,0],[0,0,0]],[[0,0,0],[0,0,0],[0,0,0],[0,0,0],[0,0,0],[0,0,0],[0,0,0],[0,0,0],[0,0,0],[0,0,0],[0,0,0],[0,0,0],[0,0,0],[64,64,64],[128,128,128],[128,128,128],[255,255,255],[255,255,255],[255,255,255],[255,255,255],[128,128,128],[0,0,0],[0,0,0],[0,0,0],[0,0,0],[0,0,0],[0,0,0],[0,0,0]],[[0,0,0],[0,0,0],[0,0,0],[0,0,0],[0,0,0],[0,0,0],[0,0,0],[0,0,0],[0,0,0],[0,0,0],[0,0,0],[0,0,0],[0,0,0],[0,0,0],[0,0,0],[0,0,0],[0,0,0],[255,255,255],[255,255,255],[255,255,255],[128,128,128],[0,0,0],[0,0,0],[0,0,0],[0,0,0],[0,0,0],[0,0,0],[0,0,0]],[[0,0,0],[0,0,0],[0,0,0],[0,0,0],[0,0,0],[0,0,0],[0,0,0],[0,0,0],[0,0,0],[0,0,0],[0,0,0],[0,0,0],[0,0,0],[0,0,0],[0,0,0],[64,64,64],[255,255,255],[255,255,255],[255,255,255],[255,255,255],[128,128,128],[0,0,0],[0,0,0],[0,0,0],[0,0,0],[0,0,0],[0,0,0],[0,0,0]],[[0,0,0],[0,0,0],[0,0,0],[0,0,0],[0,0,0],[0,0,0],[0,0,0],[0,0,0],[0,0,0],[0,0,0],[128,128,128],[128,128,128],[128,128,128],[128,128,128],[191,191,191],[255,255,255],[255,255,255],[255,255,255],[255,255,255],[191,191,191],[0,0,0],[0,0,0],[0,0,0],[0,0,0],[0,0,0],[0,0,0],[0,0,0],[0,0,0]],[[0,0,0],[0,0,0],[0,0,0],[0,0,0],[0,0,0],[0,0,0],[0,0,0],[0,0,0],[128,128,128],[255,255,255],[255,255,255],[255,255,255],[255,255,255],[255,255,255],[255,255,255],[255,255,255],[255,255,255],[255,255,255],[255,255,255],[64,64,64],[0,0,0],[0,0,0],[0,0,0],[0,0,0],[0,0,0],[0,0,0],[0,0,0],[0,0,0]],[[0,0,0],[0,0,0],[0,0,0],[0,0,0],[0,0,0],[0,0,0],[0,0,0],[0,0,0],[128,128,128],[255,255,255],[255,255,255],[255,255,255],[255,255,255],[255,255,255],[255,255,255],[255,255,255],[255,255,255],[191,191,191],[128,128,128],[0,0,0],[0,0,0],[0,0,0],[0,0,0],[0,0,0],[0,0,0],[0,0,0],[0,0,0],[0,0,0]],[[0,0,0],[0,0,0],[0,0,0],[0,0,0],[0,0,0],[0,0,0],[0,0,0],[0,0,0],[128,128,128],[255,255,255],[255,255,255],[255,255,255],[255,255,255],[255,255,255],[255,255,255],[255,255,255],[255,255,255],[191,191,191],[0,0,0],[0,0,0],[0,0,0],[0,0,0],[0,0,0],[0,0,0],[0,0,0],[0,0,0],[0,0,0],[0,0,0]],[[0,0,0],[0,0,0],[0,0,0],[0,0,0],[0,0,0],[0,0,0],[0,0,0],[0,0,0],[64,64,64],[191,191,191],[255,255,255],[128,128,128],[128,128,128],[128,128,128],[191,191,191],[255,255,255],[255,255,255],[255,255,255],[64,64,64],[0,0,0],[0,0,0],[0,0,0],[0,0,0],[0,0,0],[0,0,0],[0,0,0],[0,0,0],[0,0,0]],[[0,0,0],[0,0,0],[0,0,0],[0,0,0],[0,0,0],[0,0,0],[0,0,0],[0,0,0],[0,0,0],[0,0,0],[0,0,0],[0,0,0],[0,0,0],[0,0,0],[0,0,0],[64,64,64],[255,255,255],[255,255,255],[128,128,128],[0,0,0],[0,0,0],[0,0,0],[0,0,0],[0,0,0],[0,0,0],[0,0,0],[0,0,0],[0,0,0]],[[0,0,0],[0,0,0],[0,0,0],[0,0,0],[0,0,0],[0,0,0],[0,0,0],[0,0,0],[0,0,0],[0,0,0],[0,0,0],[0,0,0],[0,0,0],[0,0,0],[0,0,0],[0,0,0],[255,255,255],[255,255,255],[128,128,128],[0,0,0],[0,0,0],[0,0,0],[0,0,0],[0,0,0],[0,0,0],[0,0,0],[0,0,0],[0,0,0]],[[0,0,0],[0,0,0],[0,0,0],[0,0,0],[0,0,0],[0,0,0],[0,0,0],[0,0,0],[0,0,0],[0,0,0],[0,0,0],[0,0,0],[0,0,0],[0,0,0],[0,0,0],[191,191,191],[255,255,255],[255,255,255],[64,64,64],[0,0,0],[0,0,0],[0,0,0],[0,0,0],[0,0,0],[0,0,0],[0,0,0],[0,0,0],[0,0,0]],[[0,0,0],[0,0,0],[0,0,0],[0,0,0],[0,0,0],[0,0,0],[0,0,0],[0,0,0],[0,0,0],[0,0,0],[0,0,0],[0,0,0],[0,0,0],[0,0,0],[191,191,191],[255,255,255],[255,255,255],[128,128,128],[0,0,0],[0,0,0],[0,0,0],[0,0,0],[0,0,0],[0,0,0],[0,0,0],[0,0,0],[0,0,0],[0,0,0]],[[0,0,0],[0,0,0],[0,0,0],[0,0,0],[0,0,0],[0,0,0],[0,0,0],[191,191,191],[191,191,191],[128,128,128],[128,128,128],[64,64,64],[128,128,128],[255,255,255],[255,255,255],[255,255,255],[255,255,255],[64,64,64],[0,0,0],[0,0,0],[0,0,0],[0,0,0],[0,0,0],[0,0,0],[0,0,0],[0,0,0],[0,0,0],[0,0,0]],[[0,0,0],[0,0,0],[0,0,0],[0,0,0],[0,0,0],[0,0,0],[0,0,0],[128,128,128],[255,255,255],[255,255,255],[255,255,255],[255,255,255],[255,255,255],[255,255,255],[255,255,255],[255,255,255],[64,64,64],[0,0,0],[0,0,0],[0,0,0],[0,0,0],[0,0,0],[0,0,0],[0,0,0],[0,0,0],[0,0,0],[0,0,0],[0,0,0]],[[0,0,0],[0,0,0],[0,0,0],[0,0,0],[0,0,0],[0,0,0],[0,0,0],[128,128,128],[255,255,255],[255,255,255],[255,255,255],[255,255,255],[255,255,255],[255,255,255],[191,191,191],[64,64,64],[0,0,0],[0,0,0],[0,0,0],[0,0,0],[0,0,0],[0,0,0],[0,0,0],[0,0,0],[0,0,0],[0,0,0],[0,0,0],[0,0,0]],[[0,0,0],[0,0,0],[0,0,0],[0,0,0],[0,0,0],[0,0,0],[0,0,0],[0,0,0],[64,64,64],[191,191,191],[255,255,255],[255,255,255],[128,128,128],[64,64,64],[0,0,0],[0,0,0],[0,0,0],[0,0,0],[0,0,0],[0,0,0],[0,0,0],[0,0,0],[0,0,0],[0,0,0],[0,0,0],[0,0,0],[0,0,0],[0,0,0]],[[0,0,0],[0,0,0],[0,0,0],[0,0,0],[0,0,0],[0,0,0],[0,0,0],[0,0,0],[0,0,0],[0,0,0],[0,0,0],[0,0,0],[0,0,0],[0,0,0],[0,0,0],[0,0,0],[0,0,0],[0,0,0],[0,0,0],[0,0,0],[0,0,0],[0,0,0],[0,0,0],[0,0,0],[0,0,0],[0,0,0],[0,0,0],[0,0,0]],[[0,0,0],[0,0,0],[0,0,0],[0,0,0],[0,0,0],[0,0,0],[0,0,0],[0,0,0],[0,0,0],[0,0,0],[0,0,0],[0,0,0],[0,0,0],[0,0,0],[0,0,0],[0,0,0],[0,0,0],[0,0,0],[0,0,0],[0,0,0],[0,0,0],[0,0,0],[0,0,0],[0,0,0],[0,0,0],[0,0,0],[0,0,0],[0,0,0]],[[0,0,0],[0,0,0],[0,0,0],[0,0,0],[0,0,0],[0,0,0],[0,0,0],[0,0,0],[0,0,0],[0,0,0],[0,0,0],[0,0,0],[0,0,0],[0,0,0],[0,0,0],[0,0,0],[0,0,0],[0,0,0],[0,0,0],[0,0,0],[0,0,0],[0,0,0],[0,0,0],[0,0,0],[0,0,0],[0,0,0],[0,0,0],[0,0,0]]],\"type\":\"image\",\"xaxis\":\"x8\",\"yaxis\":\"y8\"},{\"z\":[[[0,0,0],[0,0,0],[0,0,0],[0,0,0],[0,0,0],[0,0,0],[0,0,0],[0,0,0],[0,0,0],[0,0,0],[0,0,0],[0,0,0],[0,0,0],[0,0,0],[0,0,0],[0,0,0],[0,0,0],[0,0,0],[0,0,0],[0,0,0],[0,0,0],[0,0,0],[0,0,0],[0,0,0],[0,0,0],[0,0,0],[0,0,0],[0,0,0]],[[0,0,0],[0,0,0],[0,0,0],[0,0,0],[0,0,0],[0,0,0],[0,0,0],[0,0,0],[0,0,0],[0,0,0],[0,0,0],[0,0,0],[0,0,0],[0,0,0],[0,0,0],[0,0,0],[0,0,0],[0,0,0],[0,0,0],[0,0,0],[0,0,0],[0,0,0],[0,0,0],[0,0,0],[0,0,0],[0,0,0],[0,0,0],[0,0,0]],[[0,0,0],[0,0,0],[0,0,0],[0,0,0],[0,0,0],[0,0,0],[0,0,0],[0,0,0],[0,0,0],[0,0,0],[0,0,0],[0,0,0],[0,0,0],[0,0,0],[0,0,0],[0,0,0],[0,0,0],[0,0,0],[0,0,0],[0,0,0],[0,0,0],[0,0,0],[0,0,0],[0,0,0],[0,0,0],[0,0,0],[0,0,0],[0,0,0]],[[0,0,0],[0,0,0],[0,0,0],[0,0,0],[0,0,0],[0,0,0],[0,0,0],[0,0,0],[0,0,0],[0,0,0],[0,0,0],[0,0,0],[0,0,0],[0,0,0],[0,0,0],[0,0,0],[0,0,0],[0,0,0],[0,0,0],[0,0,0],[0,0,0],[0,0,0],[0,0,0],[0,0,0],[0,0,0],[0,0,0],[0,0,0],[0,0,0]],[[0,0,0],[0,0,0],[0,0,0],[0,0,0],[0,0,0],[0,0,0],[0,0,0],[0,0,0],[0,0,0],[0,0,0],[0,0,0],[0,0,0],[0,0,0],[0,0,0],[0,0,0],[0,0,0],[0,0,0],[51,51,51],[92,92,92],[152,152,152],[152,152,152],[41,41,41],[0,0,0],[0,0,0],[0,0,0],[0,0,0],[0,0,0],[0,0,0]],[[0,0,0],[0,0,0],[0,0,0],[0,0,0],[0,0,0],[0,0,0],[0,0,0],[0,0,0],[0,0,0],[0,0,0],[0,0,0],[0,0,0],[0,0,0],[0,0,0],[0,0,0],[102,102,102],[183,183,183],[253,253,253],[251,251,251],[253,253,253],[251,251,251],[243,243,243],[162,162,162],[0,0,0],[0,0,0],[0,0,0],[0,0,0],[0,0,0]],[[0,0,0],[0,0,0],[0,0,0],[0,0,0],[0,0,0],[0,0,0],[0,0,0],[0,0,0],[0,0,0],[0,0,0],[0,0,0],[0,0,0],[20,20,20],[132,132,132],[253,253,253],[253,253,253],[253,253,253],[253,253,253],[233,233,233],[203,203,203],[203,203,203],[255,255,255],[253,253,253],[123,123,123],[0,0,0],[0,0,0],[0,0,0],[0,0,0]],[[0,0,0],[0,0,0],[0,0,0],[0,0,0],[0,0,0],[0,0,0],[0,0,0],[0,0,0],[82,82,82],[102,102,102],[19,19,19],[0,0,0],[102,102,102],[253,253,253],[251,251,251],[233,233,233],[151,151,151],[50,50,50],[29,29,29],[0,0,0],[0,0,0],[71,71,71],[231,231,231],[243,243,243],[122,122,122],[0,0,0],[0,0,0],[0,0,0]],[[0,0,0],[0,0,0],[0,0,0],[0,0,0],[0,0,0],[0,0,0],[20,20,20],[173,173,173],[253,253,253],[253,253,253],[131,131,131],[0,0,0],[142,142,142],[253,253,253],[192,192,192],[0,0,0],[0,0,0],[0,0,0],[0,0,0],[0,0,0],[0,0,0],[0,0,0],[142,142,142],[255,255,255],[213,213,213],[0,0,0],[0,0,0],[0,0,0]],[[0,0,0],[0,0,0],[0,0,0],[0,0,0],[0,0,0],[0,0,0],[102,102,102],[253,253,253],[171,171,171],[50,50,50],[9,9,9],[0,0,0],[102,102,102],[253,253,253],[231,231,231],[102,102,102],[19,19,19],[0,0,0],[0,0,0],[0,0,0],[0,0,0],[0,0,0],[19,19,19],[253,253,253],[251,251,251],[0,0,0],[0,0,0],[0,0,0]],[[0,0,0],[0,0,0],[0,0,0],[0,0,0],[0,0,0],[30,30,30],[233,233,233],[243,243,243],[122,122,122],[0,0,0],[0,0,0],[0,0,0],[0,0,0],[163,163,163],[203,203,203],[203,203,203],[40,40,40],[0,0,0],[0,0,0],[0,0,0],[0,0,0],[0,0,0],[0,0,0],[253,253,253],[233,233,233],[0,0,0],[0,0,0],[0,0,0]],[[0,0,0],[0,0,0],[0,0,0],[0,0,0],[0,0,0],[132,132,132],[251,251,251],[203,203,203],[0,0,0],[0,0,0],[0,0,0],[0,0,0],[0,0,0],[0,0,0],[0,0,0],[0,0,0],[0,0,0],[0,0,0],[0,0,0],[0,0,0],[0,0,0],[0,0,0],[82,82,82],[253,253,253],[151,151,151],[0,0,0],[0,0,0],[0,0,0]],[[0,0,0],[0,0,0],[0,0,0],[0,0,0],[0,0,0],[152,152,152],[253,253,253],[183,183,183],[0,0,0],[0,0,0],[0,0,0],[0,0,0],[0,0,0],[0,0,0],[0,0,0],[0,0,0],[0,0,0],[0,0,0],[0,0,0],[0,0,0],[0,0,0],[0,0,0],[203,203,203],[253,253,253],[50,50,50],[0,0,0],[0,0,0],[0,0,0]],[[0,0,0],[0,0,0],[0,0,0],[0,0,0],[0,0,0],[152,152,152],[251,251,251],[102,102,102],[0,0,0],[0,0,0],[0,0,0],[0,0,0],[0,0,0],[0,0,0],[0,0,0],[0,0,0],[0,0,0],[0,0,0],[0,0,0],[0,0,0],[0,0,0],[20,20,20],[223,223,223],[213,213,213],[9,9,9],[0,0,0],[0,0,0],[0,0,0]],[[0,0,0],[0,0,0],[0,0,0],[0,0,0],[0,0,0],[253,253,253],[253,253,253],[82,82,82],[0,0,0],[0,0,0],[0,0,0],[0,0,0],[0,0,0],[0,0,0],[0,0,0],[0,0,0],[0,0,0],[0,0,0],[0,0,0],[0,0,0],[0,0,0],[213,213,213],[253,253,253],[142,142,142],[0,0,0],[0,0,0],[0,0,0],[0,0,0]],[[0,0,0],[0,0,0],[0,0,0],[0,0,0],[0,0,0],[253,253,253],[251,251,251],[41,41,41],[0,0,0],[0,0,0],[0,0,0],[0,0,0],[0,0,0],[0,0,0],[0,0,0],[0,0,0],[0,0,0],[0,0,0],[0,0,0],[0,0,0],[82,82,82],[253,253,253],[251,251,251],[19,19,19],[0,0,0],[0,0,0],[0,0,0],[0,0,0]],[[0,0,0],[0,0,0],[0,0,0],[0,0,0],[0,0,0],[253,253,253],[253,253,253],[102,102,102],[0,0,0],[0,0,0],[0,0,0],[0,0,0],[0,0,0],[0,0,0],[0,0,0],[0,0,0],[0,0,0],[0,0,0],[0,0,0],[51,51,51],[233,233,233],[253,253,253],[91,91,91],[0,0,0],[0,0,0],[0,0,0],[0,0,0],[0,0,0]],[[0,0,0],[0,0,0],[0,0,0],[0,0,0],[0,0,0],[253,253,253],[251,251,251],[102,102,102],[0,0,0],[0,0,0],[0,0,0],[0,0,0],[0,0,0],[0,0,0],[0,0,0],[0,0,0],[0,0,0],[0,0,0],[41,41,41],[193,193,193],[251,251,251],[233,233,233],[29,29,29],[0,0,0],[0,0,0],[0,0,0],[0,0,0],[0,0,0]],[[0,0,0],[0,0,0],[0,0,0],[0,0,0],[0,0,0],[152,152,152],[253,253,253],[203,203,203],[0,0,0],[0,0,0],[0,0,0],[0,0,0],[0,0,0],[0,0,0],[0,0,0],[0,0,0],[0,0,0],[30,30,30],[132,132,132],[253,253,253],[233,233,233],[0,0,0],[0,0,0],[0,0,0],[0,0,0],[0,0,0],[0,0,0],[0,0,0]],[[0,0,0],[0,0,0],[0,0,0],[0,0,0],[0,0,0],[152,152,152],[251,251,251],[243,243,243],[162,162,162],[0,0,0],[0,0,0],[0,0,0],[0,0,0],[0,0,0],[0,0,0],[0,0,0],[82,82,82],[233,233,233],[251,251,251],[233,233,233],[50,50,50],[0,0,0],[0,0,0],[0,0,0],[0,0,0],[0,0,0],[0,0,0],[0,0,0]],[[0,0,0],[0,0,0],[0,0,0],[0,0,0],[0,0,0],[20,20,20],[223,223,223],[255,255,255],[253,253,253],[132,132,132],[30,30,30],[0,0,0],[20,20,20],[72,72,72],[152,152,152],[213,213,213],[253,253,253],[253,253,253],[192,192,192],[41,41,41],[0,0,0],[0,0,0],[0,0,0],[0,0,0],[0,0,0],[0,0,0],[0,0,0],[0,0,0]],[[0,0,0],[0,0,0],[0,0,0],[0,0,0],[0,0,0],[0,0,0],[81,81,81],[253,253,253],[251,251,251],[253,253,253],[231,231,231],[203,203,203],[223,223,223],[253,253,253],[251,251,251],[253,253,253],[251,251,251],[192,192,192],[50,50,50],[0,0,0],[0,0,0],[0,0,0],[0,0,0],[0,0,0],[0,0,0],[0,0,0],[0,0,0],[0,0,0]],[[0,0,0],[0,0,0],[0,0,0],[0,0,0],[0,0,0],[0,0,0],[0,0,0],[62,62,62],[183,183,183],[255,255,255],[253,253,253],[253,253,253],[253,253,253],[253,253,253],[233,233,233],[142,142,142],[19,19,19],[0,0,0],[0,0,0],[0,0,0],[0,0,0],[0,0,0],[0,0,0],[0,0,0],[0,0,0],[0,0,0],[0,0,0],[0,0,0]],[[0,0,0],[0,0,0],[0,0,0],[0,0,0],[0,0,0],[0,0,0],[0,0,0],[0,0,0],[0,0,0],[50,50,50],[131,131,131],[151,151,151],[151,151,151],[50,50,50],[29,29,29],[0,0,0],[0,0,0],[0,0,0],[0,0,0],[0,0,0],[0,0,0],[0,0,0],[0,0,0],[0,0,0],[0,0,0],[0,0,0],[0,0,0],[0,0,0]],[[0,0,0],[0,0,0],[0,0,0],[0,0,0],[0,0,0],[0,0,0],[0,0,0],[0,0,0],[0,0,0],[0,0,0],[0,0,0],[0,0,0],[0,0,0],[0,0,0],[0,0,0],[0,0,0],[0,0,0],[0,0,0],[0,0,0],[0,0,0],[0,0,0],[0,0,0],[0,0,0],[0,0,0],[0,0,0],[0,0,0],[0,0,0],[0,0,0]],[[0,0,0],[0,0,0],[0,0,0],[0,0,0],[0,0,0],[0,0,0],[0,0,0],[0,0,0],[0,0,0],[0,0,0],[0,0,0],[0,0,0],[0,0,0],[0,0,0],[0,0,0],[0,0,0],[0,0,0],[0,0,0],[0,0,0],[0,0,0],[0,0,0],[0,0,0],[0,0,0],[0,0,0],[0,0,0],[0,0,0],[0,0,0],[0,0,0]],[[0,0,0],[0,0,0],[0,0,0],[0,0,0],[0,0,0],[0,0,0],[0,0,0],[0,0,0],[0,0,0],[0,0,0],[0,0,0],[0,0,0],[0,0,0],[0,0,0],[0,0,0],[0,0,0],[0,0,0],[0,0,0],[0,0,0],[0,0,0],[0,0,0],[0,0,0],[0,0,0],[0,0,0],[0,0,0],[0,0,0],[0,0,0],[0,0,0]],[[0,0,0],[0,0,0],[0,0,0],[0,0,0],[0,0,0],[0,0,0],[0,0,0],[0,0,0],[0,0,0],[0,0,0],[0,0,0],[0,0,0],[0,0,0],[0,0,0],[0,0,0],[0,0,0],[0,0,0],[0,0,0],[0,0,0],[0,0,0],[0,0,0],[0,0,0],[0,0,0],[0,0,0],[0,0,0],[0,0,0],[0,0,0],[0,0,0]]],\"type\":\"image\",\"xaxis\":\"x9\",\"yaxis\":\"y9\"},{\"z\":[[[0,0,0],[0,0,0],[0,0,0],[0,0,0],[0,0,0],[0,0,0],[0,0,0],[0,0,0],[0,0,0],[0,0,0],[0,0,0],[0,0,0],[0,0,0],[0,0,0],[0,0,0],[0,0,0],[0,0,0],[0,0,0],[0,0,0],[0,0,0],[0,0,0],[0,0,0],[0,0,0],[0,0,0],[0,0,0],[0,0,0],[0,0,0],[0,0,0]],[[0,0,0],[0,0,0],[0,0,0],[0,0,0],[0,0,0],[0,0,0],[0,0,0],[0,0,0],[0,0,0],[0,0,0],[0,0,0],[0,0,0],[0,0,0],[0,0,0],[0,0,0],[0,0,0],[0,0,0],[0,0,0],[0,0,0],[0,0,0],[0,0,0],[0,0,0],[0,0,0],[0,0,0],[0,0,0],[0,0,0],[0,0,0],[0,0,0]],[[0,0,0],[0,0,0],[0,0,0],[0,0,0],[0,0,0],[0,0,0],[0,0,0],[0,0,0],[0,0,0],[0,0,0],[0,0,0],[0,0,0],[0,0,0],[0,0,0],[0,0,0],[0,0,0],[0,0,0],[0,0,0],[0,0,0],[0,0,0],[0,0,0],[0,0,0],[0,0,0],[0,0,0],[0,0,0],[0,0,0],[0,0,0],[0,0,0]],[[0,0,0],[0,0,0],[0,0,0],[0,0,0],[0,0,0],[0,0,0],[0,0,0],[0,0,0],[0,0,0],[0,0,0],[0,0,0],[0,0,0],[0,0,0],[0,0,0],[0,0,0],[0,0,0],[0,0,0],[0,0,0],[0,0,0],[0,0,0],[0,0,0],[0,0,0],[0,0,0],[0,0,0],[0,0,0],[0,0,0],[0,0,0],[0,0,0]],[[0,0,0],[0,0,0],[0,0,0],[0,0,0],[0,0,0],[0,0,0],[0,0,0],[0,0,0],[0,0,0],[0,0,0],[0,0,0],[0,0,0],[0,0,0],[0,0,0],[0,0,0],[34,34,34],[111,111,111],[101,101,101],[34,34,34],[58,58,58],[229,229,229],[241,241,241],[0,0,0],[0,0,0],[0,0,0],[0,0,0],[0,0,0],[0,0,0]],[[0,0,0],[0,0,0],[0,0,0],[0,0,0],[0,0,0],[0,0,0],[0,0,0],[0,0,0],[0,0,0],[0,0,0],[0,0,0],[0,0,0],[0,0,0],[20,20,20],[162,162,162],[253,253,253],[251,251,251],[251,251,251],[251,251,251],[251,251,251],[251,251,251],[164,164,164],[0,0,0],[0,0,0],[0,0,0],[0,0,0],[0,0,0],[0,0,0]],[[0,0,0],[0,0,0],[0,0,0],[0,0,0],[0,0,0],[0,0,0],[0,0,0],[0,0,0],[0,0,0],[0,0,0],[0,0,0],[4,4,4],[100,100,100],[146,146,146],[251,251,251],[253,253,253],[251,251,251],[251,251,251],[251,251,251],[251,251,251],[251,251,251],[131,131,131],[0,0,0],[0,0,0],[0,0,0],[0,0,0],[0,0,0],[0,0,0]],[[0,0,0],[0,0,0],[0,0,0],[0,0,0],[0,0,0],[0,0,0],[0,0,0],[0,0,0],[0,0,0],[0,0,0],[0,0,0],[174,174,174],[251,251,251],[251,251,251],[233,233,233],[107,107,107],[9,9,9],[9,9,9],[243,243,243],[251,251,251],[251,251,251],[131,131,131],[0,0,0],[0,0,0],[0,0,0],[0,0,0],[0,0,0],[0,0,0]],[[0,0,0],[0,0,0],[0,0,0],[0,0,0],[0,0,0],[0,0,0],[0,0,0],[0,0,0],[0,0,0],[0,0,0],[82,82,82],[245,245,245],[243,243,243],[163,163,163],[11,11,11],[0,0,0],[0,0,0],[66,66,66],[249,249,249],[251,251,251],[251,251,251],[203,203,203],[0,0,0],[0,0,0],[0,0,0],[0,0,0],[0,0,0],[0,0,0]],[[0,0,0],[0,0,0],[0,0,0],[0,0,0],[0,0,0],[0,0,0],[0,0,0],[0,0,0],[0,0,0],[19,19,19],[217,217,217],[251,251,251],[122,122,122],[0,0,0],[0,0,0],[0,0,0],[62,62,62],[201,201,201],[251,251,251],[194,194,194],[233,233,233],[245,245,245],[43,43,43],[0,0,0],[0,0,0],[0,0,0],[0,0,0],[0,0,0]],[[0,0,0],[0,0,0],[0,0,0],[0,0,0],[0,0,0],[0,0,0],[0,0,0],[0,0,0],[0,0,0],[6,6,6],[205,205,205],[241,241,241],[8,8,8],[0,0,0],[0,0,0],[15,15,15],[213,213,213],[251,251,251],[227,227,227],[7,7,7],[16,16,16],[69,69,69],[0,0,0],[0,0,0],[0,0,0],[0,0,0],[0,0,0],[0,0,0]],[[0,0,0],[0,0,0],[0,0,0],[0,0,0],[0,0,0],[0,0,0],[0,0,0],[0,0,0],[0,0,0],[75,75,75],[251,251,251],[174,174,174],[0,0,0],[0,0,0],[19,19,19],[168,168,168],[251,251,251],[235,235,235],[52,52,52],[0,0,0],[0,0,0],[0,0,0],[0,0,0],[0,0,0],[0,0,0],[0,0,0],[0,0,0],[0,0,0]],[[0,0,0],[0,0,0],[0,0,0],[0,0,0],[0,0,0],[0,0,0],[0,0,0],[0,0,0],[0,0,0],[165,165,165],[251,251,251],[165,165,165],[13,13,13],[112,112,112],[215,215,215],[253,253,253],[231,231,231],[59,59,59],[0,0,0],[0,0,0],[0,0,0],[0,0,0],[0,0,0],[0,0,0],[0,0,0],[0,0,0],[0,0,0],[0,0,0]],[[0,0,0],[0,0,0],[0,0,0],[0,0,0],[0,0,0],[0,0,0],[0,0,0],[0,0,0],[0,0,0],[165,165,165],[251,251,251],[251,251,251],[225,225,225],[251,251,251],[251,251,251],[253,253,253],[91,91,91],[0,0,0],[0,0,0],[0,0,0],[0,0,0],[0,0,0],[0,0,0],[0,0,0],[0,0,0],[0,0,0],[0,0,0],[0,0,0]],[[0,0,0],[0,0,0],[0,0,0],[0,0,0],[0,0,0],[0,0,0],[0,0,0],[0,0,0],[0,0,0],[97,97,97],[231,231,231],[253,253,253],[253,253,253],[253,253,253],[253,253,253],[255,255,255],[147,147,147],[5,5,5],[0,0,0],[0,0,0],[0,0,0],[0,0,0],[0,0,0],[0,0,0],[0,0,0],[0,0,0],[0,0,0],[0,0,0]],[[0,0,0],[0,0,0],[0,0,0],[0,0,0],[0,0,0],[0,0,0],[0,0,0],[0,0,0],[0,0,0],[0,0,0],[118,118,118],[251,251,251],[251,251,251],[231,231,231],[186,186,186],[253,253,253],[251,251,251],[146,146,146],[2,2,2],[0,0,0],[0,0,0],[0,0,0],[0,0,0],[0,0,0],[0,0,0],[0,0,0],[0,0,0],[0,0,0]],[[0,0,0],[0,0,0],[0,0,0],[0,0,0],[0,0,0],[0,0,0],[0,0,0],[0,0,0],[0,0,0],[46,46,46],[243,243,243],[251,251,251],[192,192,192],[59,59,59],[0,0,0],[58,58,58],[179,179,179],[251,251,251],[102,102,102],[0,0,0],[0,0,0],[0,0,0],[0,0,0],[0,0,0],[0,0,0],[0,0,0],[0,0,0],[0,0,0]],[[0,0,0],[0,0,0],[0,0,0],[0,0,0],[0,0,0],[0,0,0],[0,0,0],[0,0,0],[80,80,80],[245,245,245],[251,251,251],[227,227,227],[47,47,47],[0,0,0],[0,0,0],[0,0,0],[2,2,2],[201,201,201],[237,237,237],[56,56,56],[0,0,0],[0,0,0],[0,0,0],[0,0,0],[0,0,0],[0,0,0],[0,0,0],[0,0,0]],[[0,0,0],[0,0,0],[0,0,0],[0,0,0],[0,0,0],[0,0,0],[0,0,0],[0,0,0],[156,156,156],[251,251,251],[233,233,233],[16,16,16],[0,0,0],[0,0,0],[0,0,0],[0,0,0],[0,0,0],[100,100,100],[251,251,251],[197,197,197],[0,0,0],[0,0,0],[0,0,0],[0,0,0],[0,0,0],[0,0,0],[0,0,0],[0,0,0]],[[0,0,0],[0,0,0],[0,0,0],[0,0,0],[0,0,0],[0,0,0],[0,0,0],[117,117,117],[249,249,249],[251,251,251],[126,126,126],[0,0,0],[0,0,0],[0,0,0],[0,0,0],[0,0,0],[0,0,0],[137,137,137],[251,251,251],[197,197,197],[0,0,0],[0,0,0],[0,0,0],[0,0,0],[0,0,0],[0,0,0],[0,0,0],[0,0,0]],[[0,0,0],[0,0,0],[0,0,0],[0,0,0],[0,0,0],[0,0,0],[0,0,0],[209,209,209],[251,251,251],[201,201,201],[4,4,4],[0,0,0],[0,0,0],[3,3,3],[11,11,11],[122,122,122],[198,198,198],[249,249,249],[241,241,241],[103,103,103],[0,0,0],[0,0,0],[0,0,0],[0,0,0],[0,0,0],[0,0,0],[0,0,0],[0,0,0]],[[0,0,0],[0,0,0],[0,0,0],[0,0,0],[0,0,0],[0,0,0],[0,0,0],[209,209,209],[251,251,251],[231,231,231],[154,154,154],[154,154,154],[154,154,154],[184,184,184],[251,251,251],[253,253,253],[251,251,251],[215,215,215],[95,95,95],[0,0,0],[0,0,0],[0,0,0],[0,0,0],[0,0,0],[0,0,0],[0,0,0],[0,0,0],[0,0,0]],[[0,0,0],[0,0,0],[0,0,0],[0,0,0],[0,0,0],[0,0,0],[0,0,0],[175,175,175],[251,251,251],[251,251,251],[251,251,251],[251,251,251],[251,251,251],[251,251,251],[251,251,251],[161,161,161],[66,66,66],[11,11,11],[0,0,0],[0,0,0],[0,0,0],[0,0,0],[0,0,0],[0,0,0],[0,0,0],[0,0,0],[0,0,0],[0,0,0]],[[0,0,0],[0,0,0],[0,0,0],[0,0,0],[0,0,0],[0,0,0],[0,0,0],[12,12,12],[90,90,90],[213,213,213],[251,251,251],[199,199,199],[142,142,142],[109,109,109],[33,33,33],[0,0,0],[0,0,0],[0,0,0],[0,0,0],[0,0,0],[0,0,0],[0,0,0],[0,0,0],[0,0,0],[0,0,0],[0,0,0],[0,0,0],[0,0,0]],[[0,0,0],[0,0,0],[0,0,0],[0,0,0],[0,0,0],[0,0,0],[0,0,0],[0,0,0],[0,0,0],[0,0,0],[0,0,0],[0,0,0],[0,0,0],[0,0,0],[0,0,0],[0,0,0],[0,0,0],[0,0,0],[0,0,0],[0,0,0],[0,0,0],[0,0,0],[0,0,0],[0,0,0],[0,0,0],[0,0,0],[0,0,0],[0,0,0]],[[0,0,0],[0,0,0],[0,0,0],[0,0,0],[0,0,0],[0,0,0],[0,0,0],[0,0,0],[0,0,0],[0,0,0],[0,0,0],[0,0,0],[0,0,0],[0,0,0],[0,0,0],[0,0,0],[0,0,0],[0,0,0],[0,0,0],[0,0,0],[0,0,0],[0,0,0],[0,0,0],[0,0,0],[0,0,0],[0,0,0],[0,0,0],[0,0,0]],[[0,0,0],[0,0,0],[0,0,0],[0,0,0],[0,0,0],[0,0,0],[0,0,0],[0,0,0],[0,0,0],[0,0,0],[0,0,0],[0,0,0],[0,0,0],[0,0,0],[0,0,0],[0,0,0],[0,0,0],[0,0,0],[0,0,0],[0,0,0],[0,0,0],[0,0,0],[0,0,0],[0,0,0],[0,0,0],[0,0,0],[0,0,0],[0,0,0]],[[0,0,0],[0,0,0],[0,0,0],[0,0,0],[0,0,0],[0,0,0],[0,0,0],[0,0,0],[0,0,0],[0,0,0],[0,0,0],[0,0,0],[0,0,0],[0,0,0],[0,0,0],[0,0,0],[0,0,0],[0,0,0],[0,0,0],[0,0,0],[0,0,0],[0,0,0],[0,0,0],[0,0,0],[0,0,0],[0,0,0],[0,0,0],[0,0,0]]],\"type\":\"image\",\"xaxis\":\"x10\",\"yaxis\":\"y10\"}],                        {\"template\":{\"data\":{\"histogram2dcontour\":[{\"type\":\"histogram2dcontour\",\"colorbar\":{\"outlinewidth\":0,\"ticks\":\"\"},\"colorscale\":[[0.0,\"#0d0887\"],[0.1111111111111111,\"#46039f\"],[0.2222222222222222,\"#7201a8\"],[0.3333333333333333,\"#9c179e\"],[0.4444444444444444,\"#bd3786\"],[0.5555555555555556,\"#d8576b\"],[0.6666666666666666,\"#ed7953\"],[0.7777777777777778,\"#fb9f3a\"],[0.8888888888888888,\"#fdca26\"],[1.0,\"#f0f921\"]]}],\"choropleth\":[{\"type\":\"choropleth\",\"colorbar\":{\"outlinewidth\":0,\"ticks\":\"\"}}],\"histogram2d\":[{\"type\":\"histogram2d\",\"colorbar\":{\"outlinewidth\":0,\"ticks\":\"\"},\"colorscale\":[[0.0,\"#0d0887\"],[0.1111111111111111,\"#46039f\"],[0.2222222222222222,\"#7201a8\"],[0.3333333333333333,\"#9c179e\"],[0.4444444444444444,\"#bd3786\"],[0.5555555555555556,\"#d8576b\"],[0.6666666666666666,\"#ed7953\"],[0.7777777777777778,\"#fb9f3a\"],[0.8888888888888888,\"#fdca26\"],[1.0,\"#f0f921\"]]}],\"heatmap\":[{\"type\":\"heatmap\",\"colorbar\":{\"outlinewidth\":0,\"ticks\":\"\"},\"colorscale\":[[0.0,\"#0d0887\"],[0.1111111111111111,\"#46039f\"],[0.2222222222222222,\"#7201a8\"],[0.3333333333333333,\"#9c179e\"],[0.4444444444444444,\"#bd3786\"],[0.5555555555555556,\"#d8576b\"],[0.6666666666666666,\"#ed7953\"],[0.7777777777777778,\"#fb9f3a\"],[0.8888888888888888,\"#fdca26\"],[1.0,\"#f0f921\"]]}],\"heatmapgl\":[{\"type\":\"heatmapgl\",\"colorbar\":{\"outlinewidth\":0,\"ticks\":\"\"},\"colorscale\":[[0.0,\"#0d0887\"],[0.1111111111111111,\"#46039f\"],[0.2222222222222222,\"#7201a8\"],[0.3333333333333333,\"#9c179e\"],[0.4444444444444444,\"#bd3786\"],[0.5555555555555556,\"#d8576b\"],[0.6666666666666666,\"#ed7953\"],[0.7777777777777778,\"#fb9f3a\"],[0.8888888888888888,\"#fdca26\"],[1.0,\"#f0f921\"]]}],\"contourcarpet\":[{\"type\":\"contourcarpet\",\"colorbar\":{\"outlinewidth\":0,\"ticks\":\"\"}}],\"contour\":[{\"type\":\"contour\",\"colorbar\":{\"outlinewidth\":0,\"ticks\":\"\"},\"colorscale\":[[0.0,\"#0d0887\"],[0.1111111111111111,\"#46039f\"],[0.2222222222222222,\"#7201a8\"],[0.3333333333333333,\"#9c179e\"],[0.4444444444444444,\"#bd3786\"],[0.5555555555555556,\"#d8576b\"],[0.6666666666666666,\"#ed7953\"],[0.7777777777777778,\"#fb9f3a\"],[0.8888888888888888,\"#fdca26\"],[1.0,\"#f0f921\"]]}],\"surface\":[{\"type\":\"surface\",\"colorbar\":{\"outlinewidth\":0,\"ticks\":\"\"},\"colorscale\":[[0.0,\"#0d0887\"],[0.1111111111111111,\"#46039f\"],[0.2222222222222222,\"#7201a8\"],[0.3333333333333333,\"#9c179e\"],[0.4444444444444444,\"#bd3786\"],[0.5555555555555556,\"#d8576b\"],[0.6666666666666666,\"#ed7953\"],[0.7777777777777778,\"#fb9f3a\"],[0.8888888888888888,\"#fdca26\"],[1.0,\"#f0f921\"]]}],\"mesh3d\":[{\"type\":\"mesh3d\",\"colorbar\":{\"outlinewidth\":0,\"ticks\":\"\"}}],\"scatter\":[{\"fillpattern\":{\"fillmode\":\"overlay\",\"size\":10,\"solidity\":0.2},\"type\":\"scatter\"}],\"parcoords\":[{\"type\":\"parcoords\",\"line\":{\"colorbar\":{\"outlinewidth\":0,\"ticks\":\"\"}}}],\"scatterpolargl\":[{\"type\":\"scatterpolargl\",\"marker\":{\"colorbar\":{\"outlinewidth\":0,\"ticks\":\"\"}}}],\"bar\":[{\"error_x\":{\"color\":\"#2a3f5f\"},\"error_y\":{\"color\":\"#2a3f5f\"},\"marker\":{\"line\":{\"color\":\"#E5ECF6\",\"width\":0.5},\"pattern\":{\"fillmode\":\"overlay\",\"size\":10,\"solidity\":0.2}},\"type\":\"bar\"}],\"scattergeo\":[{\"type\":\"scattergeo\",\"marker\":{\"colorbar\":{\"outlinewidth\":0,\"ticks\":\"\"}}}],\"scatterpolar\":[{\"type\":\"scatterpolar\",\"marker\":{\"colorbar\":{\"outlinewidth\":0,\"ticks\":\"\"}}}],\"histogram\":[{\"marker\":{\"pattern\":{\"fillmode\":\"overlay\",\"size\":10,\"solidity\":0.2}},\"type\":\"histogram\"}],\"scattergl\":[{\"type\":\"scattergl\",\"marker\":{\"colorbar\":{\"outlinewidth\":0,\"ticks\":\"\"}}}],\"scatter3d\":[{\"type\":\"scatter3d\",\"line\":{\"colorbar\":{\"outlinewidth\":0,\"ticks\":\"\"}},\"marker\":{\"colorbar\":{\"outlinewidth\":0,\"ticks\":\"\"}}}],\"scattermapbox\":[{\"type\":\"scattermapbox\",\"marker\":{\"colorbar\":{\"outlinewidth\":0,\"ticks\":\"\"}}}],\"scatterternary\":[{\"type\":\"scatterternary\",\"marker\":{\"colorbar\":{\"outlinewidth\":0,\"ticks\":\"\"}}}],\"scattercarpet\":[{\"type\":\"scattercarpet\",\"marker\":{\"colorbar\":{\"outlinewidth\":0,\"ticks\":\"\"}}}],\"carpet\":[{\"aaxis\":{\"endlinecolor\":\"#2a3f5f\",\"gridcolor\":\"white\",\"linecolor\":\"white\",\"minorgridcolor\":\"white\",\"startlinecolor\":\"#2a3f5f\"},\"baxis\":{\"endlinecolor\":\"#2a3f5f\",\"gridcolor\":\"white\",\"linecolor\":\"white\",\"minorgridcolor\":\"white\",\"startlinecolor\":\"#2a3f5f\"},\"type\":\"carpet\"}],\"table\":[{\"cells\":{\"fill\":{\"color\":\"#EBF0F8\"},\"line\":{\"color\":\"white\"}},\"header\":{\"fill\":{\"color\":\"#C8D4E3\"},\"line\":{\"color\":\"white\"}},\"type\":\"table\"}],\"barpolar\":[{\"marker\":{\"line\":{\"color\":\"#E5ECF6\",\"width\":0.5},\"pattern\":{\"fillmode\":\"overlay\",\"size\":10,\"solidity\":0.2}},\"type\":\"barpolar\"}],\"pie\":[{\"automargin\":true,\"type\":\"pie\"}]},\"layout\":{\"autotypenumbers\":\"strict\",\"colorway\":[\"#636efa\",\"#EF553B\",\"#00cc96\",\"#ab63fa\",\"#FFA15A\",\"#19d3f3\",\"#FF6692\",\"#B6E880\",\"#FF97FF\",\"#FECB52\"],\"font\":{\"color\":\"#2a3f5f\"},\"hovermode\":\"closest\",\"hoverlabel\":{\"align\":\"left\"},\"paper_bgcolor\":\"white\",\"plot_bgcolor\":\"#E5ECF6\",\"polar\":{\"bgcolor\":\"#E5ECF6\",\"angularaxis\":{\"gridcolor\":\"white\",\"linecolor\":\"white\",\"ticks\":\"\"},\"radialaxis\":{\"gridcolor\":\"white\",\"linecolor\":\"white\",\"ticks\":\"\"}},\"ternary\":{\"bgcolor\":\"#E5ECF6\",\"aaxis\":{\"gridcolor\":\"white\",\"linecolor\":\"white\",\"ticks\":\"\"},\"baxis\":{\"gridcolor\":\"white\",\"linecolor\":\"white\",\"ticks\":\"\"},\"caxis\":{\"gridcolor\":\"white\",\"linecolor\":\"white\",\"ticks\":\"\"}},\"coloraxis\":{\"colorbar\":{\"outlinewidth\":0,\"ticks\":\"\"}},\"colorscale\":{\"sequential\":[[0.0,\"#0d0887\"],[0.1111111111111111,\"#46039f\"],[0.2222222222222222,\"#7201a8\"],[0.3333333333333333,\"#9c179e\"],[0.4444444444444444,\"#bd3786\"],[0.5555555555555556,\"#d8576b\"],[0.6666666666666666,\"#ed7953\"],[0.7777777777777778,\"#fb9f3a\"],[0.8888888888888888,\"#fdca26\"],[1.0,\"#f0f921\"]],\"sequentialminus\":[[0.0,\"#0d0887\"],[0.1111111111111111,\"#46039f\"],[0.2222222222222222,\"#7201a8\"],[0.3333333333333333,\"#9c179e\"],[0.4444444444444444,\"#bd3786\"],[0.5555555555555556,\"#d8576b\"],[0.6666666666666666,\"#ed7953\"],[0.7777777777777778,\"#fb9f3a\"],[0.8888888888888888,\"#fdca26\"],[1.0,\"#f0f921\"]],\"diverging\":[[0,\"#8e0152\"],[0.1,\"#c51b7d\"],[0.2,\"#de77ae\"],[0.3,\"#f1b6da\"],[0.4,\"#fde0ef\"],[0.5,\"#f7f7f7\"],[0.6,\"#e6f5d0\"],[0.7,\"#b8e186\"],[0.8,\"#7fbc41\"],[0.9,\"#4d9221\"],[1,\"#276419\"]]},\"xaxis\":{\"gridcolor\":\"white\",\"linecolor\":\"white\",\"ticks\":\"\",\"title\":{\"standoff\":15},\"zerolinecolor\":\"white\",\"automargin\":true,\"zerolinewidth\":2},\"yaxis\":{\"gridcolor\":\"white\",\"linecolor\":\"white\",\"ticks\":\"\",\"title\":{\"standoff\":15},\"zerolinecolor\":\"white\",\"automargin\":true,\"zerolinewidth\":2},\"scene\":{\"xaxis\":{\"backgroundcolor\":\"#E5ECF6\",\"gridcolor\":\"white\",\"linecolor\":\"white\",\"showbackground\":true,\"ticks\":\"\",\"zerolinecolor\":\"white\",\"gridwidth\":2},\"yaxis\":{\"backgroundcolor\":\"#E5ECF6\",\"gridcolor\":\"white\",\"linecolor\":\"white\",\"showbackground\":true,\"ticks\":\"\",\"zerolinecolor\":\"white\",\"gridwidth\":2},\"zaxis\":{\"backgroundcolor\":\"#E5ECF6\",\"gridcolor\":\"white\",\"linecolor\":\"white\",\"showbackground\":true,\"ticks\":\"\",\"zerolinecolor\":\"white\",\"gridwidth\":2}},\"shapedefaults\":{\"line\":{\"color\":\"#2a3f5f\"}},\"annotationdefaults\":{\"arrowcolor\":\"#2a3f5f\",\"arrowhead\":0,\"arrowwidth\":1},\"geo\":{\"bgcolor\":\"white\",\"landcolor\":\"#E5ECF6\",\"subunitcolor\":\"white\",\"showland\":true,\"showlakes\":true,\"lakecolor\":\"white\"},\"title\":{\"x\":0.05},\"mapbox\":{\"style\":\"light\"}}},\"xaxis\":{\"anchor\":\"y\",\"domain\":[0.0,0.184],\"showticklabels\":false},\"yaxis\":{\"anchor\":\"x\",\"domain\":[0.53,1.0],\"showticklabels\":false},\"xaxis2\":{\"anchor\":\"y2\",\"domain\":[0.204,0.388],\"showticklabels\":false},\"yaxis2\":{\"anchor\":\"x2\",\"domain\":[0.53,1.0],\"showticklabels\":false},\"xaxis3\":{\"anchor\":\"y3\",\"domain\":[0.408,0.592],\"showticklabels\":false},\"yaxis3\":{\"anchor\":\"x3\",\"domain\":[0.53,1.0],\"showticklabels\":false},\"xaxis4\":{\"anchor\":\"y4\",\"domain\":[0.6120000000000001,0.796],\"showticklabels\":false},\"yaxis4\":{\"anchor\":\"x4\",\"domain\":[0.53,1.0],\"showticklabels\":false},\"xaxis5\":{\"anchor\":\"y5\",\"domain\":[0.816,1.0],\"showticklabels\":false},\"yaxis5\":{\"anchor\":\"x5\",\"domain\":[0.53,1.0],\"showticklabels\":false},\"xaxis6\":{\"anchor\":\"y6\",\"domain\":[0.0,0.184],\"showticklabels\":false},\"yaxis6\":{\"anchor\":\"x6\",\"domain\":[0.0,0.47],\"showticklabels\":false},\"xaxis7\":{\"anchor\":\"y7\",\"domain\":[0.204,0.388],\"showticklabels\":false},\"yaxis7\":{\"anchor\":\"x7\",\"domain\":[0.0,0.47],\"showticklabels\":false},\"xaxis8\":{\"anchor\":\"y8\",\"domain\":[0.408,0.592],\"showticklabels\":false},\"yaxis8\":{\"anchor\":\"x8\",\"domain\":[0.0,0.47],\"showticklabels\":false},\"xaxis9\":{\"anchor\":\"y9\",\"domain\":[0.6120000000000001,0.796],\"showticklabels\":false},\"yaxis9\":{\"anchor\":\"x9\",\"domain\":[0.0,0.47],\"showticklabels\":false},\"xaxis10\":{\"anchor\":\"y10\",\"domain\":[0.816,1.0],\"showticklabels\":false},\"yaxis10\":{\"anchor\":\"x10\",\"domain\":[0.0,0.47],\"showticklabels\":false},\"annotations\":[{\"font\":{\"size\":16},\"showarrow\":false,\"text\":\"2\",\"x\":0.092,\"xanchor\":\"center\",\"xref\":\"paper\",\"y\":1.0,\"yanchor\":\"bottom\",\"yref\":\"paper\"},{\"font\":{\"size\":16},\"showarrow\":false,\"text\":\"8\",\"x\":0.296,\"xanchor\":\"center\",\"xref\":\"paper\",\"y\":1.0,\"yanchor\":\"bottom\",\"yref\":\"paper\"},{\"font\":{\"size\":16},\"showarrow\":false,\"text\":\"0\",\"x\":0.5,\"xanchor\":\"center\",\"xref\":\"paper\",\"y\":1.0,\"yanchor\":\"bottom\",\"yref\":\"paper\"},{\"font\":{\"size\":16},\"showarrow\":false,\"text\":\"5\",\"x\":0.7040000000000001,\"xanchor\":\"center\",\"xref\":\"paper\",\"y\":1.0,\"yanchor\":\"bottom\",\"yref\":\"paper\"},{\"font\":{\"size\":16},\"showarrow\":false,\"text\":\"8\",\"x\":0.9079999999999999,\"xanchor\":\"center\",\"xref\":\"paper\",\"y\":1.0,\"yanchor\":\"bottom\",\"yref\":\"paper\"},{\"font\":{\"size\":16},\"showarrow\":false,\"text\":\"8\",\"x\":0.092,\"xanchor\":\"center\",\"xref\":\"paper\",\"y\":0.47,\"yanchor\":\"bottom\",\"yref\":\"paper\"},{\"font\":{\"size\":16},\"showarrow\":false,\"text\":\"1\",\"x\":0.296,\"xanchor\":\"center\",\"xref\":\"paper\",\"y\":0.47,\"yanchor\":\"bottom\",\"yref\":\"paper\"},{\"font\":{\"size\":16},\"showarrow\":false,\"text\":\"3\",\"x\":0.5,\"xanchor\":\"center\",\"xref\":\"paper\",\"y\":0.47,\"yanchor\":\"bottom\",\"yref\":\"paper\"},{\"font\":{\"size\":16},\"showarrow\":false,\"text\":\"0\",\"x\":0.7040000000000001,\"xanchor\":\"center\",\"xref\":\"paper\",\"y\":0.47,\"yanchor\":\"bottom\",\"yref\":\"paper\"},{\"font\":{\"size\":16},\"showarrow\":false,\"text\":\"8\",\"x\":0.9079999999999999,\"xanchor\":\"center\",\"xref\":\"paper\",\"y\":0.47,\"yanchor\":\"bottom\",\"yref\":\"paper\"}],\"margin\":{\"t\":40,\"b\":20,\"r\":20,\"l\":20}},                        {\"displayModeBar\": false, \"responsive\": true}                    ).then(function(){\n",
              "                            \n",
              "var gd = document.getElementById('47b1c442-fc3a-47b2-9975-c1dee04c11ed');\n",
              "var x = new MutationObserver(function (mutations, observer) {{\n",
              "        var display = window.getComputedStyle(gd).display;\n",
              "        if (!display || display === 'none') {{\n",
              "            console.log([gd, 'removed!']);\n",
              "            Plotly.purge(gd);\n",
              "            observer.disconnect();\n",
              "        }}\n",
              "}});\n",
              "\n",
              "// Listen for the removal of the full notebook cells\n",
              "var notebookContainer = gd.closest('#notebook-container');\n",
              "if (notebookContainer) {{\n",
              "    x.observe(notebookContainer, {childList: true});\n",
              "}}\n",
              "\n",
              "// Listen for the clearing of the current output cell\n",
              "var outputEl = gd.closest('.output');\n",
              "if (outputEl) {{\n",
              "    x.observe(outputEl, {childList: true});\n",
              "}}\n",
              "\n",
              "                        })                };                            </script>        </div>\n",
              "</body>\n",
              "</html>"
            ]
          },
          "metadata": {}
        }
      ],
      "source": [
        "train_loader, test_loader = get_mnist()\n",
        "visualize(train_loader)"
      ]
    },
    {
      "cell_type": "markdown",
      "metadata": {
        "id": "nkZ9JQ0qVEWF"
      },
      "source": [
        "And here's a basic optimizer & training/testing loop:\n"
      ]
    },
    {
      "cell_type": "code",
      "execution_count": 93,
      "metadata": {
        "id": "1IdLhJ55VBii"
      },
      "outputs": [],
      "source": [
        "class SGD:\n",
        "    def __init__(self, params: Iterable[Parameter], lr: float):\n",
        "        '''Vanilla SGD with no additional features.'''\n",
        "        self.params = list(params)\n",
        "        self.lr = lr\n",
        "        self.b = [None for _ in self.params]\n",
        "\n",
        "    def zero_grad(self) -> None:\n",
        "        for p in self.params:\n",
        "            p.grad = None\n",
        "\n",
        "    def step(self) -> None:\n",
        "        with NoGrad():\n",
        "            for (i, p) in enumerate(self.params):\n",
        "                assert isinstance(p.grad, Tensor)\n",
        "                p.add_(p.grad, -self.lr)\n",
        "\n",
        "\n",
        "def train(model: MLP, train_loader: DataLoader, optimizer: SGD, epoch: int, train_loss_list: Optional[list] = None):\n",
        "    print(f\"Epoch: {epoch}\")\n",
        "    progress_bar = tqdm(enumerate(train_loader))\n",
        "    for (batch_idx, (data, target)) in progress_bar:\n",
        "        data = Tensor(data.numpy())\n",
        "        target = Tensor(target.numpy())\n",
        "        optimizer.zero_grad()\n",
        "        output = model(data)\n",
        "        loss = cross_entropy(output, target).sum() / len(output)\n",
        "        loss.backward()\n",
        "        progress_bar.set_description(f\"Train set: Avg loss: {loss.item():.3f}\")\n",
        "        optimizer.step()\n",
        "        if train_loss_list is not None:\n",
        "            train_loss_list.append(loss.item())\n",
        "\n",
        "\n",
        "def test(model: MLP, test_loader: DataLoader, test_loss_list: Optional[list] = None):\n",
        "    test_loss = 0\n",
        "    correct = 0\n",
        "    with NoGrad():\n",
        "        for data, target in test_loader:\n",
        "            data = Tensor(data.numpy())\n",
        "            target = Tensor(target.numpy())\n",
        "            output: Tensor = model(data)\n",
        "            test_loss += cross_entropy(output, target).sum().item()\n",
        "            pred = output.argmax(dim=1, keepdim=True)\n",
        "            correct += (pred == target.reshape(pred.shape)).sum().item()\n",
        "    n_data = len(test_loader.dataset)  # type: ignore\n",
        "    test_loss /= n_data\n",
        "    print(\n",
        "        f\"Test set:  Avg loss: {test_loss:.4f}, Accuracy: {correct}/{n_data} ({correct / n_data:.1%})\"\n",
        "    )\n",
        "    if test_loss_list is not None:\n",
        "        test_loss_list.append(test_loss)"
      ]
    },
    {
      "cell_type": "markdown",
      "metadata": {
        "id": "JibnxQiMVMt5"
      },
      "source": [
        "### Training Loop\n",
        "\n",
        "To finish the day, let's see if everything works correctly and our MLP learns to classify MNIST. It's normal to encounter some bugs and glitches at this point - just go back and fix them until everything runs.\n"
      ]
    },
    {
      "cell_type": "code",
      "execution_count": 94,
      "metadata": {
        "id": "v3VhGY0iCZg0",
        "colab": {
          "base_uri": "https://localhost:8080/"
        },
        "outputId": "6e87697a-07f8-4e7e-b8f8-9c9fb209b905"
      },
      "outputs": [
        {
          "output_type": "stream",
          "name": "stdout",
          "text": [
            "Epoch: 0\n"
          ]
        },
        {
          "output_type": "stream",
          "name": "stderr",
          "text": [
            "Train set: Avg loss: 2.301: : 118it [00:02, 40.09it/s]\n"
          ]
        },
        {
          "output_type": "stream",
          "name": "stdout",
          "text": [
            "Test set:  Avg loss: 2.3019, Accuracy: 1135/10000 (11.3%)\n",
            "Epoch: 1\n"
          ]
        },
        {
          "output_type": "stream",
          "name": "stderr",
          "text": [
            "Train set: Avg loss: 2.302: : 118it [00:03, 30.20it/s]\n"
          ]
        },
        {
          "output_type": "stream",
          "name": "stdout",
          "text": [
            "Test set:  Avg loss: 2.3013, Accuracy: 1135/10000 (11.3%)\n",
            "Epoch: 2\n"
          ]
        },
        {
          "output_type": "stream",
          "name": "stderr",
          "text": [
            "Train set: Avg loss: 2.294: : 118it [00:03, 30.30it/s]\n"
          ]
        },
        {
          "output_type": "stream",
          "name": "stdout",
          "text": [
            "Test set:  Avg loss: 2.3011, Accuracy: 1135/10000 (11.3%)\n",
            "Epoch: 3\n"
          ]
        },
        {
          "output_type": "stream",
          "name": "stderr",
          "text": [
            "Train set: Avg loss: 2.303: : 118it [00:02, 39.69it/s]\n"
          ]
        },
        {
          "output_type": "stream",
          "name": "stdout",
          "text": [
            "Test set:  Avg loss: 2.3010, Accuracy: 1135/10000 (11.3%)\n",
            "Epoch: 4\n"
          ]
        },
        {
          "output_type": "stream",
          "name": "stderr",
          "text": [
            "Train set: Avg loss: 2.294: : 118it [00:02, 39.63it/s]\n"
          ]
        },
        {
          "output_type": "stream",
          "name": "stdout",
          "text": [
            "Test set:  Avg loss: 2.3012, Accuracy: 1135/10000 (11.3%)\n",
            "\n",
            "Completed in  17.91s\n"
          ]
        }
      ],
      "source": [
        "num_epochs = 5\n",
        "model = MLP()\n",
        "start = time.time()\n",
        "train_loss_list = []\n",
        "test_loss_list = []\n",
        "optimizer = SGD(model.parameters(), 0.01)\n",
        "for epoch in range(num_epochs):\n",
        "    train(model, train_loader, optimizer, epoch, train_loss_list)\n",
        "    test(model, test_loader, test_loss_list)\n",
        "    optimizer.step()\n",
        "print(f\"\\nCompleted in {time.time() - start: .2f}s\")"
      ]
    },
    {
      "cell_type": "code",
      "execution_count": 95,
      "metadata": {
        "id": "x6GGPIhZCZg0",
        "colab": {
          "base_uri": "https://localhost:8080/",
          "height": 542
        },
        "outputId": "b66d8178-4793-4842-d520-af8657fcac55"
      },
      "outputs": [
        {
          "output_type": "display_data",
          "data": {
            "text/html": [
              "<html>\n",
              "<head><meta charset=\"utf-8\" /></head>\n",
              "<body>\n",
              "    <div>            <script src=\"https://cdnjs.cloudflare.com/ajax/libs/mathjax/2.7.5/MathJax.js?config=TeX-AMS-MML_SVG\"></script><script type=\"text/javascript\">if (window.MathJax && window.MathJax.Hub && window.MathJax.Hub.Config) {window.MathJax.Hub.Config({SVG: {font: \"STIX-Web\"}});}</script>                <script type=\"text/javascript\">window.PlotlyConfig = {MathJaxConfig: 'local'};</script>\n",
              "        <script charset=\"utf-8\" src=\"https://cdn.plot.ly/plotly-2.35.2.min.js\"></script>                <div id=\"47a4ae72-d20e-4907-a813-d2f6e2d25ae3\" class=\"plotly-graph-div\" style=\"height:525px; width:800px;\"></div>            <script type=\"text/javascript\">                                    window.PLOTLYENV=window.PLOTLYENV || {};                                    if (document.getElementById(\"47a4ae72-d20e-4907-a813-d2f6e2d25ae3\")) {                    Plotly.newPlot(                        \"47a4ae72-d20e-4907-a813-d2f6e2d25ae3\",                        [{\"hovertemplate\":\"Batches seen=%{x}\\u003cbr\\u003eCross entropy loss=%{y}\\u003cextra\\u003e\\u003c\\u002fextra\\u003e\",\"legendgroup\":\"\",\"line\":{\"color\":\"#F8766D\",\"dash\":\"solid\"},\"marker\":{\"symbol\":\"circle\"},\"mode\":\"lines\",\"name\":\"\",\"orientation\":\"v\",\"showlegend\":false,\"x\":[0,1,2,3,4,5,6,7,8,9,10,11,12,13,14,15,16,17,18,19,20,21,22,23,24,25,26,27,28,29,30,31,32,33,34,35,36,37,38,39,40,41,42,43,44,45,46,47,48,49,50,51,52,53,54,55,56,57,58,59,60,61,62,63,64,65,66,67,68,69,70,71,72,73,74,75,76,77,78,79,80,81,82,83,84,85,86,87,88,89,90,91,92,93,94,95,96,97,98,99,100,101,102,103,104,105,106,107,108,109,110,111,112,113,114,115,116,117,118,119,120,121,122,123,124,125,126,127,128,129,130,131,132,133,134,135,136,137,138,139,140,141,142,143,144,145,146,147,148,149,150,151,152,153,154,155,156,157,158,159,160,161,162,163,164,165,166,167,168,169,170,171,172,173,174,175,176,177,178,179,180,181,182,183,184,185,186,187,188,189,190,191,192,193,194,195,196,197,198,199,200,201,202,203,204,205,206,207,208,209,210,211,212,213,214,215,216,217,218,219,220,221,222,223,224,225,226,227,228,229,230,231,232,233,234,235,236,237,238,239,240,241,242,243,244,245,246,247,248,249,250,251,252,253,254,255,256,257,258,259,260,261,262,263,264,265,266,267,268,269,270,271,272,273,274,275,276,277,278,279,280,281,282,283,284,285,286,287,288,289,290,291,292,293,294,295,296,297,298,299,300,301,302,303,304,305,306,307,308,309,310,311,312,313,314,315,316,317,318,319,320,321,322,323,324,325,326,327,328,329,330,331,332,333,334,335,336,337,338,339,340,341,342,343,344,345,346,347,348,349,350,351,352,353,354,355,356,357,358,359,360,361,362,363,364,365,366,367,368,369,370,371,372,373,374,375,376,377,378,379,380,381,382,383,384,385,386,387,388,389,390,391,392,393,394,395,396,397,398,399,400,401,402,403,404,405,406,407,408,409,410,411,412,413,414,415,416,417,418,419,420,421,422,423,424,425,426,427,428,429,430,431,432,433,434,435,436,437,438,439,440,441,442,443,444,445,446,447,448,449,450,451,452,453,454,455,456,457,458,459,460,461,462,463,464,465,466,467,468,469,470,471,472,473,474,475,476,477,478,479,480,481,482,483,484,485,486,487,488,489,490,491,492,493,494,495,496,497,498,499,500,501,502,503,504,505,506,507,508,509,510,511,512,513,514,515,516,517,518,519,520,521,522,523,524,525,526,527,528,529,530,531,532,533,534,535,536,537,538,539,540,541,542,543,544,545,546,547,548,549,550,551,552,553,554,555,556,557,558,559,560,561,562,563,564,565,566,567,568,569,570,571,572,573,574,575,576,577,578,579,580,581,582,583,584,585,586,587,588,589],\"xaxis\":\"x\",\"y\":[2.3025853633880615,2.3025870323181152,2.3025894165039062,2.302600145339966,2.302593231201172,2.302586078643799,2.30257248878479,2.3025450706481934,2.302499294281006,2.3025293350219727,2.3024206161499023,2.3025736808776855,2.302337884902954,2.302473545074463,2.30245041847229,2.302473783493042,2.302452325820923,2.302602767944336,2.3025870323181152,2.302288293838501,2.3024773597717285,2.302624225616455,2.302576780319214,2.302508592605591,2.30252742767334,2.3023924827575684,2.3022983074188232,2.3020858764648438,2.302490711212158,2.302523136138916,2.3023993968963623,2.302382707595825,2.3026680946350098,2.3020083904266357,2.3025755882263184,2.3024210929870605,2.3020100593566895,2.302253246307373,2.302370548248291,2.3021416664123535,2.3022961616516113,2.3019285202026367,2.302657127380371,2.302222967147827,2.3020260334014893,2.3020286560058594,2.3020803928375244,2.3023786544799805,2.3023319244384766,2.301833152770996,2.301654577255249,2.3020126819610596,2.302156925201416,2.302706718444824,2.3026952743530273,2.302262783050537,2.302095651626587,2.3027591705322266,2.3026123046875,2.3019518852233887,2.3016610145568848,2.302217721939087,2.301889419555664,2.3025879859924316,2.3027145862579346,2.30265474319458,2.30210280418396,2.301781415939331,2.3020479679107666,2.301743984222412,2.301908493041992,2.301588296890259,2.301656723022461,2.302114963531494,2.301518440246582,2.3013534545898438,2.301701068878174,2.301882743835449,2.3021621704101562,2.3019914627075195,2.303159713745117,2.302539348602295,2.302685260772705,2.301431179046631,2.3024377822875977,2.302281379699707,2.30185604095459,2.302729845046997,2.3020949363708496,2.302553653717041,2.301846504211426,2.3020424842834473,2.3024494647979736,2.3018221855163574,2.3021209239959717,2.30246639251709,2.3030803203582764,2.3020448684692383,2.3023698329925537,2.302767038345337,2.301945924758911,2.303205728530884,2.3017373085021973,2.302173614501953,2.3016860485076904,2.301086664199829,2.3021199703216553,2.3008155822753906,2.3018007278442383,2.3038597106933594,2.303286075592041,2.3025169372558594,2.3020174503326416,2.3016393184661865,2.3017523288726807,2.3022313117980957,2.30194354057312,2.3005611896514893,2.3017401695251465,2.302272319793701,2.3026485443115234,2.301968812942505,2.3013477325439453,2.3026528358459473,2.302595615386963,2.3029823303222656,2.301168918609619,2.3010895252227783,2.301694393157959,2.301811695098877,2.300628900527954,2.30234694480896,2.3015966415405273,2.3024654388427734,2.30253267288208,2.302093029022217,2.3021581172943115,2.3014395236968994,2.3024215698242188,2.30159068107605,2.3023290634155273,2.3014848232269287,2.3022119998931885,2.302008867263794,2.302624225616455,2.3020401000976562,2.301849603652954,2.301466703414917,2.301518440246582,2.302213191986084,2.3014822006225586,2.30287504196167,2.300428867340088,2.3015942573547363,2.3002920150756836,2.3021509647369385,2.301267147064209,2.301462173461914,2.3009963035583496,2.3020811080932617,2.301363945007324,2.3022549152374268,2.299948215484619,2.3025474548339844,2.302274227142334,2.301085948944092,2.3008036613464355,2.3021645545959473,2.3022308349609375,2.302994966506958,2.3020877838134766,2.3024206161499023,2.30141019821167,2.302311420440674,2.30082368850708,2.301114559173584,2.301360607147217,2.300776958465576,2.3039774894714355,2.302471160888672,2.3001716136932373,2.301408529281616,2.30183744430542,2.3003597259521484,2.3026838302612305,2.3010592460632324,2.3006317615509033,2.300997495651245,2.303974151611328,2.3014345169067383,2.3013997077941895,2.3018507957458496,2.3027842044830322,2.3010311126708984,2.3010501861572266,2.301337242126465,2.3013010025024414,2.3019869327545166,2.302023410797119,2.302060127258301,2.300172805786133,2.3005008697509766,2.2993953227996826,2.3018083572387695,2.3040285110473633,2.3002736568450928,2.3018641471862793,2.302344799041748,2.3003227710723877,2.300403356552124,2.3032243251800537,2.3043618202209473,2.3029441833496094,2.298243522644043,2.3014848232269287,2.3004000186920166,2.303128957748413,2.30179500579834,2.300912380218506,2.303241014480591,2.298764705657959,2.3010451793670654,2.302119731903076,2.3006744384765625,2.3021907806396484,2.3006420135498047,2.3002071380615234,2.3029720783233643,2.300328493118286,2.299785852432251,2.301650047302246,2.3028554916381836,2.301729202270508,2.3006458282470703,2.3025646209716797,2.3018789291381836,2.302150249481201,2.3011667728424072,2.302288293838501,2.299689292907715,2.3022589683532715,2.3014373779296875,2.300999164581299,2.3001761436462402,2.3019328117370605,2.3015339374542236,2.301957130432129,2.300605058670044,2.301457405090332,2.2996113300323486,2.3036208152770996,2.301278829574585,2.3009238243103027,2.302541732788086,2.302072048187256,2.303373336791992,2.299164295196533,2.3010315895080566,2.301170825958252,2.300105094909668,2.304288387298584,2.299370765686035,2.301278829574585,2.2994589805603027,2.301356315612793,2.2983059883117676,2.2996602058410645,2.3013718128204346,2.301826000213623,2.3003170490264893,2.3041911125183105,2.300699234008789,2.300504446029663,2.3005549907684326,2.304504871368408,2.3036341667175293,2.300600051879883,2.300121307373047,2.3017115592956543,2.301546573638916,2.2995591163635254,2.299656867980957,2.3023428916931152,2.3020284175872803,2.2993412017822266,2.3030872344970703,2.2986345291137695,2.3009376525878906,2.3043570518493652,2.302774667739868,2.301793098449707,2.3006138801574707,2.3004355430603027,2.2999634742736816,2.299769878387451,2.3027045726776123,2.3038315773010254,2.3045363426208496,2.302250385284424,2.2989745140075684,2.3007712364196777,2.301884174346924,2.298466444015503,2.303736686706543,2.301703691482544,2.3035950660705566,2.3003733158111572,2.302929401397705,2.300604820251465,2.303439140319824,2.302027463912964,2.302053451538086,2.3005826473236084,2.301628351211548,2.303325891494751,2.304837703704834,2.299821615219116,2.3014304637908936,2.301816463470459,2.298180103302002,2.301321029663086,2.299377918243408,2.302067279815674,2.2996530532836914,2.3013253211975098,2.3011016845703125,2.2989020347595215,2.3016293048858643,2.300572395324707,2.299956798553467,2.2996859550476074,2.3029959201812744,2.303131580352783,2.2978177070617676,2.3024892807006836,2.301909923553467,2.303182601928711,2.3015003204345703,2.299764633178711,2.2986433506011963,2.3017044067382812,2.2986292839050293,2.30208683013916,2.3000316619873047,2.301729917526245,2.3028883934020996,2.305504322052002,2.299306869506836,2.302733898162842,2.3042562007904053,2.300097942352295,2.3000969886779785,2.3015506267547607,2.2940833568573,2.300875663757324,2.3017518520355225,2.302556276321411,2.302715301513672,2.301316976547241,2.2984323501586914,2.2995285987854004,2.2977187633514404,2.300661563873291,2.3006443977355957,2.304191827774048,2.298365592956543,2.3016676902770996,2.301826238632202,2.3002567291259766,2.3028883934020996,2.3011927604675293,2.301030158996582,2.301767587661743,2.300036907196045,2.2994580268859863,2.3023359775543213,2.299530506134033,2.303736686706543,2.30649995803833,2.3023324012756348,2.30470609664917,2.3036680221557617,2.3028407096862793,2.3028993606567383,2.3033697605133057,2.2976462841033936,2.3026039600372314,2.30806303024292,2.3003854751586914,2.3019776344299316,2.301177501678467,2.3025264739990234,2.2989187240600586,2.2995407581329346,2.297313928604126,2.303093910217285,2.3067569732666016,2.2980315685272217,2.3009731769561768,2.3042690753936768,2.2974562644958496,2.304183006286621,2.3030948638916016,2.299619197845459,2.301877021789551,2.3036680221557617,2.303016424179077,2.305650234222412,2.301572799682617,2.305896282196045,2.306971788406372,2.2994446754455566,2.3001303672790527,2.300316333770752,2.3014769554138184,2.2991459369659424,2.3018746376037598,2.299133777618408,2.300410747528076,2.2996442317962646,2.302137613296509,2.3023767471313477,2.3027429580688477,2.297227382659912,2.3015732765197754,2.298856735229492,2.299344062805176,2.2983992099761963,2.3043508529663086,2.2991671562194824,2.2969892024993896,2.300281524658203,2.300971508026123,2.299323081970215,2.3006296157836914,2.3003673553466797,2.3015503883361816,2.3033738136291504,2.3009839057922363,2.2986843585968018,2.306206464767456,2.303396224975586,2.3052351474761963,2.295480728149414,2.2999024391174316,2.298462390899658,2.298586845397949,2.2993335723876953,2.301846981048584,2.297534704208374,2.3010053634643555,2.297630786895752,2.303800106048584,2.298821210861206,2.3036298751831055,2.2999472618103027,2.3023440837860107,2.30243182182312,2.2984418869018555,2.299459218978882,2.304234027862549,2.3020126819610596,2.3000354766845703,2.300887107849121,2.2961859703063965,2.2968087196350098,2.303215503692627,2.300360679626465,2.2983415126800537,2.300891399383545,2.3003931045532227,2.302910566329956,2.3039989471435547,2.2997965812683105,2.3003039360046387,2.299187660217285,2.304072856903076,2.3029160499572754,2.296532392501831,2.302311897277832,2.300826072692871,2.3027665615081787,2.304133176803589,2.2997798919677734,2.2989797592163086,2.298933506011963,2.307063341140747,2.3017354011535645,2.29685115814209,2.2992897033691406,2.3002514839172363,2.29837703704834,2.3030614852905273,2.2992424964904785,2.302288293838501,2.2973954677581787,2.2977070808410645,2.2988083362579346,2.3057286739349365,2.2997570037841797,2.306554079055786,2.3021302223205566,2.2979087829589844,2.3024611473083496,2.2956581115722656,2.3014845848083496,2.3004257678985596,2.2982285022735596,2.302216053009033,2.304293632507324,2.302600383758545,2.3040213584899902,2.299409866333008,2.297027826309204,2.2970595359802246,2.308736801147461,2.2977523803710938,2.3013644218444824,2.3036746978759766,2.3072946071624756,2.302849292755127,2.3056085109710693,2.3002805709838867,2.303279399871826,2.300471305847168,2.300102710723877,2.302983283996582,2.298886299133301,2.2964515686035156,2.3004865646362305,2.2987217903137207,2.3007373809814453,2.3041422367095947,2.30344820022583,2.3030893802642822,2.3014774322509766,2.300297260284424,2.2944507598876953,2.301952838897705,2.3054404258728027,2.2980782985687256,2.296679735183716,2.3040220737457275,2.303149938583374,2.295555591583252,2.30163311958313,2.300899028778076,2.298677444458008,2.3078830242156982,2.3042376041412354,2.3047754764556885,2.3035783767700195,2.3005175590515137,2.299062728881836,2.300522565841675,2.295224189758301,2.295501708984375,2.305175304412842,2.3063430786132812,2.2987918853759766,2.3052573204040527,2.305112600326538,2.301448106765747,2.306014060974121,2.2963366508483887,2.3000094890594482,2.304478645324707,2.3016669750213623,2.304828643798828,2.3024981021881104,2.2956082820892334,2.3030409812927246,2.3018221855163574,2.303938627243042,2.3073346614837646,2.3000476360321045,2.300631284713745,2.300535202026367,2.3027822971343994,2.30313777923584,2.3005518913269043,2.302302360534668,2.301422119140625,2.300734519958496,2.300445079803467,2.3083956241607666,2.3061118125915527,2.2944865226745605,2.295900344848633,2.2936699390411377],\"yaxis\":\"y\",\"type\":\"scatter\"}],                        {\"template\":{\"data\":{\"barpolar\":[{\"marker\":{\"line\":{\"color\":\"rgb(237,237,237)\",\"width\":0.5},\"pattern\":{\"fillmode\":\"overlay\",\"size\":10,\"solidity\":0.2}},\"type\":\"barpolar\"}],\"bar\":[{\"error_x\":{\"color\":\"rgb(51,51,51)\"},\"error_y\":{\"color\":\"rgb(51,51,51)\"},\"marker\":{\"line\":{\"color\":\"rgb(237,237,237)\",\"width\":0.5},\"pattern\":{\"fillmode\":\"overlay\",\"size\":10,\"solidity\":0.2}},\"type\":\"bar\"}],\"carpet\":[{\"aaxis\":{\"endlinecolor\":\"rgb(51,51,51)\",\"gridcolor\":\"white\",\"linecolor\":\"white\",\"minorgridcolor\":\"white\",\"startlinecolor\":\"rgb(51,51,51)\"},\"baxis\":{\"endlinecolor\":\"rgb(51,51,51)\",\"gridcolor\":\"white\",\"linecolor\":\"white\",\"minorgridcolor\":\"white\",\"startlinecolor\":\"rgb(51,51,51)\"},\"type\":\"carpet\"}],\"choropleth\":[{\"colorbar\":{\"outlinewidth\":0,\"tickcolor\":\"rgb(237,237,237)\",\"ticklen\":6,\"ticks\":\"inside\"},\"type\":\"choropleth\"}],\"contourcarpet\":[{\"colorbar\":{\"outlinewidth\":0,\"tickcolor\":\"rgb(237,237,237)\",\"ticklen\":6,\"ticks\":\"inside\"},\"type\":\"contourcarpet\"}],\"contour\":[{\"colorbar\":{\"outlinewidth\":0,\"tickcolor\":\"rgb(237,237,237)\",\"ticklen\":6,\"ticks\":\"inside\"},\"colorscale\":[[0,\"rgb(20,44,66)\"],[1,\"rgb(90,179,244)\"]],\"type\":\"contour\"}],\"heatmapgl\":[{\"colorbar\":{\"outlinewidth\":0,\"tickcolor\":\"rgb(237,237,237)\",\"ticklen\":6,\"ticks\":\"inside\"},\"colorscale\":[[0,\"rgb(20,44,66)\"],[1,\"rgb(90,179,244)\"]],\"type\":\"heatmapgl\"}],\"heatmap\":[{\"colorbar\":{\"outlinewidth\":0,\"tickcolor\":\"rgb(237,237,237)\",\"ticklen\":6,\"ticks\":\"inside\"},\"colorscale\":[[0,\"rgb(20,44,66)\"],[1,\"rgb(90,179,244)\"]],\"type\":\"heatmap\"}],\"histogram2dcontour\":[{\"colorbar\":{\"outlinewidth\":0,\"tickcolor\":\"rgb(237,237,237)\",\"ticklen\":6,\"ticks\":\"inside\"},\"colorscale\":[[0,\"rgb(20,44,66)\"],[1,\"rgb(90,179,244)\"]],\"type\":\"histogram2dcontour\"}],\"histogram2d\":[{\"colorbar\":{\"outlinewidth\":0,\"tickcolor\":\"rgb(237,237,237)\",\"ticklen\":6,\"ticks\":\"inside\"},\"colorscale\":[[0,\"rgb(20,44,66)\"],[1,\"rgb(90,179,244)\"]],\"type\":\"histogram2d\"}],\"histogram\":[{\"marker\":{\"pattern\":{\"fillmode\":\"overlay\",\"size\":10,\"solidity\":0.2}},\"type\":\"histogram\"}],\"mesh3d\":[{\"colorbar\":{\"outlinewidth\":0,\"tickcolor\":\"rgb(237,237,237)\",\"ticklen\":6,\"ticks\":\"inside\"},\"type\":\"mesh3d\"}],\"parcoords\":[{\"line\":{\"colorbar\":{\"outlinewidth\":0,\"tickcolor\":\"rgb(237,237,237)\",\"ticklen\":6,\"ticks\":\"inside\"}},\"type\":\"parcoords\"}],\"pie\":[{\"automargin\":true,\"type\":\"pie\"}],\"scatter3d\":[{\"line\":{\"colorbar\":{\"outlinewidth\":0,\"tickcolor\":\"rgb(237,237,237)\",\"ticklen\":6,\"ticks\":\"inside\"}},\"marker\":{\"colorbar\":{\"outlinewidth\":0,\"tickcolor\":\"rgb(237,237,237)\",\"ticklen\":6,\"ticks\":\"inside\"}},\"type\":\"scatter3d\"}],\"scattercarpet\":[{\"marker\":{\"colorbar\":{\"outlinewidth\":0,\"tickcolor\":\"rgb(237,237,237)\",\"ticklen\":6,\"ticks\":\"inside\"}},\"type\":\"scattercarpet\"}],\"scattergeo\":[{\"marker\":{\"colorbar\":{\"outlinewidth\":0,\"tickcolor\":\"rgb(237,237,237)\",\"ticklen\":6,\"ticks\":\"inside\"}},\"type\":\"scattergeo\"}],\"scattergl\":[{\"marker\":{\"colorbar\":{\"outlinewidth\":0,\"tickcolor\":\"rgb(237,237,237)\",\"ticklen\":6,\"ticks\":\"inside\"}},\"type\":\"scattergl\"}],\"scattermapbox\":[{\"marker\":{\"colorbar\":{\"outlinewidth\":0,\"tickcolor\":\"rgb(237,237,237)\",\"ticklen\":6,\"ticks\":\"inside\"}},\"type\":\"scattermapbox\"}],\"scatterpolargl\":[{\"marker\":{\"colorbar\":{\"outlinewidth\":0,\"tickcolor\":\"rgb(237,237,237)\",\"ticklen\":6,\"ticks\":\"inside\"}},\"type\":\"scatterpolargl\"}],\"scatterpolar\":[{\"marker\":{\"colorbar\":{\"outlinewidth\":0,\"tickcolor\":\"rgb(237,237,237)\",\"ticklen\":6,\"ticks\":\"inside\"}},\"type\":\"scatterpolar\"}],\"scatter\":[{\"fillpattern\":{\"fillmode\":\"overlay\",\"size\":10,\"solidity\":0.2},\"type\":\"scatter\"}],\"scatterternary\":[{\"marker\":{\"colorbar\":{\"outlinewidth\":0,\"tickcolor\":\"rgb(237,237,237)\",\"ticklen\":6,\"ticks\":\"inside\"}},\"type\":\"scatterternary\"}],\"surface\":[{\"colorbar\":{\"outlinewidth\":0,\"tickcolor\":\"rgb(237,237,237)\",\"ticklen\":6,\"ticks\":\"inside\"},\"colorscale\":[[0,\"rgb(20,44,66)\"],[1,\"rgb(90,179,244)\"]],\"type\":\"surface\"}],\"table\":[{\"cells\":{\"fill\":{\"color\":\"rgb(237,237,237)\"},\"line\":{\"color\":\"white\"}},\"header\":{\"fill\":{\"color\":\"rgb(217,217,217)\"},\"line\":{\"color\":\"white\"}},\"type\":\"table\"}]},\"layout\":{\"annotationdefaults\":{\"arrowhead\":0,\"arrowwidth\":1},\"autotypenumbers\":\"strict\",\"coloraxis\":{\"colorbar\":{\"outlinewidth\":0,\"tickcolor\":\"rgb(237,237,237)\",\"ticklen\":6,\"ticks\":\"inside\"}},\"colorscale\":{\"sequential\":[[0,\"rgb(20,44,66)\"],[1,\"rgb(90,179,244)\"]],\"sequentialminus\":[[0,\"rgb(20,44,66)\"],[1,\"rgb(90,179,244)\"]]},\"colorway\":[\"#F8766D\",\"#A3A500\",\"#00BF7D\",\"#00B0F6\",\"#E76BF3\"],\"font\":{\"color\":\"rgb(51,51,51)\"},\"geo\":{\"bgcolor\":\"white\",\"lakecolor\":\"white\",\"landcolor\":\"rgb(237,237,237)\",\"showlakes\":true,\"showland\":true,\"subunitcolor\":\"white\"},\"hoverlabel\":{\"align\":\"left\"},\"hovermode\":\"closest\",\"paper_bgcolor\":\"white\",\"plot_bgcolor\":\"rgb(237,237,237)\",\"polar\":{\"angularaxis\":{\"gridcolor\":\"white\",\"linecolor\":\"white\",\"showgrid\":true,\"tickcolor\":\"rgb(51,51,51)\",\"ticks\":\"outside\"},\"bgcolor\":\"rgb(237,237,237)\",\"radialaxis\":{\"gridcolor\":\"white\",\"linecolor\":\"white\",\"showgrid\":true,\"tickcolor\":\"rgb(51,51,51)\",\"ticks\":\"outside\"}},\"scene\":{\"xaxis\":{\"backgroundcolor\":\"rgb(237,237,237)\",\"gridcolor\":\"white\",\"gridwidth\":2,\"linecolor\":\"white\",\"showbackground\":true,\"showgrid\":true,\"tickcolor\":\"rgb(51,51,51)\",\"ticks\":\"outside\",\"zerolinecolor\":\"white\"},\"yaxis\":{\"backgroundcolor\":\"rgb(237,237,237)\",\"gridcolor\":\"white\",\"gridwidth\":2,\"linecolor\":\"white\",\"showbackground\":true,\"showgrid\":true,\"tickcolor\":\"rgb(51,51,51)\",\"ticks\":\"outside\",\"zerolinecolor\":\"white\"},\"zaxis\":{\"backgroundcolor\":\"rgb(237,237,237)\",\"gridcolor\":\"white\",\"gridwidth\":2,\"linecolor\":\"white\",\"showbackground\":true,\"showgrid\":true,\"tickcolor\":\"rgb(51,51,51)\",\"ticks\":\"outside\",\"zerolinecolor\":\"white\"}},\"shapedefaults\":{\"fillcolor\":\"black\",\"line\":{\"width\":0},\"opacity\":0.3},\"ternary\":{\"aaxis\":{\"gridcolor\":\"white\",\"linecolor\":\"white\",\"showgrid\":true,\"tickcolor\":\"rgb(51,51,51)\",\"ticks\":\"outside\"},\"baxis\":{\"gridcolor\":\"white\",\"linecolor\":\"white\",\"showgrid\":true,\"tickcolor\":\"rgb(51,51,51)\",\"ticks\":\"outside\"},\"bgcolor\":\"rgb(237,237,237)\",\"caxis\":{\"gridcolor\":\"white\",\"linecolor\":\"white\",\"showgrid\":true,\"tickcolor\":\"rgb(51,51,51)\",\"ticks\":\"outside\"}},\"xaxis\":{\"automargin\":true,\"gridcolor\":\"white\",\"linecolor\":\"white\",\"showgrid\":true,\"tickcolor\":\"rgb(51,51,51)\",\"ticks\":\"outside\",\"title\":{\"standoff\":15},\"zerolinecolor\":\"white\"},\"yaxis\":{\"automargin\":true,\"gridcolor\":\"white\",\"linecolor\":\"white\",\"showgrid\":true,\"tickcolor\":\"rgb(51,51,51)\",\"ticks\":\"outside\",\"title\":{\"standoff\":15},\"zerolinecolor\":\"white\"}}},\"xaxis\":{\"anchor\":\"y\",\"domain\":[0.0,1.0],\"title\":{\"text\":\"Batches seen\"}},\"yaxis\":{\"anchor\":\"x\",\"domain\":[0.0,1.0],\"title\":{\"text\":\"Cross entropy loss\"},\"range\":[0,2.408736801147461]},\"legend\":{\"tracegroupgap\":0},\"title\":{\"text\":\"ConvNet training on MNIST\"},\"width\":800,\"hovermode\":\"x unified\"},                        {\"responsive\": true}                    ).then(function(){\n",
              "                            \n",
              "var gd = document.getElementById('47a4ae72-d20e-4907-a813-d2f6e2d25ae3');\n",
              "var x = new MutationObserver(function (mutations, observer) {{\n",
              "        var display = window.getComputedStyle(gd).display;\n",
              "        if (!display || display === 'none') {{\n",
              "            console.log([gd, 'removed!']);\n",
              "            Plotly.purge(gd);\n",
              "            observer.disconnect();\n",
              "        }}\n",
              "}});\n",
              "\n",
              "// Listen for the removal of the full notebook cells\n",
              "var notebookContainer = gd.closest('#notebook-container');\n",
              "if (notebookContainer) {{\n",
              "    x.observe(notebookContainer, {childList: true});\n",
              "}}\n",
              "\n",
              "// Listen for the clearing of the current output cell\n",
              "var outputEl = gd.closest('.output');\n",
              "if (outputEl) {{\n",
              "    x.observe(outputEl, {childList: true});\n",
              "}}\n",
              "\n",
              "                        })                };                            </script>        </div>\n",
              "</body>\n",
              "</html>"
            ]
          },
          "metadata": {}
        }
      ],
      "source": [
        "line(\n",
        "    train_loss_list,\n",
        "    yaxis_range=[0, max(train_loss_list) + 0.1],\n",
        "    labels={\"x\": \"Batches seen\", \"y\": \"Cross entropy loss\"},\n",
        "    title=\"ConvNet training on MNIST\",\n",
        "    width=800,\n",
        "    hovermode=\"x unified\",\n",
        "    template=\"ggplot2\", # alternative aesthetic for your plots (-:\n",
        ")"
      ]
    },
    {
      "cell_type": "markdown",
      "metadata": {
        "id": "4KrTxryGCZg1"
      },
      "source": [
        "Note - this training loop (if done correctly) will look to the one we used in earlier sections is that we're using SGD rather than Adam. You can try adapting your Adam code from the previous day's exercises, and get the same results as you have in earlier sections.\n"
      ]
    },
    {
      "cell_type": "markdown",
      "metadata": {
        "id": "xrQf_TphZg09"
      },
      "source": [
        "# 5️⃣ Bonus\n"
      ]
    },
    {
      "cell_type": "markdown",
      "metadata": {
        "id": "hd7XacjNehrM"
      },
      "source": [
        "Congratulations on finishing the day's main content! Here are a few more bonus things for you to explore.\n"
      ]
    },
    {
      "cell_type": "markdown",
      "metadata": {
        "id": "_l8KV_t7ZnOj"
      },
      "source": [
        "### In-Place Operation Warnings\n",
        "\n",
        "The most severe issue with our current system is that it can silently compute the wrong gradients when in-place operations are used. Have a look at how [PyTorch handles it](https://pytorch.org/docs/stable/notes/autograd.html#in-place-operations-with-autograd) and implement a similar system yourself so that it either computes the right gradients, or raises a warning.\n"
      ]
    },
    {
      "cell_type": "markdown",
      "metadata": {
        "id": "l4r6CjgSZ1ZB"
      },
      "source": [
        "### In-Place `ReLU`\n",
        "\n",
        "Instead of implementing ReLU in terms of maximum, implement your own forward and backward functions that support `inplace=True`.\n"
      ]
    },
    {
      "cell_type": "markdown",
      "metadata": {
        "id": "XyOUJOYKZ2iN"
      },
      "source": [
        "### Backward for `einsum`\n",
        "\n",
        "Write the backward pass for your equivalent of `torch.einsum`.\n"
      ]
    },
    {
      "cell_type": "markdown",
      "metadata": {
        "id": "uqnlEHmjZ3h4"
      },
      "source": [
        "### Reuse of Module during forward\n",
        "\n",
        "Consider the following MLP, where the same `nn.ReLU` instance is used twice in the forward pass. Without running the code, explain whether this works correctly or not with reference to the specifics of your implementation.\n",
        "\n",
        "```python\n",
        "class MyModule(Module):\n",
        "    def __init__(self):\n",
        "        super().__init__()\n",
        "        self.linear1 = Linear(28*28, 64)\n",
        "        self.linear2 = Linear(64, 64)\n",
        "        self.linear3 = Linear(64, 10)\n",
        "        self.relu = ReLU()\n",
        "    def forward(self, x):\n",
        "        x = self.relu(self.linear1(x))\n",
        "        x = self.relu(self.linear2(x))\n",
        "        return self.linear3(x)\n",
        "```\n",
        "\n",
        "<details>\n",
        "<summary>Answer (what you should find)</summary>\n",
        "\n",
        "This implementation will work correctly.\n",
        "\n",
        "The danger of reusing modules is that you'd be creating a cyclical computational graph (because the same parameters would appear twice), but the `ReLU` module doesn't have any parameters (or any internal state), so this isn't a problem. It's effectively just a wrapper for the `relu` function, and you could replace `self.relu` with applying the `relu` function directly without changing the model's behaviour.\n",
        "\n",
        "This is slightly different if we're thinking about adding **hooks** to our model. Hooks are functions that are called during the forward or backward pass, and they can be used to inspect the state of the model during training. We generally want each hook to be associated with a single position in the model, rather than being called at two different points.\n",
        "</details>\n"
      ]
    },
    {
      "cell_type": "markdown",
      "metadata": {
        "id": "CIKjArprZ5Gd"
      },
      "source": [
        "### Convolutional layers\n",
        "\n",
        "Now that you've implemented a linear layer, it should be relatively straightforward to take your convolutions code from day 2 and use it to make a convolutional layer. How much better performance do you get on the MNIST task once you replace your first two linear layers with convolutions?\n"
      ]
    },
    {
      "cell_type": "markdown",
      "metadata": {
        "id": "OW7FzFaAZzhQ"
      },
      "source": [
        "### ResNet Support\n",
        "\n",
        "Make a list of the features that would need to be implemented to support ResNet inference, and training. It will probably take too long to do all of them, but pick some interesting features to start implementing.\n"
      ]
    },
    {
      "cell_type": "markdown",
      "metadata": {
        "id": "EtgjwuT8Zv9d"
      },
      "source": [
        "### Central Difference Checking\n",
        "\n",
        "Write a function that compares the gradients from your backprop to a central difference method. See [Wikipedia](https://en.wikipedia.org/wiki/Finite_difference) for more details.\n"
      ]
    },
    {
      "cell_type": "markdown",
      "metadata": {
        "id": "e98C8RSRZrcZ"
      },
      "source": [
        "### Non-Differentiable Function Support\n",
        "\n",
        "Your `Tensor` does not currently support equivalents of `torch.all`, `torch.any`, `torch.floor`, `torch.less`, etc. which are non-differentiable functions of Tensors. Implement them so that they are usable in computational graphs, but gradients shouldn't flow through them (their contribution is zero).\n"
      ]
    },
    {
      "cell_type": "markdown",
      "metadata": {
        "id": "ZDUhoD1HZs3F"
      },
      "source": [
        "### Differentiation wrt Keyword Arguments\n",
        "\n",
        "In the real PyTorch, you can sometimes pass tensors as keyword arguments and differentiation will work, as in `t.add(other=t.tensor([3,4]), input=t.tensor([1,2]))`. In other similar looking cases like `t.dot`, it raises an error that the argument must be passed positionally. Decide on a desired behavior in your system and implement and test it.\n"
      ]
    },
    {
      "cell_type": "markdown",
      "metadata": {
        "id": "cyzvfnCJZuGx"
      },
      "source": [
        "### `torch.stack`\n",
        "\n",
        "So far we've registered a separate backwards for each input argument that could be a Tensor. This is problematic if the function can take any number of tensors like `torch.stack` or `numpy.stack`. Think of and implement the backward function for stack. It may require modification to your other code.\n"
      ]
    }
  ],
  "metadata": {
    "colab": {
      "collapsed_sections": [
        "xrQf_TphZg09"
      ],
      "provenance": [],
      "gpuClass": "premium"
    },
    "kernelspec": {
      "display_name": "Python 3",
      "name": "python3"
    },
    "language_info": {
      "codemirror_mode": {
        "name": "ipython",
        "version": 3
      },
      "file_extension": ".py",
      "mimetype": "text/x-python",
      "name": "python",
      "nbconvert_exporter": "python",
      "pygments_lexer": "ipython3",
      "version": "3.10.9"
    }
  },
  "nbformat": 4,
  "nbformat_minor": 0
}